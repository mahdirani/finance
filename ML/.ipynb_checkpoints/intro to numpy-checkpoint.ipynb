{
 "cells": [
  {
   "cell_type": "code",
   "execution_count": 1,
   "metadata": {
    "ExecuteTime": {
     "end_time": "2023-08-11T16:11:17.229586437Z",
     "start_time": "2023-08-11T16:11:17.201264186Z"
    }
   },
   "outputs": [],
   "source": [
    "import numpy as np"
   ]
  },
  {
   "cell_type": "markdown",
   "metadata": {},
   "source": [
    "## Datatypes and Attributes"
   ]
  },
  {
   "cell_type": "code",
   "execution_count": 2,
   "metadata": {
    "ExecuteTime": {
     "end_time": "2023-08-11T16:14:05.369362066Z",
     "start_time": "2023-08-11T16:14:05.317914813Z"
    }
   },
   "outputs": [
    {
     "data": {
      "text/plain": [
       "array([1, 2, 3])"
      ]
     },
     "execution_count": 2,
     "metadata": {},
     "output_type": "execute_result"
    }
   ],
   "source": [
    "# numpys's main datatype is ndarray\n",
    "a1 = np.array([1, 2, 3])\n",
    "a1"
   ]
  },
  {
   "cell_type": "code",
   "execution_count": 3,
   "metadata": {
    "ExecuteTime": {
     "end_time": "2023-08-11T16:15:24.246195462Z",
     "start_time": "2023-08-11T16:15:24.209211288Z"
    }
   },
   "outputs": [
    {
     "data": {
      "text/plain": [
       "numpy.ndarray"
      ]
     },
     "execution_count": 3,
     "metadata": {},
     "output_type": "execute_result"
    }
   ],
   "source": [
    "type(a1)"
   ]
  },
  {
   "cell_type": "code",
   "execution_count": 4,
   "metadata": {
    "ExecuteTime": {
     "end_time": "2023-08-11T16:19:40.960485488Z",
     "start_time": "2023-08-11T16:19:40.907785388Z"
    }
   },
   "outputs": [],
   "source": [
    "a2 = np.array([[1, 2.0, 3.3],\n",
    "               [4, 5, 6.5]])\n",
    "a3 = np.array([[[1, 2, 3],\n",
    "               [4, 5, 6],\n",
    "               [7, 8, 9]],\n",
    "              [[10, 11, 12],\n",
    "               [13, 14, 15],\n",
    "               [16, 17, 18]]])"
   ]
  },
  {
   "cell_type": "code",
   "execution_count": 5,
   "metadata": {
    "ExecuteTime": {
     "end_time": "2023-08-11T16:19:43.612769126Z",
     "start_time": "2023-08-11T16:19:43.606460813Z"
    }
   },
   "outputs": [
    {
     "data": {
      "text/plain": [
       "array([[1. , 2. , 3.3],\n",
       "       [4. , 5. , 6.5]])"
      ]
     },
     "execution_count": 5,
     "metadata": {},
     "output_type": "execute_result"
    }
   ],
   "source": [
    "a2"
   ]
  },
  {
   "cell_type": "code",
   "execution_count": 6,
   "metadata": {
    "ExecuteTime": {
     "end_time": "2023-08-11T16:19:46.826692079Z",
     "start_time": "2023-08-11T16:19:46.804343583Z"
    }
   },
   "outputs": [
    {
     "data": {
      "text/plain": [
       "array([[[ 1,  2,  3],\n",
       "        [ 4,  5,  6],\n",
       "        [ 7,  8,  9]],\n",
       "\n",
       "       [[10, 11, 12],\n",
       "        [13, 14, 15],\n",
       "        [16, 17, 18]]])"
      ]
     },
     "execution_count": 6,
     "metadata": {},
     "output_type": "execute_result"
    }
   ],
   "source": [
    "a3"
   ]
  },
  {
   "cell_type": "code",
   "execution_count": 7,
   "metadata": {
    "ExecuteTime": {
     "end_time": "2023-08-11T16:23:25.853428397Z",
     "start_time": "2023-08-11T16:23:25.836144928Z"
    }
   },
   "outputs": [
    {
     "data": {
      "text/plain": [
       "(3,)"
      ]
     },
     "execution_count": 7,
     "metadata": {},
     "output_type": "execute_result"
    }
   ],
   "source": [
    "a1.shape"
   ]
  },
  {
   "cell_type": "code",
   "execution_count": 8,
   "metadata": {
    "ExecuteTime": {
     "end_time": "2023-08-11T16:23:46.727050590Z",
     "start_time": "2023-08-11T16:23:46.697553740Z"
    }
   },
   "outputs": [
    {
     "data": {
      "text/plain": [
       "(2, 3)"
      ]
     },
     "execution_count": 8,
     "metadata": {},
     "output_type": "execute_result"
    }
   ],
   "source": [
    "a2.shape"
   ]
  },
  {
   "cell_type": "code",
   "execution_count": 9,
   "metadata": {
    "ExecuteTime": {
     "end_time": "2023-08-11T16:23:58.704920708Z",
     "start_time": "2023-08-11T16:23:58.684231866Z"
    }
   },
   "outputs": [
    {
     "data": {
      "text/plain": [
       "(2, 3, 3)"
      ]
     },
     "execution_count": 9,
     "metadata": {},
     "output_type": "execute_result"
    }
   ],
   "source": [
    "a3.shape"
   ]
  },
  {
   "cell_type": "code",
   "execution_count": 10,
   "metadata": {
    "ExecuteTime": {
     "end_time": "2023-08-11T16:24:33.346520364Z",
     "start_time": "2023-08-11T16:24:33.303836037Z"
    }
   },
   "outputs": [
    {
     "data": {
      "text/plain": [
       "(1, 2, 3)"
      ]
     },
     "execution_count": 10,
     "metadata": {},
     "output_type": "execute_result"
    }
   ],
   "source": [
    "a1.ndim, a2.ndim, a3.ndim"
   ]
  },
  {
   "cell_type": "code",
   "execution_count": 11,
   "metadata": {
    "ExecuteTime": {
     "end_time": "2023-08-11T16:26:56.324953758Z",
     "start_time": "2023-08-11T16:26:56.276816245Z"
    }
   },
   "outputs": [
    {
     "data": {
      "text/plain": [
       "(dtype('int64'), dtype('float64'), dtype('int64'))"
      ]
     },
     "execution_count": 11,
     "metadata": {},
     "output_type": "execute_result"
    }
   ],
   "source": [
    "a1.dtype, a2.dtype, a3.dtype"
   ]
  },
  {
   "cell_type": "code",
   "execution_count": 12,
   "metadata": {
    "ExecuteTime": {
     "end_time": "2023-08-11T16:27:15.241272477Z",
     "start_time": "2023-08-11T16:27:15.220479595Z"
    }
   },
   "outputs": [
    {
     "data": {
      "text/plain": [
       "(3, 6, 18)"
      ]
     },
     "execution_count": 12,
     "metadata": {},
     "output_type": "execute_result"
    }
   ],
   "source": [
    "a1.size, a2.size, a3.size"
   ]
  },
  {
   "cell_type": "code",
   "execution_count": 13,
   "metadata": {
    "ExecuteTime": {
     "end_time": "2023-08-11T16:27:50.007250679Z",
     "start_time": "2023-08-11T16:27:49.986527715Z"
    }
   },
   "outputs": [
    {
     "data": {
      "text/plain": [
       "(numpy.ndarray, numpy.ndarray, numpy.ndarray)"
      ]
     },
     "execution_count": 13,
     "metadata": {},
     "output_type": "execute_result"
    }
   ],
   "source": [
    "type(a1), type(a2), type(a3)"
   ]
  },
  {
   "cell_type": "code",
   "execution_count": 14,
   "metadata": {
    "ExecuteTime": {
     "end_time": "2023-08-11T16:29:02.138593193Z",
     "start_time": "2023-08-11T16:29:02.112556988Z"
    }
   },
   "outputs": [],
   "source": [
    "# Create a DataFrame from a numpy array\n",
    "import pandas as pd"
   ]
  },
  {
   "cell_type": "code",
   "execution_count": 15,
   "metadata": {
    "ExecuteTime": {
     "end_time": "2023-08-11T16:29:40.592571909Z",
     "start_time": "2023-08-11T16:29:40.568697176Z"
    }
   },
   "outputs": [
    {
     "data": {
      "text/html": [
       "<div>\n",
       "<style scoped>\n",
       "    .dataframe tbody tr th:only-of-type {\n",
       "        vertical-align: middle;\n",
       "    }\n",
       "\n",
       "    .dataframe tbody tr th {\n",
       "        vertical-align: top;\n",
       "    }\n",
       "\n",
       "    .dataframe thead th {\n",
       "        text-align: right;\n",
       "    }\n",
       "</style>\n",
       "<table border=\"1\" class=\"dataframe\">\n",
       "  <thead>\n",
       "    <tr style=\"text-align: right;\">\n",
       "      <th></th>\n",
       "      <th>0</th>\n",
       "      <th>1</th>\n",
       "      <th>2</th>\n",
       "    </tr>\n",
       "  </thead>\n",
       "  <tbody>\n",
       "    <tr>\n",
       "      <th>0</th>\n",
       "      <td>1.0</td>\n",
       "      <td>2.0</td>\n",
       "      <td>3.3</td>\n",
       "    </tr>\n",
       "    <tr>\n",
       "      <th>1</th>\n",
       "      <td>4.0</td>\n",
       "      <td>5.0</td>\n",
       "      <td>6.5</td>\n",
       "    </tr>\n",
       "  </tbody>\n",
       "</table>\n",
       "</div>"
      ],
      "text/plain": [
       "     0    1    2\n",
       "0  1.0  2.0  3.3\n",
       "1  4.0  5.0  6.5"
      ]
     },
     "execution_count": 15,
     "metadata": {},
     "output_type": "execute_result"
    }
   ],
   "source": [
    "df = pd.DataFrame(a2)\n",
    "df"
   ]
  },
  {
   "cell_type": "markdown",
   "metadata": {},
   "source": [
    "# creating numpy arrays"
   ]
  },
  {
   "cell_type": "code",
   "execution_count": 16,
   "metadata": {
    "ExecuteTime": {
     "end_time": "2023-08-11T16:32:31.108547116Z",
     "start_time": "2023-08-11T16:32:31.068716820Z"
    }
   },
   "outputs": [
    {
     "data": {
      "text/plain": [
       "array([1, 2, 3])"
      ]
     },
     "execution_count": 16,
     "metadata": {},
     "output_type": "execute_result"
    }
   ],
   "source": [
    "sample_arrays = np.array([1, 2, 3])\n",
    "sample_arrays"
   ]
  },
  {
   "cell_type": "code",
   "execution_count": 17,
   "metadata": {
    "ExecuteTime": {
     "end_time": "2023-08-11T16:33:26.349519280Z",
     "start_time": "2023-08-11T16:33:26.327366582Z"
    }
   },
   "outputs": [
    {
     "data": {
      "text/plain": [
       "dtype('int64')"
      ]
     },
     "execution_count": 17,
     "metadata": {},
     "output_type": "execute_result"
    }
   ],
   "source": [
    "sample_arrays.dtype"
   ]
  },
  {
   "cell_type": "code",
   "execution_count": 18,
   "metadata": {
    "ExecuteTime": {
     "end_time": "2023-08-11T16:35:46.707598818Z",
     "start_time": "2023-08-11T16:35:46.696440341Z"
    }
   },
   "outputs": [
    {
     "data": {
      "text/plain": [
       "array([[1, 1, 1, 1, 1, 1],\n",
       "       [1, 1, 1, 1, 1, 1],\n",
       "       [1, 1, 1, 1, 1, 1],\n",
       "       [1, 1, 1, 1, 1, 1],\n",
       "       [1, 1, 1, 1, 1, 1],\n",
       "       [1, 1, 1, 1, 1, 1],\n",
       "       [1, 1, 1, 1, 1, 1],\n",
       "       [1, 1, 1, 1, 1, 1],\n",
       "       [1, 1, 1, 1, 1, 1],\n",
       "       [1, 1, 1, 1, 1, 1]])"
      ]
     },
     "execution_count": 18,
     "metadata": {},
     "output_type": "execute_result"
    }
   ],
   "source": [
    "ones = np.ones((10, 6), dtype=int)\n",
    "ones"
   ]
  },
  {
   "cell_type": "code",
   "execution_count": 19,
   "metadata": {
    "ExecuteTime": {
     "end_time": "2023-08-11T16:35:47.568828297Z",
     "start_time": "2023-08-11T16:35:47.556987478Z"
    }
   },
   "outputs": [
    {
     "data": {
      "text/plain": [
       "dtype('int64')"
      ]
     },
     "execution_count": 19,
     "metadata": {},
     "output_type": "execute_result"
    }
   ],
   "source": [
    "ones.dtype"
   ]
  },
  {
   "cell_type": "code",
   "execution_count": 20,
   "metadata": {
    "ExecuteTime": {
     "end_time": "2023-08-11T16:35:57.582479142Z",
     "start_time": "2023-08-11T16:35:57.563910640Z"
    }
   },
   "outputs": [
    {
     "data": {
      "text/plain": [
       "numpy.ndarray"
      ]
     },
     "execution_count": 20,
     "metadata": {},
     "output_type": "execute_result"
    }
   ],
   "source": [
    "type(ones)"
   ]
  },
  {
   "cell_type": "code",
   "execution_count": 21,
   "metadata": {
    "ExecuteTime": {
     "end_time": "2023-08-11T16:36:36.742583873Z",
     "start_time": "2023-08-11T16:36:36.734586292Z"
    }
   },
   "outputs": [
    {
     "data": {
      "text/plain": [
       "array([[0., 0.],\n",
       "       [0., 0.],\n",
       "       [0., 0.],\n",
       "       [0., 0.]])"
      ]
     },
     "execution_count": 21,
     "metadata": {},
     "output_type": "execute_result"
    }
   ],
   "source": [
    "zeros = np.zeros((4, 2))\n",
    "zeros"
   ]
  },
  {
   "cell_type": "code",
   "execution_count": 22,
   "metadata": {
    "ExecuteTime": {
     "end_time": "2023-08-11T16:38:16.128774818Z",
     "start_time": "2023-08-11T16:38:16.086962886Z"
    }
   },
   "outputs": [
    {
     "data": {
      "text/plain": [
       "array([0, 2, 4, 6, 8])"
      ]
     },
     "execution_count": 22,
     "metadata": {},
     "output_type": "execute_result"
    }
   ],
   "source": [
    "range_array = np.arange(0, 10, 2)\n",
    "range_array"
   ]
  },
  {
   "cell_type": "code",
   "execution_count": 23,
   "metadata": {
    "ExecuteTime": {
     "end_time": "2023-08-11T16:41:06.409362036Z",
     "start_time": "2023-08-11T16:41:06.404341915Z"
    }
   },
   "outputs": [
    {
     "data": {
      "text/plain": [
       "array([[4, 9, 5, 5, 1],\n",
       "       [0, 7, 0, 9, 6],\n",
       "       [9, 8, 6, 2, 5]])"
      ]
     },
     "execution_count": 23,
     "metadata": {},
     "output_type": "execute_result"
    }
   ],
   "source": [
    "random_array = np.random.randint(0, 10, size=(3, 5))\n",
    "random_array"
   ]
  },
  {
   "cell_type": "code",
   "execution_count": 24,
   "metadata": {
    "ExecuteTime": {
     "end_time": "2023-08-11T16:41:44.720491844Z",
     "start_time": "2023-08-11T16:41:44.665137775Z"
    }
   },
   "outputs": [
    {
     "data": {
      "text/plain": [
       "15"
      ]
     },
     "execution_count": 24,
     "metadata": {},
     "output_type": "execute_result"
    }
   ],
   "source": [
    "random_array.size"
   ]
  },
  {
   "cell_type": "code",
   "execution_count": 25,
   "metadata": {
    "ExecuteTime": {
     "end_time": "2023-08-11T16:41:50.632894185Z",
     "start_time": "2023-08-11T16:41:50.584525298Z"
    }
   },
   "outputs": [
    {
     "data": {
      "text/plain": [
       "(3, 5)"
      ]
     },
     "execution_count": 25,
     "metadata": {},
     "output_type": "execute_result"
    }
   ],
   "source": [
    "random_array.shape"
   ]
  },
  {
   "cell_type": "code",
   "execution_count": 26,
   "metadata": {
    "ExecuteTime": {
     "end_time": "2023-08-11T16:43:20.976749762Z",
     "start_time": "2023-08-11T16:43:20.932066817Z"
    }
   },
   "outputs": [
    {
     "data": {
      "text/plain": [
       "array([[0.6002715 , 0.63516783, 0.26514646, 0.33861517, 0.04832814,\n",
       "        0.06496169, 0.16083075],\n",
       "       [0.5764046 , 0.61000557, 0.59594432, 0.46735004, 0.07592361,\n",
       "        0.35782675, 0.84133633],\n",
       "       [0.27408742, 0.25108049, 0.37399452, 0.06726595, 0.0942499 ,\n",
       "        0.69463266, 0.99276998]])"
      ]
     },
     "execution_count": 26,
     "metadata": {},
     "output_type": "execute_result"
    }
   ],
   "source": [
    "random_array_2 = np.random.random((3, 7))\n",
    "random_array_2"
   ]
  },
  {
   "cell_type": "code",
   "execution_count": 27,
   "metadata": {
    "ExecuteTime": {
     "end_time": "2023-08-11T16:45:04.509454712Z",
     "start_time": "2023-08-11T16:45:04.468114345Z"
    }
   },
   "outputs": [
    {
     "data": {
      "text/plain": [
       "array([[[9.79406576e-01, 5.66488878e-01, 6.42932220e-01, 9.35901820e-01,\n",
       "         9.67230118e-01],\n",
       "        [8.05397943e-01, 4.83192453e-01, 4.41397263e-01, 8.47721713e-01,\n",
       "         8.99720071e-01],\n",
       "        [4.33052001e-01, 5.23687872e-01, 2.44035055e-01, 9.80933365e-01,\n",
       "         8.42563496e-01],\n",
       "        [2.50548954e-01, 6.48377305e-01, 4.50879821e-01, 3.91344042e-01,\n",
       "         5.96251947e-01],\n",
       "        [9.97730953e-01, 1.14167868e-01, 6.23943819e-01, 7.27687271e-03,\n",
       "         2.18404404e-01],\n",
       "        [6.86493099e-01, 9.52438919e-01, 7.96102693e-02, 4.68617708e-01,\n",
       "         4.64899572e-01],\n",
       "        [2.94309308e-01, 7.52967535e-01, 2.58995354e-02, 5.59424405e-01,\n",
       "         7.72599479e-01]],\n",
       "\n",
       "       [[5.55796024e-01, 1.16400546e-01, 3.49427866e-01, 4.02519447e-01,\n",
       "         8.12205536e-01],\n",
       "        [5.82286424e-05, 3.09085670e-01, 4.87939545e-01, 4.78473998e-01,\n",
       "         7.73769498e-01],\n",
       "        [5.05779642e-01, 6.92447911e-01, 1.45431312e-01, 8.84920598e-01,\n",
       "         7.02404659e-02],\n",
       "        [1.12300561e-01, 3.36591506e-01, 8.60935290e-01, 9.58743475e-02,\n",
       "         6.11817649e-01],\n",
       "        [6.91386247e-01, 5.82697440e-01, 3.76595432e-02, 6.98233252e-01,\n",
       "         3.47779478e-01],\n",
       "        [9.43040169e-01, 8.07152390e-01, 2.19780799e-01, 7.78347445e-01,\n",
       "         6.09606585e-01],\n",
       "        [8.56174213e-01, 8.58261331e-01, 9.67157285e-03, 9.18553564e-01,\n",
       "         5.92585527e-01]],\n",
       "\n",
       "       [[9.57049810e-01, 2.59951520e-01, 1.92388522e-01, 9.06310027e-01,\n",
       "         9.44676942e-02],\n",
       "        [9.80852389e-01, 7.92549544e-01, 6.78006053e-01, 5.11458974e-01,\n",
       "         4.92845645e-01],\n",
       "        [8.28479483e-01, 3.27260916e-01, 9.63738461e-02, 3.16602497e-01,\n",
       "         3.66397947e-01],\n",
       "        [1.56981025e-01, 5.48804631e-01, 8.11515805e-01, 4.80253899e-01,\n",
       "         5.67560934e-01],\n",
       "        [1.95445771e-02, 4.96133508e-01, 9.10763176e-01, 8.40558213e-01,\n",
       "         3.11341637e-01],\n",
       "        [2.23525794e-01, 1.71198875e-01, 1.53772160e-01, 5.55500376e-01,\n",
       "         1.29512333e-01],\n",
       "        [9.15106118e-01, 9.67470429e-01, 3.13919567e-01, 8.38387909e-01,\n",
       "         2.60075668e-01]]])"
      ]
     },
     "execution_count": 27,
     "metadata": {},
     "output_type": "execute_result"
    }
   ],
   "source": [
    "random_array_3 = np.random.rand(3, 7, 5)\n",
    "random_array_3"
   ]
  },
  {
   "cell_type": "code",
   "execution_count": 28,
   "metadata": {
    "ExecuteTime": {
     "end_time": "2023-08-11T16:58:34.903678579Z",
     "start_time": "2023-08-11T16:58:34.858351556Z"
    }
   },
   "outputs": [
    {
     "data": {
      "text/plain": [
       "array([[0, 3, 1],\n",
       "       [8, 1, 3],\n",
       "       [8, 5, 6],\n",
       "       [0, 6, 0],\n",
       "       [4, 0, 9]])"
      ]
     },
     "execution_count": 28,
     "metadata": {},
     "output_type": "execute_result"
    }
   ],
   "source": [
    "#pseudo-random numbers\n",
    "np.random.seed(seed=99999)\n",
    "random_array_4 = np.random.randint(10, size=(5, 3))\n",
    "random_array_4"
   ]
  },
  {
   "cell_type": "code",
   "execution_count": 29,
   "metadata": {
    "ExecuteTime": {
     "end_time": "2023-08-11T16:53:18.902918508Z",
     "start_time": "2023-08-11T16:53:18.886149141Z"
    }
   },
   "outputs": [
    {
     "data": {
      "text/plain": [
       "array([[4.17022005e-01, 7.20324493e-01, 1.14374817e-04, 3.02332573e-01,\n",
       "        1.46755891e-01, 9.23385948e-02, 1.86260211e-01, 3.45560727e-01,\n",
       "        3.96767474e-01, 5.38816734e-01],\n",
       "       [4.19194514e-01, 6.85219500e-01, 2.04452250e-01, 8.78117436e-01,\n",
       "        2.73875932e-02, 6.70467510e-01, 4.17304802e-01, 5.58689828e-01,\n",
       "        1.40386939e-01, 1.98101489e-01],\n",
       "       [8.00744569e-01, 9.68261576e-01, 3.13424178e-01, 6.92322616e-01,\n",
       "        8.76389152e-01, 8.94606664e-01, 8.50442114e-02, 3.90547832e-02,\n",
       "        1.69830420e-01, 8.78142503e-01],\n",
       "       [9.83468338e-02, 4.21107625e-01, 9.57889530e-01, 5.33165285e-01,\n",
       "        6.91877114e-01, 3.15515631e-01, 6.86500928e-01, 8.34625672e-01,\n",
       "        1.82882773e-02, 7.50144315e-01],\n",
       "       [9.88861089e-01, 7.48165654e-01, 2.80443992e-01, 7.89279328e-01,\n",
       "        1.03226007e-01, 4.47893526e-01, 9.08595503e-01, 2.93614148e-01,\n",
       "        2.87775339e-01, 1.30028572e-01],\n",
       "       [1.93669579e-02, 6.78835533e-01, 2.11628116e-01, 2.65546659e-01,\n",
       "        4.91573159e-01, 5.33625451e-02, 5.74117605e-01, 1.46728575e-01,\n",
       "        5.89305537e-01, 6.99758360e-01],\n",
       "       [1.02334429e-01, 4.14055988e-01, 6.94400158e-01, 4.14179270e-01,\n",
       "        4.99534589e-02, 5.35896406e-01, 6.63794645e-01, 5.14889112e-01,\n",
       "        9.44594756e-01, 5.86555041e-01]])"
      ]
     },
     "execution_count": 29,
     "metadata": {},
     "output_type": "execute_result"
    }
   ],
   "source": [
    "np.random.seed(1)\n",
    "random_array_5 = np.random.random((7,10))\n",
    "random_array_5"
   ]
  },
  {
   "cell_type": "markdown",
   "metadata": {},
   "source": [
    "## 3. Viewing arrays and matrices"
   ]
  },
  {
   "cell_type": "code",
   "execution_count": 30,
   "metadata": {
    "ExecuteTime": {
     "end_time": "2023-08-11T16:58:43.744909097Z",
     "start_time": "2023-08-11T16:58:43.703958714Z"
    }
   },
   "outputs": [
    {
     "data": {
      "text/plain": [
       "array([0, 1, 3, 4, 5, 6, 8, 9])"
      ]
     },
     "execution_count": 30,
     "metadata": {},
     "output_type": "execute_result"
    }
   ],
   "source": [
    "np.unique(random_array_4)"
   ]
  },
  {
   "cell_type": "code",
   "execution_count": 31,
   "metadata": {
    "ExecuteTime": {
     "end_time": "2023-08-11T17:00:51.047183607Z",
     "start_time": "2023-08-11T17:00:51.002690403Z"
    }
   },
   "outputs": [
    {
     "data": {
      "text/plain": [
       "1"
      ]
     },
     "execution_count": 31,
     "metadata": {},
     "output_type": "execute_result"
    }
   ],
   "source": [
    "a1[0]"
   ]
  },
  {
   "cell_type": "code",
   "execution_count": 32,
   "metadata": {
    "ExecuteTime": {
     "end_time": "2023-08-11T17:00:54.673460449Z",
     "start_time": "2023-08-11T17:00:54.633538150Z"
    }
   },
   "outputs": [
    {
     "data": {
      "text/plain": [
       "array([1. , 2. , 3.3])"
      ]
     },
     "execution_count": 32,
     "metadata": {},
     "output_type": "execute_result"
    }
   ],
   "source": [
    "a2[0]"
   ]
  },
  {
   "cell_type": "code",
   "execution_count": 33,
   "metadata": {
    "ExecuteTime": {
     "end_time": "2023-08-11T17:00:58.906114366Z",
     "start_time": "2023-08-11T17:00:58.848472554Z"
    }
   },
   "outputs": [
    {
     "data": {
      "text/plain": [
       "array([[1, 2, 3],\n",
       "       [4, 5, 6],\n",
       "       [7, 8, 9]])"
      ]
     },
     "execution_count": 33,
     "metadata": {},
     "output_type": "execute_result"
    }
   ],
   "source": [
    "a3[0]"
   ]
  },
  {
   "cell_type": "code",
   "execution_count": 34,
   "metadata": {
    "ExecuteTime": {
     "end_time": "2023-08-11T17:01:36.413990201Z",
     "start_time": "2023-08-11T17:01:36.336377993Z"
    }
   },
   "outputs": [
    {
     "data": {
      "text/plain": [
       "array([[[ 1,  2,  3],\n",
       "        [ 4,  5,  6],\n",
       "        [ 7,  8,  9]],\n",
       "\n",
       "       [[10, 11, 12],\n",
       "        [13, 14, 15],\n",
       "        [16, 17, 18]]])"
      ]
     },
     "execution_count": 34,
     "metadata": {},
     "output_type": "execute_result"
    }
   ],
   "source": [
    "a3"
   ]
  },
  {
   "cell_type": "code",
   "execution_count": 35,
   "metadata": {
    "ExecuteTime": {
     "end_time": "2023-08-11T17:03:00.339050370Z",
     "start_time": "2023-08-11T17:03:00.333794121Z"
    }
   },
   "outputs": [
    {
     "data": {
      "text/plain": [
       "array([[[ 1,  2],\n",
       "        [ 4,  5]],\n",
       "\n",
       "       [[10, 11],\n",
       "        [13, 14]]])"
      ]
     },
     "execution_count": 35,
     "metadata": {},
     "output_type": "execute_result"
    }
   ],
   "source": [
    "a3[:2, :2, :2]"
   ]
  },
  {
   "cell_type": "code",
   "execution_count": 36,
   "metadata": {
    "ExecuteTime": {
     "end_time": "2023-08-11T17:04:39.755623Z",
     "start_time": "2023-08-11T17:04:39.699406686Z"
    }
   },
   "outputs": [
    {
     "data": {
      "text/plain": [
       "array([[[[7, 8, 4, 4, 7],\n",
       "         [7, 4, 9, 0, 2],\n",
       "         [0, 7, 1, 7, 9],\n",
       "         [8, 4, 0, 1, 9]],\n",
       "\n",
       "        [[8, 2, 3, 1, 2],\n",
       "         [7, 2, 6, 0, 9],\n",
       "         [2, 6, 6, 2, 7],\n",
       "         [7, 0, 6, 5, 1]],\n",
       "\n",
       "        [[4, 6, 0, 6, 5],\n",
       "         [1, 2, 1, 5, 4],\n",
       "         [0, 7, 8, 9, 5],\n",
       "         [7, 0, 9, 3, 9]]],\n",
       "\n",
       "\n",
       "       [[[1, 4, 4, 6, 8],\n",
       "         [8, 9, 2, 7, 5],\n",
       "         [5, 4, 5, 8, 5],\n",
       "         [8, 1, 1, 8, 7]],\n",
       "\n",
       "        [[0, 3, 4, 2, 0],\n",
       "         [3, 5, 1, 2, 4],\n",
       "         [3, 0, 6, 0, 7],\n",
       "         [2, 8, 3, 0, 8]],\n",
       "\n",
       "        [[4, 2, 9, 0, 3],\n",
       "         [8, 1, 4, 3, 3],\n",
       "         [6, 7, 3, 5, 3],\n",
       "         [2, 4, 4, 0, 3]]]])"
      ]
     },
     "execution_count": 36,
     "metadata": {},
     "output_type": "execute_result"
    }
   ],
   "source": [
    "a4 = np.random.randint(10, size=(2, 3, 4, 5))\n",
    "a4"
   ]
  },
  {
   "cell_type": "code",
   "execution_count": 37,
   "metadata": {
    "ExecuteTime": {
     "end_time": "2023-08-11T17:05:15.168151030Z",
     "start_time": "2023-08-11T17:05:15.117991370Z"
    }
   },
   "outputs": [
    {
     "data": {
      "text/plain": [
       "((2, 3, 4, 5), 4)"
      ]
     },
     "execution_count": 37,
     "metadata": {},
     "output_type": "execute_result"
    }
   ],
   "source": [
    "a4.shape, a4.ndim"
   ]
  },
  {
   "cell_type": "code",
   "execution_count": 38,
   "metadata": {
    "ExecuteTime": {
     "end_time": "2023-08-11T17:09:19.007687895Z",
     "start_time": "2023-08-11T17:09:18.999280201Z"
    }
   },
   "outputs": [
    {
     "data": {
      "text/plain": [
       "array([[[[7],\n",
       "         [7],\n",
       "         [0],\n",
       "         [8]],\n",
       "\n",
       "        [[8],\n",
       "         [7],\n",
       "         [2],\n",
       "         [7]],\n",
       "\n",
       "        [[4],\n",
       "         [1],\n",
       "         [0],\n",
       "         [7]]],\n",
       "\n",
       "\n",
       "       [[[1],\n",
       "         [8],\n",
       "         [5],\n",
       "         [8]],\n",
       "\n",
       "        [[0],\n",
       "         [3],\n",
       "         [3],\n",
       "         [2]],\n",
       "\n",
       "        [[4],\n",
       "         [8],\n",
       "         [6],\n",
       "         [2]]]])"
      ]
     },
     "execution_count": 38,
     "metadata": {},
     "output_type": "execute_result"
    }
   ],
   "source": [
    "a4[:, :, :, :1]"
   ]
  },
  {
   "cell_type": "markdown",
   "metadata": {},
   "source": [
    "## 4. Manipulating @ comparing arrays"
   ]
  },
  {
   "cell_type": "markdown",
   "metadata": {},
   "source": [
    "### Arithmetic"
   ]
  },
  {
   "cell_type": "code",
   "execution_count": 39,
   "metadata": {
    "ExecuteTime": {
     "end_time": "2023-08-11T17:12:28.612933717Z",
     "start_time": "2023-08-11T17:12:28.566249704Z"
    }
   },
   "outputs": [
    {
     "data": {
      "text/plain": [
       "array([1, 2, 3])"
      ]
     },
     "execution_count": 39,
     "metadata": {},
     "output_type": "execute_result"
    }
   ],
   "source": [
    "a1"
   ]
  },
  {
   "cell_type": "code",
   "execution_count": 40,
   "metadata": {
    "ExecuteTime": {
     "end_time": "2023-08-11T17:13:21.729972343Z",
     "start_time": "2023-08-11T17:13:21.681769698Z"
    }
   },
   "outputs": [],
   "source": [
    "ex1 = np.ones(3)"
   ]
  },
  {
   "cell_type": "code",
   "execution_count": 41,
   "metadata": {
    "ExecuteTime": {
     "end_time": "2023-08-11T17:13:32.443516145Z",
     "start_time": "2023-08-11T17:13:32.434466676Z"
    }
   },
   "outputs": [
    {
     "data": {
      "text/plain": [
       "array([2., 3., 4.])"
      ]
     },
     "execution_count": 41,
     "metadata": {},
     "output_type": "execute_result"
    }
   ],
   "source": [
    "a1 + ex1"
   ]
  },
  {
   "cell_type": "code",
   "execution_count": 42,
   "metadata": {
    "ExecuteTime": {
     "end_time": "2023-08-11T17:14:13.096796227Z",
     "start_time": "2023-08-11T17:14:13.047965329Z"
    }
   },
   "outputs": [
    {
     "data": {
      "text/plain": [
       "array([0., 1., 2.])"
      ]
     },
     "execution_count": 42,
     "metadata": {},
     "output_type": "execute_result"
    }
   ],
   "source": [
    "a1 - ex1"
   ]
  },
  {
   "cell_type": "code",
   "execution_count": 43,
   "metadata": {
    "ExecuteTime": {
     "end_time": "2023-08-11T17:14:35.421794933Z",
     "start_time": "2023-08-11T17:14:35.413964525Z"
    }
   },
   "outputs": [
    {
     "data": {
      "text/plain": [
       "array([1., 2., 3.])"
      ]
     },
     "execution_count": 43,
     "metadata": {},
     "output_type": "execute_result"
    }
   ],
   "source": [
    "a1 * ex1"
   ]
  },
  {
   "cell_type": "code",
   "execution_count": 44,
   "metadata": {
    "ExecuteTime": {
     "end_time": "2023-08-11T17:14:43.212720305Z",
     "start_time": "2023-08-11T17:14:43.159333831Z"
    }
   },
   "outputs": [
    {
     "data": {
      "text/plain": [
       "array([[1. , 2. , 3.3],\n",
       "       [4. , 5. , 6.5]])"
      ]
     },
     "execution_count": 44,
     "metadata": {},
     "output_type": "execute_result"
    }
   ],
   "source": [
    "a2"
   ]
  },
  {
   "cell_type": "code",
   "execution_count": 45,
   "metadata": {
    "ExecuteTime": {
     "end_time": "2023-08-11T17:14:48.383676174Z",
     "start_time": "2023-08-11T17:14:48.324698852Z"
    }
   },
   "outputs": [
    {
     "data": {
      "text/plain": [
       "array([[ 1. ,  4. ,  9.9],\n",
       "       [ 4. , 10. , 19.5]])"
      ]
     },
     "execution_count": 45,
     "metadata": {},
     "output_type": "execute_result"
    }
   ],
   "source": [
    "a1 * a2"
   ]
  },
  {
   "cell_type": "code",
   "execution_count": 46,
   "metadata": {
    "ExecuteTime": {
     "end_time": "2023-08-11T17:20:16.818643388Z",
     "start_time": "2023-08-11T17:20:16.760781148Z"
    }
   },
   "outputs": [],
   "source": [
    "# How can you reshape a2 to be compatible with a3?\n",
    "# search: \"How to reshape numpy array\"\n",
    "#a2 * a3"
   ]
  },
  {
   "cell_type": "code",
   "execution_count": 47,
   "metadata": {
    "ExecuteTime": {
     "end_time": "2023-08-11T17:20:59.184273137Z",
     "start_time": "2023-08-11T17:20:59.132155992Z"
    }
   },
   "outputs": [
    {
     "data": {
      "text/plain": [
       "array([1., 2., 3.])"
      ]
     },
     "execution_count": 47,
     "metadata": {},
     "output_type": "execute_result"
    }
   ],
   "source": [
    "a1 / ex1"
   ]
  },
  {
   "cell_type": "code",
   "execution_count": 48,
   "metadata": {
    "ExecuteTime": {
     "end_time": "2023-08-11T17:21:14.739494324Z",
     "start_time": "2023-08-11T17:21:14.689808879Z"
    }
   },
   "outputs": [
    {
     "data": {
      "text/plain": [
       "array([[1.        , 1.        , 1.1       ],\n",
       "       [4.        , 2.5       , 2.16666667]])"
      ]
     },
     "execution_count": 48,
     "metadata": {},
     "output_type": "execute_result"
    }
   ],
   "source": [
    "a2 / a1"
   ]
  },
  {
   "cell_type": "code",
   "execution_count": 49,
   "metadata": {
    "ExecuteTime": {
     "end_time": "2023-08-11T17:21:20.564971307Z",
     "start_time": "2023-08-11T17:21:20.507593679Z"
    }
   },
   "outputs": [
    {
     "data": {
      "text/plain": [
       "array([[1., 1., 1.],\n",
       "       [4., 2., 2.]])"
      ]
     },
     "execution_count": 49,
     "metadata": {},
     "output_type": "execute_result"
    }
   ],
   "source": [
    "a2 // a1"
   ]
  },
  {
   "cell_type": "code",
   "execution_count": 50,
   "metadata": {
    "ExecuteTime": {
     "end_time": "2023-08-11T17:21:43.005390682Z",
     "start_time": "2023-08-11T17:21:42.950921421Z"
    }
   },
   "outputs": [
    {
     "data": {
      "text/plain": [
       "array([[ 1.  ,  4.  , 10.89],\n",
       "       [16.  , 25.  , 42.25]])"
      ]
     },
     "execution_count": 50,
     "metadata": {},
     "output_type": "execute_result"
    }
   ],
   "source": [
    "a2 ** 2"
   ]
  },
  {
   "cell_type": "code",
   "execution_count": 51,
   "metadata": {
    "ExecuteTime": {
     "end_time": "2023-08-11T17:22:21.201407905Z",
     "start_time": "2023-08-11T17:22:21.134077087Z"
    }
   },
   "outputs": [
    {
     "data": {
      "text/plain": [
       "array([[ 1.  ,  4.  , 10.89],\n",
       "       [16.  , 25.  , 42.25]])"
      ]
     },
     "execution_count": 51,
     "metadata": {},
     "output_type": "execute_result"
    }
   ],
   "source": [
    "np.square(a2)"
   ]
  },
  {
   "cell_type": "code",
   "execution_count": 52,
   "metadata": {
    "ExecuteTime": {
     "end_time": "2023-08-11T17:22:49.523771812Z",
     "start_time": "2023-08-11T17:22:49.499910563Z"
    }
   },
   "outputs": [
    {
     "data": {
      "text/plain": [
       "array([[2. , 3. , 4.3],\n",
       "       [5. , 6. , 7.5]])"
      ]
     },
     "execution_count": 52,
     "metadata": {},
     "output_type": "execute_result"
    }
   ],
   "source": [
    "np.add(a2, ex1)"
   ]
  },
  {
   "cell_type": "code",
   "execution_count": 53,
   "metadata": {
    "ExecuteTime": {
     "end_time": "2023-08-11T17:23:04.908727933Z",
     "start_time": "2023-08-11T17:23:04.843690551Z"
    }
   },
   "outputs": [
    {
     "data": {
      "text/plain": [
       "array([1, 0, 1])"
      ]
     },
     "execution_count": 53,
     "metadata": {},
     "output_type": "execute_result"
    }
   ],
   "source": [
    "a1 % 2"
   ]
  },
  {
   "cell_type": "code",
   "execution_count": 54,
   "metadata": {
    "ExecuteTime": {
     "end_time": "2023-08-11T17:24:10.596818765Z",
     "start_time": "2023-08-11T17:24:10.530419136Z"
    }
   },
   "outputs": [
    {
     "data": {
      "text/plain": [
       "array([ 2.71828183,  7.3890561 , 20.08553692])"
      ]
     },
     "execution_count": 54,
     "metadata": {},
     "output_type": "execute_result"
    }
   ],
   "source": [
    "np.exp(a1)"
   ]
  },
  {
   "cell_type": "code",
   "execution_count": 55,
   "metadata": {
    "ExecuteTime": {
     "end_time": "2023-08-11T17:24:19.761421950Z",
     "start_time": "2023-08-11T17:24:19.701948267Z"
    }
   },
   "outputs": [
    {
     "data": {
      "text/plain": [
       "array([0.        , 0.69314718, 1.09861229])"
      ]
     },
     "execution_count": 55,
     "metadata": {},
     "output_type": "execute_result"
    }
   ],
   "source": [
    "np.log(a1)"
   ]
  },
  {
   "cell_type": "markdown",
   "metadata": {},
   "source": [
    "## Aggregation\n",
    "Aggregation = performing the same operation on a number of things"
   ]
  },
  {
   "cell_type": "code",
   "execution_count": 56,
   "metadata": {},
   "outputs": [
    {
     "data": {
      "text/plain": [
       "list"
      ]
     },
     "execution_count": 56,
     "metadata": {},
     "output_type": "execute_result"
    }
   ],
   "source": [
    "listy_list = [1, 2, 3]\n",
    "type(listy_list)"
   ]
  },
  {
   "cell_type": "code",
   "execution_count": 57,
   "metadata": {},
   "outputs": [
    {
     "data": {
      "text/plain": [
       "6"
      ]
     },
     "execution_count": 57,
     "metadata": {},
     "output_type": "execute_result"
    }
   ],
   "source": [
    "sum(listy_list)"
   ]
  },
  {
   "cell_type": "code",
   "execution_count": 58,
   "metadata": {},
   "outputs": [
    {
     "data": {
      "text/plain": [
       "numpy.ndarray"
      ]
     },
     "execution_count": 58,
     "metadata": {},
     "output_type": "execute_result"
    }
   ],
   "source": [
    "type(a1)"
   ]
  },
  {
   "cell_type": "code",
   "execution_count": 59,
   "metadata": {},
   "outputs": [
    {
     "data": {
      "text/plain": [
       "6"
      ]
     },
     "execution_count": 59,
     "metadata": {},
     "output_type": "execute_result"
    }
   ],
   "source": [
    "sum(a1)"
   ]
  },
  {
   "cell_type": "code",
   "execution_count": 60,
   "metadata": {},
   "outputs": [
    {
     "data": {
      "text/plain": [
       "6"
      ]
     },
     "execution_count": 60,
     "metadata": {},
     "output_type": "execute_result"
    }
   ],
   "source": [
    "np.sum(a1)"
   ]
  },
  {
   "cell_type": "markdown",
   "metadata": {},
   "source": [
    "Use Python's methods(`sum()`) on Python datatypes and use NumPy's methods on NumPy arrays (`np.sum()`)."
   ]
  },
  {
   "cell_type": "code",
   "execution_count": 61,
   "metadata": {},
   "outputs": [
    {
     "data": {
      "text/plain": [
       "100000"
      ]
     },
     "execution_count": 61,
     "metadata": {},
     "output_type": "execute_result"
    }
   ],
   "source": [
    "# Create a massive NumPy array\n",
    "massive_array = np.random.random(100000)\n",
    "massive_array.size"
   ]
  },
  {
   "cell_type": "code",
   "execution_count": 62,
   "metadata": {},
   "outputs": [
    {
     "data": {
      "text/plain": [
       "array([0.89302121, 0.75934879, 0.65112056, 0.0396835 , 0.81387637,\n",
       "       0.76257313, 0.45528247, 0.53182645, 0.10933607, 0.14603275,\n",
       "       0.50878874, 0.21565028, 0.9164437 , 0.46215251, 0.13226727,\n",
       "       0.76424161, 0.2127337 , 0.07425843, 0.09541925, 0.16220551,\n",
       "       0.35646368, 0.09530781, 0.14326301, 0.93101293, 0.57658422,\n",
       "       0.83964521, 0.62329211, 0.3245175 , 0.72801164, 0.52273663,\n",
       "       0.73681147, 0.16540611, 0.68705829, 0.42681084, 0.7285574 ,\n",
       "       0.75633539, 0.39761128, 0.92520011, 0.20351032, 0.00800271,\n",
       "       0.92635071, 0.29451155, 0.16695159, 0.02410163, 0.45200161,\n",
       "       0.80833875, 0.36837685, 0.60920699, 0.03484772, 0.35457723,\n",
       "       0.07851996, 0.6931852 , 0.01271267, 0.45954528, 0.96131726,\n",
       "       0.33418522, 0.47208342, 0.10539125, 0.50307591, 0.88568986,\n",
       "       0.53437734, 0.28147677, 0.35458469, 0.89628025, 0.24148914,\n",
       "       0.02388409, 0.9657268 , 0.4299679 , 0.34628852, 0.57706763,\n",
       "       0.12652616, 0.95004331, 0.31361083, 0.95283112, 0.21839323,\n",
       "       0.2487002 , 0.86380179, 0.23526833, 0.81510006, 0.54389724,\n",
       "       0.19126027, 0.58883994, 0.04813679, 0.01587298, 0.04971102,\n",
       "       0.39941529, 0.57690396, 0.86751746, 0.78616224, 0.25470275,\n",
       "       0.08225491, 0.157756  , 0.20949288, 0.4173828 , 0.34769002,\n",
       "       0.69988403, 0.6975095 , 0.0747239 , 0.0364697 , 0.78939985])"
      ]
     },
     "execution_count": 62,
     "metadata": {},
     "output_type": "execute_result"
    }
   ],
   "source": [
    "massive_array[:100]"
   ]
  },
  {
   "cell_type": "code",
   "execution_count": 63,
   "metadata": {},
   "outputs": [
    {
     "name": "stdout",
     "output_type": "stream",
     "text": [
      "7.62 ms ± 114 µs per loop (mean ± std. dev. of 7 runs, 100 loops each)\n",
      "45 µs ± 1.29 µs per loop (mean ± std. dev. of 7 runs, 10,000 loops each)\n"
     ]
    }
   ],
   "source": [
    "%timeit sum(massive_array)        # Python's sum()\n",
    "%timeit np.sum(massive_array)     # NumPy's np.sum()"
   ]
  },
  {
   "cell_type": "code",
   "execution_count": 64,
   "metadata": {},
   "outputs": [
    {
     "data": {
      "text/plain": [
       "3.6333333333333333"
      ]
     },
     "execution_count": 64,
     "metadata": {},
     "output_type": "execute_result"
    }
   ],
   "source": [
    "np.mean(a2)"
   ]
  },
  {
   "cell_type": "code",
   "execution_count": 65,
   "metadata": {},
   "outputs": [
    {
     "data": {
      "text/plain": [
       "6.5"
      ]
     },
     "execution_count": 65,
     "metadata": {},
     "output_type": "execute_result"
    }
   ],
   "source": [
    "np.max(a2)"
   ]
  },
  {
   "cell_type": "code",
   "execution_count": 66,
   "metadata": {},
   "outputs": [
    {
     "data": {
      "text/plain": [
       "1.0"
      ]
     },
     "execution_count": 66,
     "metadata": {},
     "output_type": "execute_result"
    }
   ],
   "source": [
    "np.min(a2)"
   ]
  },
  {
   "cell_type": "code",
   "execution_count": 67,
   "metadata": {},
   "outputs": [
    {
     "data": {
      "text/plain": [
       "1.8226964152656422"
      ]
     },
     "execution_count": 67,
     "metadata": {},
     "output_type": "execute_result"
    }
   ],
   "source": [
    "# Standard deviation = a measure of how spread out a group of numbers is from the main\n",
    "np.std(a2)"
   ]
  },
  {
   "cell_type": "code",
   "execution_count": 68,
   "metadata": {},
   "outputs": [
    {
     "data": {
      "text/plain": [
       "3.3222222222222224"
      ]
     },
     "execution_count": 68,
     "metadata": {},
     "output_type": "execute_result"
    }
   ],
   "source": [
    "#Variance = measure of the average degree to which each number is different\n",
    "#Higher variance = wider range of numbers\n",
    "#Lower variance = lower range of numbers\n",
    "np.var(a2)"
   ]
  },
  {
   "cell_type": "code",
   "execution_count": 69,
   "metadata": {},
   "outputs": [
    {
     "data": {
      "text/plain": [
       "1.8226964152656422"
      ]
     },
     "execution_count": 69,
     "metadata": {},
     "output_type": "execute_result"
    }
   ],
   "source": [
    "# Standard deviation = squreroot of variance\n",
    "np.sqrt(np.var(a2))"
   ]
  },
  {
   "cell_type": "code",
   "execution_count": 70,
   "metadata": {},
   "outputs": [],
   "source": [
    "# Demo of std and var\n",
    "high_var_array = np.array([1, 100, 200, 300, 4000, 5000])\n",
    "low_var_array = np.array([2, 4, 6, 8, 10])"
   ]
  },
  {
   "cell_type": "code",
   "execution_count": 71,
   "metadata": {},
   "outputs": [
    {
     "data": {
      "text/plain": [
       "(4296133.472222221, 8.0)"
      ]
     },
     "execution_count": 71,
     "metadata": {},
     "output_type": "execute_result"
    }
   ],
   "source": [
    "np.var(high_var_array), np.var(low_var_array)"
   ]
  },
  {
   "cell_type": "code",
   "execution_count": 72,
   "metadata": {},
   "outputs": [
    {
     "data": {
      "text/plain": [
       "(2072.711623024829, 2.8284271247461903)"
      ]
     },
     "execution_count": 72,
     "metadata": {},
     "output_type": "execute_result"
    }
   ],
   "source": [
    "np.std(high_var_array), np.std(low_var_array)"
   ]
  },
  {
   "cell_type": "code",
   "execution_count": 73,
   "metadata": {},
   "outputs": [
    {
     "data": {
      "text/plain": [
       "(1600.1666666666667, 6.0)"
      ]
     },
     "execution_count": 73,
     "metadata": {},
     "output_type": "execute_result"
    }
   ],
   "source": [
    "np.mean(high_var_array), np.mean(low_var_array)"
   ]
  },
  {
   "cell_type": "code",
   "execution_count": 74,
   "metadata": {},
   "outputs": [
    {
     "data": {
      "image/png": "[encoded data removed]",
      "text/plain": [
       "<Figure size 640x480 with 1 Axes>"
      ]
     },
     "metadata": {},
     "output_type": "display_data"
    }
   ],
   "source": [
    "%matplotlib inline\n",
    "import matplotlib.pyplot as plt\n",
    "plt.hist(high_var_array)\n",
    "plt.show()"
   ]
  },
  {
   "cell_type": "code",
   "execution_count": 75,
   "metadata": {},
   "outputs": [
    {
     "data": {
      "image/png": "[encoded data removed]",
      "text/plain": [
       "<Figure size 640x480 with 1 Axes>"
      ]
     },
     "metadata": {},
     "output_type": "display_data"
    }
   ],
   "source": [
    "plt.hist(low_var_array)\n",
    "plt.show()"
   ]
  },
  {
   "cell_type": "markdown",
   "metadata": {},
   "source": [
    "### Reshape & transposing"
   ]
  },
  {
   "cell_type": "code",
   "execution_count": 76,
   "metadata": {},
   "outputs": [
    {
     "data": {
      "text/plain": [
       "array([[1. , 2. , 3.3],\n",
       "       [4. , 5. , 6.5]])"
      ]
     },
     "execution_count": 76,
     "metadata": {},
     "output_type": "execute_result"
    }
   ],
   "source": [
    "a2"
   ]
  },
  {
   "cell_type": "code",
   "execution_count": 77,
   "metadata": {},
   "outputs": [
    {
     "data": {
      "text/plain": [
       "(2, 3)"
      ]
     },
     "execution_count": 77,
     "metadata": {},
     "output_type": "execute_result"
    }
   ],
   "source": [
    "a2.shape"
   ]
  },
  {
   "cell_type": "code",
   "execution_count": 78,
   "metadata": {},
   "outputs": [
    {
     "data": {
      "text/plain": [
       "array([[[ 1,  2,  3],\n",
       "        [ 4,  5,  6],\n",
       "        [ 7,  8,  9]],\n",
       "\n",
       "       [[10, 11, 12],\n",
       "        [13, 14, 15],\n",
       "        [16, 17, 18]]])"
      ]
     },
     "execution_count": 78,
     "metadata": {},
     "output_type": "execute_result"
    }
   ],
   "source": [
    "a3"
   ]
  },
  {
   "cell_type": "code",
   "execution_count": 79,
   "metadata": {},
   "outputs": [
    {
     "ename": "ValueError",
     "evalue": "operands could not be broadcast together with shapes (2,3) (2,3,3) ",
     "output_type": "error",
     "traceback": [
      "\u001b[0;31m---------------------------------------------------------------------------\u001b[0m",
      "\u001b[0;31mValueError\u001b[0m                                Traceback (most recent call last)",
      "Cell \u001b[0;32mIn[79], line 1\u001b[0m\n\u001b[0;32m----> 1\u001b[0m \u001b[43ma2\u001b[49m\u001b[43m \u001b[49m\u001b[38;5;241;43m*\u001b[39;49m\u001b[43m \u001b[49m\u001b[43ma3\u001b[49m\n",
      "\u001b[0;31mValueError\u001b[0m: operands could not be broadcast together with shapes (2,3) (2,3,3) "
     ]
    }
   ],
   "source": [
    "#a2 * a3"
   ]
  },
  {
   "cell_type": "code",
   "execution_count": 80,
   "metadata": {},
   "outputs": [
    {
     "data": {
      "text/plain": [
       "(2, 3)"
      ]
     },
     "execution_count": 80,
     "metadata": {},
     "output_type": "execute_result"
    }
   ],
   "source": [
    "a2.shape"
   ]
  },
  {
   "cell_type": "code",
   "execution_count": 81,
   "metadata": {},
   "outputs": [
    {
     "data": {
      "text/plain": [
       "(2, 3, 1)"
      ]
     },
     "execution_count": 81,
     "metadata": {},
     "output_type": "execute_result"
    }
   ],
   "source": [
    "a2.reshape(2, 3, 1).shape"
   ]
  },
  {
   "cell_type": "code",
   "execution_count": 82,
   "metadata": {},
   "outputs": [
    {
     "data": {
      "text/plain": [
       "(2, 3, 3)"
      ]
     },
     "execution_count": 82,
     "metadata": {},
     "output_type": "execute_result"
    }
   ],
   "source": [
    "a3.shape"
   ]
  },
  {
   "cell_type": "code",
   "execution_count": 83,
   "metadata": {},
   "outputs": [
    {
     "data": {
      "text/plain": [
       "array([[[1. ],\n",
       "        [2. ],\n",
       "        [3.3]],\n",
       "\n",
       "       [[4. ],\n",
       "        [5. ],\n",
       "        [6.5]]])"
      ]
     },
     "execution_count": 83,
     "metadata": {},
     "output_type": "execute_result"
    }
   ],
   "source": [
    "a2_reshape = a2.reshape(2, 3, 1)\n",
    "a2_reshape"
   ]
  },
  {
   "cell_type": "code",
   "execution_count": 84,
   "metadata": {},
   "outputs": [
    {
     "data": {
      "text/plain": [
       "array([[[  1. ,   2. ,   3. ],\n",
       "        [  8. ,  10. ,  12. ],\n",
       "        [ 23.1,  26.4,  29.7]],\n",
       "\n",
       "       [[ 40. ,  44. ,  48. ],\n",
       "        [ 65. ,  70. ,  75. ],\n",
       "        [104. , 110.5, 117. ]]])"
      ]
     },
     "execution_count": 84,
     "metadata": {},
     "output_type": "execute_result"
    }
   ],
   "source": [
    "a2_reshape * a3"
   ]
  },
  {
   "cell_type": "code",
   "execution_count": 85,
   "metadata": {},
   "outputs": [
    {
     "data": {
      "text/plain": [
       "(2, 3)"
      ]
     },
     "execution_count": 85,
     "metadata": {},
     "output_type": "execute_result"
    }
   ],
   "source": [
    "#Transpose = switch axis's\n",
    "a2.shape"
   ]
  },
  {
   "cell_type": "code",
   "execution_count": 86,
   "metadata": {},
   "outputs": [
    {
     "data": {
      "text/plain": [
       "(3, 2)"
      ]
     },
     "execution_count": 86,
     "metadata": {},
     "output_type": "execute_result"
    }
   ],
   "source": [
    "a2.T.shape"
   ]
  },
  {
   "cell_type": "code",
   "execution_count": 87,
   "metadata": {},
   "outputs": [
    {
     "data": {
      "text/plain": [
       "array([[1. , 2. , 3.3],\n",
       "       [4. , 5. , 6.5]])"
      ]
     },
     "execution_count": 87,
     "metadata": {},
     "output_type": "execute_result"
    }
   ],
   "source": [
    "a2"
   ]
  },
  {
   "cell_type": "code",
   "execution_count": 88,
   "metadata": {},
   "outputs": [
    {
     "data": {
      "text/plain": [
       "array([[1. , 4. ],\n",
       "       [2. , 5. ],\n",
       "       [3.3, 6.5]])"
      ]
     },
     "execution_count": 88,
     "metadata": {},
     "output_type": "execute_result"
    }
   ],
   "source": [
    "a2.T\n"
   ]
  },
  {
   "cell_type": "code",
   "execution_count": 89,
   "metadata": {},
   "outputs": [
    {
     "data": {
      "text/plain": [
       "array([[[ 1,  2,  3],\n",
       "        [ 4,  5,  6],\n",
       "        [ 7,  8,  9]],\n",
       "\n",
       "       [[10, 11, 12],\n",
       "        [13, 14, 15],\n",
       "        [16, 17, 18]]])"
      ]
     },
     "execution_count": 89,
     "metadata": {},
     "output_type": "execute_result"
    }
   ],
   "source": [
    "a3"
   ]
  },
  {
   "cell_type": "code",
   "execution_count": 90,
   "metadata": {},
   "outputs": [
    {
     "data": {
      "text/plain": [
       "(2, 3, 3)"
      ]
     },
     "execution_count": 90,
     "metadata": {},
     "output_type": "execute_result"
    }
   ],
   "source": [
    "a3.shape"
   ]
  },
  {
   "cell_type": "code",
   "execution_count": 91,
   "metadata": {},
   "outputs": [
    {
     "data": {
      "text/plain": [
       "array([[[ 1, 10],\n",
       "        [ 4, 13],\n",
       "        [ 7, 16]],\n",
       "\n",
       "       [[ 2, 11],\n",
       "        [ 5, 14],\n",
       "        [ 8, 17]],\n",
       "\n",
       "       [[ 3, 12],\n",
       "        [ 6, 15],\n",
       "        [ 9, 18]]])"
      ]
     },
     "execution_count": 91,
     "metadata": {},
     "output_type": "execute_result"
    }
   ],
   "source": [
    "a3.T"
   ]
  },
  {
   "cell_type": "code",
   "execution_count": 92,
   "metadata": {},
   "outputs": [
    {
     "data": {
      "text/plain": [
       "(3, 3, 2)"
      ]
     },
     "execution_count": 92,
     "metadata": {},
     "output_type": "execute_result"
    }
   ],
   "source": [
    "a3.T.shape"
   ]
  },
  {
   "cell_type": "markdown",
   "metadata": {},
   "source": [
    "# Dot product"
   ]
  },
  {
   "cell_type": "code",
   "execution_count": 93,
   "metadata": {},
   "outputs": [
    {
     "data": {
      "text/plain": [
       "array([[5, 0, 3],\n",
       "       [3, 7, 9],\n",
       "       [3, 5, 2],\n",
       "       [4, 7, 6],\n",
       "       [8, 8, 1]])"
      ]
     },
     "execution_count": 93,
     "metadata": {},
     "output_type": "execute_result"
    }
   ],
   "source": [
    "np.random.seed(0)\n",
    "\n",
    "mat1 = np.random.randint(10, size=(5, 3))\n",
    "mat2 = np.random.randint(10, size=(5, 3))\n",
    "\n",
    "mat1"
   ]
  },
  {
   "cell_type": "code",
   "execution_count": 94,
   "metadata": {},
   "outputs": [
    {
     "data": {
      "text/plain": [
       "array([[6, 7, 7],\n",
       "       [8, 1, 5],\n",
       "       [9, 8, 9],\n",
       "       [4, 3, 0],\n",
       "       [3, 5, 0]])"
      ]
     },
     "execution_count": 94,
     "metadata": {},
     "output_type": "execute_result"
    }
   ],
   "source": [
    "mat2"
   ]
  },
  {
   "cell_type": "code",
   "execution_count": 95,
   "metadata": {},
   "outputs": [
    {
     "data": {
      "text/plain": [
       "((5, 3), (5, 3))"
      ]
     },
     "execution_count": 95,
     "metadata": {},
     "output_type": "execute_result"
    }
   ],
   "source": [
    "mat1.shape, mat2.shape"
   ]
  },
  {
   "cell_type": "code",
   "execution_count": 96,
   "metadata": {},
   "outputs": [
    {
     "data": {
      "text/plain": [
       "array([[30,  0, 21],\n",
       "       [24,  7, 45],\n",
       "       [27, 40, 18],\n",
       "       [16, 21,  0],\n",
       "       [24, 40,  0]])"
      ]
     },
     "execution_count": 96,
     "metadata": {},
     "output_type": "execute_result"
    }
   ],
   "source": [
    "# Element-Wise multiplication (Hadamard product)\n",
    "mat1 * mat2"
   ]
  },
  {
   "cell_type": "code",
   "execution_count": 97,
   "metadata": {},
   "outputs": [
    {
     "ename": "ValueError",
     "evalue": "shapes (5,3) and (5,3) not aligned: 3 (dim 1) != 5 (dim 0)",
     "output_type": "error",
     "traceback": [
      "\u001b[0;31m---------------------------------------------------------------------------\u001b[0m",
      "\u001b[0;31mValueError\u001b[0m                                Traceback (most recent call last)",
      "Cell \u001b[0;32mIn[97], line 2\u001b[0m\n\u001b[1;32m      1\u001b[0m \u001b[38;5;66;03m# Dot product\u001b[39;00m\n\u001b[0;32m----> 2\u001b[0m \u001b[43mnp\u001b[49m\u001b[38;5;241;43m.\u001b[39;49m\u001b[43mdot\u001b[49m\u001b[43m(\u001b[49m\u001b[43mmat1\u001b[49m\u001b[43m,\u001b[49m\u001b[43m \u001b[49m\u001b[43mmat2\u001b[49m\u001b[43m)\u001b[49m\n",
      "File \u001b[0;32m<__array_function__ internals>:200\u001b[0m, in \u001b[0;36mdot\u001b[0;34m(*args, **kwargs)\u001b[0m\n",
      "\u001b[0;31mValueError\u001b[0m: shapes (5,3) and (5,3) not aligned: 3 (dim 1) != 5 (dim 0)"
     ]
    }
   ],
   "source": [
    "# Dot product\n",
    "np.dot(mat1, mat2)"
   ]
  },
  {
   "cell_type": "code",
   "execution_count": 98,
   "metadata": {},
   "outputs": [
    {
     "data": {
      "text/plain": [
       "((5, 3), (3, 5))"
      ]
     },
     "execution_count": 98,
     "metadata": {},
     "output_type": "execute_result"
    }
   ],
   "source": [
    "# Transpose mat1\n",
    "mat2_T = mat2.T\n",
    "mat1.shape, mat2_T.shape"
   ]
  },
  {
   "cell_type": "code",
   "execution_count": 99,
   "metadata": {},
   "outputs": [
    {
     "data": {
      "text/plain": [
       "array([[ 51,  55,  72,  20,  15],\n",
       "       [130,  76, 164,  33,  44],\n",
       "       [ 67,  39,  85,  27,  34],\n",
       "       [115,  69, 146,  37,  47],\n",
       "       [111,  77, 145,  56,  64]])"
      ]
     },
     "execution_count": 99,
     "metadata": {},
     "output_type": "execute_result"
    }
   ],
   "source": [
    "mat3 = np.dot(mat1, mat2_T)\n",
    "mat3"
   ]
  },
  {
   "cell_type": "code",
   "execution_count": 100,
   "metadata": {},
   "outputs": [
    {
     "data": {
      "text/plain": [
       "(5, 5)"
      ]
     },
     "execution_count": 100,
     "metadata": {},
     "output_type": "execute_result"
    }
   ],
   "source": [
    "np.dot(mat1, mat2_T).shape"
   ]
  },
  {
   "cell_type": "markdown",
   "metadata": {},
   "source": [
    "## Dot product example (nut butter sales)"
   ]
  },
  {
   "cell_type": "code",
   "execution_count": 102,
   "metadata": {},
   "outputs": [
    {
     "data": {
      "text/plain": [
       "array([[12, 15,  0],\n",
       "       [ 3,  3,  7],\n",
       "       [ 9, 19, 18],\n",
       "       [ 4,  6, 12],\n",
       "       [ 1,  6,  7]])"
      ]
     },
     "execution_count": 102,
     "metadata": {},
     "output_type": "execute_result"
    }
   ],
   "source": [
    "np.random.seed(0)\n",
    "sales_amounts = np.random.randint(20, size=(5, 3))\n",
    "sales_amounts"
   ]
  },
  {
   "cell_type": "code",
   "execution_count": 103,
   "metadata": {},
   "outputs": [
    {
     "data": {
      "text/html": [
       "<div>\n",
       "<style scoped>\n",
       "    .dataframe tbody tr th:only-of-type {\n",
       "        vertical-align: middle;\n",
       "    }\n",
       "\n",
       "    .dataframe tbody tr th {\n",
       "        vertical-align: top;\n",
       "    }\n",
       "\n",
       "    .dataframe thead th {\n",
       "        text-align: right;\n",
       "    }\n",
       "</style>\n",
       "<table border=\"1\" class=\"dataframe\">\n",
       "  <thead>\n",
       "    <tr style=\"text-align: right;\">\n",
       "      <th></th>\n",
       "      <th>Almond butter</th>\n",
       "      <th>Peanut butter</th>\n",
       "      <th>Cashew butter</th>\n",
       "    </tr>\n",
       "  </thead>\n",
       "  <tbody>\n",
       "    <tr>\n",
       "      <th>Mon</th>\n",
       "      <td>12</td>\n",
       "      <td>15</td>\n",
       "      <td>0</td>\n",
       "    </tr>\n",
       "    <tr>\n",
       "      <th>Tues</th>\n",
       "      <td>3</td>\n",
       "      <td>3</td>\n",
       "      <td>7</td>\n",
       "    </tr>\n",
       "    <tr>\n",
       "      <th>Wed</th>\n",
       "      <td>9</td>\n",
       "      <td>19</td>\n",
       "      <td>18</td>\n",
       "    </tr>\n",
       "    <tr>\n",
       "      <th>Thurs</th>\n",
       "      <td>4</td>\n",
       "      <td>6</td>\n",
       "      <td>12</td>\n",
       "    </tr>\n",
       "    <tr>\n",
       "      <th>Fri</th>\n",
       "      <td>1</td>\n",
       "      <td>6</td>\n",
       "      <td>7</td>\n",
       "    </tr>\n",
       "  </tbody>\n",
       "</table>\n",
       "</div>"
      ],
      "text/plain": [
       "       Almond butter  Peanut butter  Cashew butter\n",
       "Mon               12             15              0\n",
       "Tues               3              3              7\n",
       "Wed                9             19             18\n",
       "Thurs              4              6             12\n",
       "Fri                1              6              7"
      ]
     },
     "execution_count": 103,
     "metadata": {},
     "output_type": "execute_result"
    }
   ],
   "source": [
    "# Create weekly_sales DataFrame\n",
    "weekly_sales = pd.DataFrame(sales_amounts,\n",
    "                           index=[\"Mon\", \"Tues\", \"Wed\", \"Thurs\", \"Fri\"],\n",
    "                           columns=[\"Almond butter\", \"Peanut butter\", \"Cashew butter\"])\n",
    "weekly_sales"
   ]
  },
  {
   "cell_type": "code",
   "execution_count": 104,
   "metadata": {},
   "outputs": [
    {
     "data": {
      "text/plain": [
       "array([10,  8, 12])"
      ]
     },
     "execution_count": 104,
     "metadata": {},
     "output_type": "execute_result"
    }
   ],
   "source": [
    "# Create price array\n",
    "prices = np.array([10, 8, 12])\n",
    "prices"
   ]
  },
  {
   "cell_type": "code",
   "execution_count": 106,
   "metadata": {},
   "outputs": [
    {
     "data": {
      "text/plain": [
       "(3,)"
      ]
     },
     "execution_count": 106,
     "metadata": {},
     "output_type": "execute_result"
    }
   ],
   "source": [
    "prices.shape"
   ]
  },
  {
   "cell_type": "code",
   "execution_count": 107,
   "metadata": {},
   "outputs": [
    {
     "data": {
      "text/html": [
       "<div>\n",
       "<style scoped>\n",
       "    .dataframe tbody tr th:only-of-type {\n",
       "        vertical-align: middle;\n",
       "    }\n",
       "\n",
       "    .dataframe tbody tr th {\n",
       "        vertical-align: top;\n",
       "    }\n",
       "\n",
       "    .dataframe thead th {\n",
       "        text-align: right;\n",
       "    }\n",
       "</style>\n",
       "<table border=\"1\" class=\"dataframe\">\n",
       "  <thead>\n",
       "    <tr style=\"text-align: right;\">\n",
       "      <th></th>\n",
       "      <th>Almond butter</th>\n",
       "      <th>Peanut butter</th>\n",
       "      <th>Cashew butter</th>\n",
       "    </tr>\n",
       "  </thead>\n",
       "  <tbody>\n",
       "    <tr>\n",
       "      <th>Price</th>\n",
       "      <td>10</td>\n",
       "      <td>8</td>\n",
       "      <td>12</td>\n",
       "    </tr>\n",
       "  </tbody>\n",
       "</table>\n",
       "</div>"
      ],
      "text/plain": [
       "       Almond butter  Peanut butter  Cashew butter\n",
       "Price             10              8             12"
      ]
     },
     "execution_count": 107,
     "metadata": {},
     "output_type": "execute_result"
    }
   ],
   "source": [
    "# Create butter_prices DataFrame\n",
    "butter_prices = pd.DataFrame(prices.reshape(1,3), \n",
    "                            index=[\"Price\"],\n",
    "                            columns=[\"Almond butter\", \"Peanut butter\", \"Cashew butter\"])\n",
    "butter_prices"
   ]
  },
  {
   "cell_type": "code",
   "execution_count": 113,
   "metadata": {},
   "outputs": [
    {
     "data": {
      "text/plain": [
       "array([240, 138, 458, 232, 142])"
      ]
     },
     "execution_count": 113,
     "metadata": {},
     "output_type": "execute_result"
    }
   ],
   "source": [
    "total_sales = prices.dot(sales_amounts.T)\n",
    "total_sales"
   ]
  },
  {
   "cell_type": "code",
   "execution_count": 116,
   "metadata": {},
   "outputs": [
    {
     "data": {
      "text/plain": [
       "((1, 3), (5, 3))"
      ]
     },
     "execution_count": 116,
     "metadata": {},
     "output_type": "execute_result"
    }
   ],
   "source": [
    "# Create daily_sales\n",
    "butter_prices.shape, weekly_sales.shape"
   ]
  },
  {
   "cell_type": "code",
   "execution_count": 123,
   "metadata": {},
   "outputs": [
    {
     "ename": "ValueError",
     "evalue": "matrices are not aligned",
     "output_type": "error",
     "traceback": [
      "\u001b[0;31m---------------------------------------------------------------------------\u001b[0m",
      "\u001b[0;31mValueError\u001b[0m                                Traceback (most recent call last)",
      "\u001b[0;32m/tmp/ipykernel_1979/3331091884.py\u001b[0m in \u001b[0;36m?\u001b[0;34m()\u001b[0m\n\u001b[0;32m----> 1\u001b[0;31m \u001b[0mdaily_sales\u001b[0m \u001b[0;34m=\u001b[0m \u001b[0mbutter_prices\u001b[0m\u001b[0;34m.\u001b[0m\u001b[0mdot\u001b[0m\u001b[0;34m(\u001b[0m\u001b[0mweekly_sales\u001b[0m\u001b[0;34m.\u001b[0m\u001b[0mT\u001b[0m\u001b[0;34m)\u001b[0m\u001b[0;34m\u001b[0m\u001b[0;34m\u001b[0m\u001b[0m\n\u001b[0m\u001b[1;32m      2\u001b[0m \u001b[0mdaily_sales\u001b[0m\u001b[0;34m\u001b[0m\u001b[0;34m\u001b[0m\u001b[0m\n",
      "\u001b[0;32m~/anaconda3/envs/data-science-envs/lib/python3.8/site-packages/pandas/core/frame.py\u001b[0m in \u001b[0;36m?\u001b[0;34m(self, other)\u001b[0m\n\u001b[1;32m   1579\u001b[0m         \"\"\"\n\u001b[1;32m   1580\u001b[0m         \u001b[0;32mif\u001b[0m \u001b[0misinstance\u001b[0m\u001b[0;34m(\u001b[0m\u001b[0mother\u001b[0m\u001b[0;34m,\u001b[0m \u001b[0;34m(\u001b[0m\u001b[0mSeries\u001b[0m\u001b[0;34m,\u001b[0m \u001b[0mDataFrame\u001b[0m\u001b[0;34m)\u001b[0m\u001b[0;34m)\u001b[0m\u001b[0;34m:\u001b[0m\u001b[0;34m\u001b[0m\u001b[0;34m\u001b[0m\u001b[0m\n\u001b[1;32m   1581\u001b[0m             \u001b[0mcommon\u001b[0m \u001b[0;34m=\u001b[0m \u001b[0mself\u001b[0m\u001b[0;34m.\u001b[0m\u001b[0mcolumns\u001b[0m\u001b[0;34m.\u001b[0m\u001b[0munion\u001b[0m\u001b[0;34m(\u001b[0m\u001b[0mother\u001b[0m\u001b[0;34m.\u001b[0m\u001b[0mindex\u001b[0m\u001b[0;34m)\u001b[0m\u001b[0;34m\u001b[0m\u001b[0;34m\u001b[0m\u001b[0m\n\u001b[1;32m   1582\u001b[0m             \u001b[0;32mif\u001b[0m \u001b[0mlen\u001b[0m\u001b[0;34m(\u001b[0m\u001b[0mcommon\u001b[0m\u001b[0;34m)\u001b[0m \u001b[0;34m>\u001b[0m \u001b[0mlen\u001b[0m\u001b[0;34m(\u001b[0m\u001b[0mself\u001b[0m\u001b[0;34m.\u001b[0m\u001b[0mcolumns\u001b[0m\u001b[0;34m)\u001b[0m \u001b[0;32mor\u001b[0m \u001b[0mlen\u001b[0m\u001b[0;34m(\u001b[0m\u001b[0mcommon\u001b[0m\u001b[0;34m)\u001b[0m \u001b[0;34m>\u001b[0m \u001b[0mlen\u001b[0m\u001b[0;34m(\u001b[0m\u001b[0mother\u001b[0m\u001b[0;34m.\u001b[0m\u001b[0mindex\u001b[0m\u001b[0;34m)\u001b[0m\u001b[0;34m:\u001b[0m\u001b[0;34m\u001b[0m\u001b[0;34m\u001b[0m\u001b[0m\n\u001b[0;32m-> 1583\u001b[0;31m                 \u001b[0;32mraise\u001b[0m \u001b[0mValueError\u001b[0m\u001b[0;34m(\u001b[0m\u001b[0;34m\"matrices are not aligned\"\u001b[0m\u001b[0;34m)\u001b[0m\u001b[0;34m\u001b[0m\u001b[0;34m\u001b[0m\u001b[0m\n\u001b[0m\u001b[1;32m   1584\u001b[0m \u001b[0;34m\u001b[0m\u001b[0m\n\u001b[1;32m   1585\u001b[0m             \u001b[0mleft\u001b[0m \u001b[0;34m=\u001b[0m \u001b[0mself\u001b[0m\u001b[0;34m.\u001b[0m\u001b[0mreindex\u001b[0m\u001b[0;34m(\u001b[0m\u001b[0mcolumns\u001b[0m\u001b[0;34m=\u001b[0m\u001b[0mcommon\u001b[0m\u001b[0;34m,\u001b[0m \u001b[0mcopy\u001b[0m\u001b[0;34m=\u001b[0m\u001b[0;32mFalse\u001b[0m\u001b[0;34m)\u001b[0m\u001b[0;34m\u001b[0m\u001b[0;34m\u001b[0m\u001b[0m\n\u001b[1;32m   1586\u001b[0m             \u001b[0mright\u001b[0m \u001b[0;34m=\u001b[0m \u001b[0mother\u001b[0m\u001b[0;34m.\u001b[0m\u001b[0mreindex\u001b[0m\u001b[0;34m(\u001b[0m\u001b[0mindex\u001b[0m\u001b[0;34m=\u001b[0m\u001b[0mcommon\u001b[0m\u001b[0;34m,\u001b[0m \u001b[0mcopy\u001b[0m\u001b[0;34m=\u001b[0m\u001b[0;32mFalse\u001b[0m\u001b[0;34m)\u001b[0m\u001b[0;34m\u001b[0m\u001b[0;34m\u001b[0m\u001b[0m\n",
      "\u001b[0;31mValueError\u001b[0m: matrices are not aligned"
     ]
    }
   ],
   "source": [
    "daily_sales = butter_prices.dot(weekly_sales.T)\n",
    "daily_sales"
   ]
  },
  {
   "cell_type": "code",
   "execution_count": 118,
   "metadata": {},
   "outputs": [
    {
     "data": {
      "text/html": [
       "<div>\n",
       "<style scoped>\n",
       "    .dataframe tbody tr th:only-of-type {\n",
       "        vertical-align: middle;\n",
       "    }\n",
       "\n",
       "    .dataframe tbody tr th {\n",
       "        vertical-align: top;\n",
       "    }\n",
       "\n",
       "    .dataframe thead th {\n",
       "        text-align: right;\n",
       "    }\n",
       "</style>\n",
       "<table border=\"1\" class=\"dataframe\">\n",
       "  <thead>\n",
       "    <tr style=\"text-align: right;\">\n",
       "      <th></th>\n",
       "      <th>Almond butter</th>\n",
       "      <th>Peanut butter</th>\n",
       "      <th>Cashew butter</th>\n",
       "    </tr>\n",
       "  </thead>\n",
       "  <tbody>\n",
       "    <tr>\n",
       "      <th>Mon</th>\n",
       "      <td>12</td>\n",
       "      <td>15</td>\n",
       "      <td>0</td>\n",
       "    </tr>\n",
       "    <tr>\n",
       "      <th>Tues</th>\n",
       "      <td>3</td>\n",
       "      <td>3</td>\n",
       "      <td>7</td>\n",
       "    </tr>\n",
       "    <tr>\n",
       "      <th>Wed</th>\n",
       "      <td>9</td>\n",
       "      <td>19</td>\n",
       "      <td>18</td>\n",
       "    </tr>\n",
       "    <tr>\n",
       "      <th>Thurs</th>\n",
       "      <td>4</td>\n",
       "      <td>6</td>\n",
       "      <td>12</td>\n",
       "    </tr>\n",
       "    <tr>\n",
       "      <th>Fri</th>\n",
       "      <td>1</td>\n",
       "      <td>6</td>\n",
       "      <td>7</td>\n",
       "    </tr>\n",
       "  </tbody>\n",
       "</table>\n",
       "</div>"
      ],
      "text/plain": [
       "       Almond butter  Peanut butter  Cashew butter\n",
       "Mon               12             15              0\n",
       "Tues               3              3              7\n",
       "Wed                9             19             18\n",
       "Thurs              4              6             12\n",
       "Fri                1              6              7"
      ]
     },
     "execution_count": 118,
     "metadata": {},
     "output_type": "execute_result"
    }
   ],
   "source": [
    "weekly_sales"
   ]
  },
  {
   "cell_type": "code",
   "execution_count": 122,
   "metadata": {},
   "outputs": [
    {
     "data": {
      "text/html": [
       "<div>\n",
       "<style scoped>\n",
       "    .dataframe tbody tr th:only-of-type {\n",
       "        vertical-align: middle;\n",
       "    }\n",
       "\n",
       "    .dataframe tbody tr th {\n",
       "        vertical-align: top;\n",
       "    }\n",
       "\n",
       "    .dataframe thead th {\n",
       "        text-align: right;\n",
       "    }\n",
       "</style>\n",
       "<table border=\"1\" class=\"dataframe\">\n",
       "  <thead>\n",
       "    <tr style=\"text-align: right;\">\n",
       "      <th></th>\n",
       "      <th>Almond butter</th>\n",
       "      <th>Peanut butter</th>\n",
       "      <th>Cashew butter</th>\n",
       "      <th>Total ($)</th>\n",
       "    </tr>\n",
       "  </thead>\n",
       "  <tbody>\n",
       "    <tr>\n",
       "      <th>Mon</th>\n",
       "      <td>12</td>\n",
       "      <td>15</td>\n",
       "      <td>0</td>\n",
       "      <td>240</td>\n",
       "    </tr>\n",
       "    <tr>\n",
       "      <th>Tues</th>\n",
       "      <td>3</td>\n",
       "      <td>3</td>\n",
       "      <td>7</td>\n",
       "      <td>138</td>\n",
       "    </tr>\n",
       "    <tr>\n",
       "      <th>Wed</th>\n",
       "      <td>9</td>\n",
       "      <td>19</td>\n",
       "      <td>18</td>\n",
       "      <td>458</td>\n",
       "    </tr>\n",
       "    <tr>\n",
       "      <th>Thurs</th>\n",
       "      <td>4</td>\n",
       "      <td>6</td>\n",
       "      <td>12</td>\n",
       "      <td>232</td>\n",
       "    </tr>\n",
       "    <tr>\n",
       "      <th>Fri</th>\n",
       "      <td>1</td>\n",
       "      <td>6</td>\n",
       "      <td>7</td>\n",
       "      <td>142</td>\n",
       "    </tr>\n",
       "  </tbody>\n",
       "</table>\n",
       "</div>"
      ],
      "text/plain": [
       "       Almond butter  Peanut butter  Cashew butter  Total ($)\n",
       "Mon               12             15              0        240\n",
       "Tues               3              3              7        138\n",
       "Wed                9             19             18        458\n",
       "Thurs              4              6             12        232\n",
       "Fri                1              6              7        142"
      ]
     },
     "execution_count": 122,
     "metadata": {},
     "output_type": "execute_result"
    }
   ],
   "source": [
    "weekly_sales[\"Total ($)\"] = daily_sales.T\n",
    "weekly_sales"
   ]
  },
  {
   "cell_type": "code",
   "execution_count": 130,
   "metadata": {},
   "outputs": [
    {
     "data": {
      "text/plain": [
       "'Wed'"
      ]
     },
     "execution_count": 130,
     "metadata": {},
     "output_type": "execute_result"
    }
   ],
   "source": [
    "weekly_sales[\"Total ($)\"].idxmax()"
   ]
  },
  {
   "cell_type": "markdown",
   "metadata": {},
   "source": [
    "### Comparison Operators"
   ]
  },
  {
   "cell_type": "code",
   "execution_count": 131,
   "metadata": {},
   "outputs": [
    {
     "data": {
      "text/plain": [
       "array([1, 2, 3])"
      ]
     },
     "execution_count": 131,
     "metadata": {},
     "output_type": "execute_result"
    }
   ],
   "source": [
    "a1\n"
   ]
  },
  {
   "cell_type": "code",
   "execution_count": 132,
   "metadata": {},
   "outputs": [
    {
     "data": {
      "text/plain": [
       "array([[1. , 2. , 3.3],\n",
       "       [4. , 5. , 6.5]])"
      ]
     },
     "execution_count": 132,
     "metadata": {},
     "output_type": "execute_result"
    }
   ],
   "source": [
    "a2"
   ]
  },
  {
   "cell_type": "code",
   "execution_count": 133,
   "metadata": {},
   "outputs": [
    {
     "data": {
      "text/plain": [
       "array([[False, False, False],\n",
       "       [False, False, False]])"
      ]
     },
     "execution_count": 133,
     "metadata": {},
     "output_type": "execute_result"
    }
   ],
   "source": [
    "a1 > a2"
   ]
  },
  {
   "cell_type": "code",
   "execution_count": 134,
   "metadata": {},
   "outputs": [
    {
     "data": {
      "text/plain": [
       "array([[ True,  True, False],\n",
       "       [False, False, False]])"
      ]
     },
     "execution_count": 134,
     "metadata": {},
     "output_type": "execute_result"
    }
   ],
   "source": [
    "a1 >= a2"
   ]
  },
  {
   "cell_type": "code",
   "execution_count": 136,
   "metadata": {},
   "outputs": [
    {
     "data": {
      "text/plain": [
       "array([[ True,  True, False],\n",
       "       [False, False, False]])"
      ]
     },
     "execution_count": 136,
     "metadata": {},
     "output_type": "execute_result"
    }
   ],
   "source": [
    "bool_array = a1 >= a2\n",
    "bool_array"
   ]
  },
  {
   "cell_type": "code",
   "execution_count": 137,
   "metadata": {},
   "outputs": [
    {
     "data": {
      "text/plain": [
       "(numpy.ndarray, dtype('bool'))"
      ]
     },
     "execution_count": 137,
     "metadata": {},
     "output_type": "execute_result"
    }
   ],
   "source": [
    "type(bool_array), bool_array.dtype"
   ]
  },
  {
   "cell_type": "code",
   "execution_count": 138,
   "metadata": {},
   "outputs": [
    {
     "data": {
      "text/plain": [
       "array([False, False, False])"
      ]
     },
     "execution_count": 138,
     "metadata": {},
     "output_type": "execute_result"
    }
   ],
   "source": [
    "a1 > 5"
   ]
  },
  {
   "cell_type": "code",
   "execution_count": 139,
   "metadata": {},
   "outputs": [
    {
     "data": {
      "text/plain": [
       "array([ True,  True,  True])"
      ]
     },
     "execution_count": 139,
     "metadata": {},
     "output_type": "execute_result"
    }
   ],
   "source": [
    "a1 < 5"
   ]
  },
  {
   "cell_type": "code",
   "execution_count": 140,
   "metadata": {},
   "outputs": [
    {
     "data": {
      "text/plain": [
       "array([ True,  True,  True])"
      ]
     },
     "execution_count": 140,
     "metadata": {},
     "output_type": "execute_result"
    }
   ],
   "source": [
    "a1 == a1"
   ]
  },
  {
   "cell_type": "code",
   "execution_count": 141,
   "metadata": {},
   "outputs": [
    {
     "data": {
      "text/plain": [
       "array([[ True,  True, False],\n",
       "       [False, False, False]])"
      ]
     },
     "execution_count": 141,
     "metadata": {},
     "output_type": "execute_result"
    }
   ],
   "source": [
    "a1 == a2"
   ]
  },
  {
   "cell_type": "markdown",
   "metadata": {},
   "source": [
    "# Sorting Arrays"
   ]
  },
  {
   "cell_type": "code",
   "execution_count": 144,
   "metadata": {},
   "outputs": [
    {
     "data": {
      "text/plain": [
       "array([[8, 1, 3, 3, 3],\n",
       "       [7, 0, 1, 9, 9],\n",
       "       [0, 4, 7, 3, 2]])"
      ]
     },
     "execution_count": 144,
     "metadata": {},
     "output_type": "execute_result"
    }
   ],
   "source": [
    "random_array = np.random.randint(10, size=(3, 5))\n",
    "random_array"
   ]
  },
  {
   "cell_type": "code",
   "execution_count": 145,
   "metadata": {},
   "outputs": [
    {
     "data": {
      "text/plain": [
       "array([[1, 3, 3, 3, 8],\n",
       "       [0, 1, 7, 9, 9],\n",
       "       [0, 2, 3, 4, 7]])"
      ]
     },
     "execution_count": 145,
     "metadata": {},
     "output_type": "execute_result"
    }
   ],
   "source": [
    "np.sort(random_array)"
   ]
  },
  {
   "cell_type": "code",
   "execution_count": 146,
   "metadata": {},
   "outputs": [
    {
     "data": {
      "text/plain": [
       "array([[1, 2, 3, 4, 0],\n",
       "       [1, 2, 0, 3, 4],\n",
       "       [0, 4, 3, 1, 2]])"
      ]
     },
     "execution_count": 146,
     "metadata": {},
     "output_type": "execute_result"
    }
   ],
   "source": [
    "np.argsort(random_array)"
   ]
  },
  {
   "cell_type": "code",
   "execution_count": 147,
   "metadata": {},
   "outputs": [
    {
     "data": {
      "text/plain": [
       "array([1, 2, 3])"
      ]
     },
     "execution_count": 147,
     "metadata": {},
     "output_type": "execute_result"
    }
   ],
   "source": [
    "a1"
   ]
  },
  {
   "cell_type": "code",
   "execution_count": 148,
   "metadata": {},
   "outputs": [
    {
     "data": {
      "text/plain": [
       "array([0, 1, 2])"
      ]
     },
     "execution_count": 148,
     "metadata": {},
     "output_type": "execute_result"
    }
   ],
   "source": [
    "np.argsort(a1)"
   ]
  },
  {
   "cell_type": "code",
   "execution_count": 149,
   "metadata": {},
   "outputs": [
    {
     "data": {
      "text/plain": [
       "0"
      ]
     },
     "execution_count": 149,
     "metadata": {},
     "output_type": "execute_result"
    }
   ],
   "source": [
    "np.argmin(a1)"
   ]
  },
  {
   "cell_type": "code",
   "execution_count": 150,
   "metadata": {},
   "outputs": [
    {
     "data": {
      "text/plain": [
       "2"
      ]
     },
     "execution_count": 150,
     "metadata": {},
     "output_type": "execute_result"
    }
   ],
   "source": [
    "np.argmax(a1)"
   ]
  },
  {
   "cell_type": "code",
   "execution_count": 152,
   "metadata": {},
   "outputs": [
    {
     "data": {
      "text/plain": [
       "array([0, 2, 2, 1, 1])"
      ]
     },
     "execution_count": 152,
     "metadata": {},
     "output_type": "execute_result"
    }
   ],
   "source": [
    "np.argmax(random_array, axis=0)"
   ]
  },
  {
   "cell_type": "code",
   "execution_count": 153,
   "metadata": {},
   "outputs": [
    {
     "data": {
      "text/plain": [
       "array([0, 3, 2])"
      ]
     },
     "execution_count": 153,
     "metadata": {},
     "output_type": "execute_result"
    }
   ],
   "source": [
    "np.argmax(random_array, axis=1)"
   ]
  },
  {
   "cell_type": "code",
   "execution_count": 163,
   "metadata": {},
   "outputs": [
    {
     "data": {
      "text/plain": [
       "8"
      ]
     },
     "execution_count": 163,
     "metadata": {},
     "output_type": "execute_result"
    }
   ],
   "source": [
    "np.argmax(random_array)"
   ]
  },
  {
   "cell_type": "markdown",
   "metadata": {},
   "source": [
    "# Practical Example - NumPy in Action!!!!"
   ]
  },
  {
   "cell_type": "markdown",
   "metadata": {},
   "source": [
    "<img src=\"numpy-panda.png\"/>"
   ]
  },
  {
   "cell_type": "code",
   "execution_count": 170,
   "metadata": {},
   "outputs": [
    {
     "data": {
      "text/plain": [
       "numpy.ndarray"
      ]
     },
     "execution_count": 170,
     "metadata": {},
     "output_type": "execute_result"
    }
   ],
   "source": [
    "# Turn an image into a NumPy array\n",
    "from matplotlib.image import imread\n",
    "\n",
    "panda = imread(\"numpy-panda.png\")\n",
    "type(panda)"
   ]
  },
  {
   "cell_type": "code",
   "execution_count": 173,
   "metadata": {},
   "outputs": [
    {
     "data": {
      "text/plain": [
       "((2330, 3500, 3), 24465000, 3)"
      ]
     },
     "execution_count": 173,
     "metadata": {},
     "output_type": "execute_result"
    }
   ],
   "source": [
    "panda.shape, panda.size, panda.ndim"
   ]
  },
  {
   "cell_type": "code",
   "execution_count": 174,
   "metadata": {},
   "outputs": [
    {
     "data": {
      "text/plain": [
       "array([[[0.05490196, 0.10588235, 0.06666667],\n",
       "        [0.05490196, 0.10588235, 0.06666667],\n",
       "        [0.05490196, 0.10588235, 0.06666667],\n",
       "        ...,\n",
       "        [0.16470589, 0.12941177, 0.09411765],\n",
       "        [0.16470589, 0.12941177, 0.09411765],\n",
       "        [0.16470589, 0.12941177, 0.09411765]],\n",
       "\n",
       "       [[0.05490196, 0.10588235, 0.06666667],\n",
       "        [0.05490196, 0.10588235, 0.06666667],\n",
       "        [0.05490196, 0.10588235, 0.06666667],\n",
       "        ...,\n",
       "        [0.16470589, 0.12941177, 0.09411765],\n",
       "        [0.16470589, 0.12941177, 0.09411765],\n",
       "        [0.16470589, 0.12941177, 0.09411765]],\n",
       "\n",
       "       [[0.05490196, 0.10588235, 0.06666667],\n",
       "        [0.05490196, 0.10588235, 0.06666667],\n",
       "        [0.05490196, 0.10588235, 0.06666667],\n",
       "        ...,\n",
       "        [0.16470589, 0.12941177, 0.09411765],\n",
       "        [0.16470589, 0.12941177, 0.09411765],\n",
       "        [0.16470589, 0.12941177, 0.09411765]],\n",
       "\n",
       "       ...,\n",
       "\n",
       "       [[0.13333334, 0.07450981, 0.05490196],\n",
       "        [0.12156863, 0.0627451 , 0.04313726],\n",
       "        [0.10980392, 0.05098039, 0.03137255],\n",
       "        ...,\n",
       "        [0.02745098, 0.02745098, 0.03529412],\n",
       "        [0.02745098, 0.02745098, 0.03529412],\n",
       "        [0.02745098, 0.02745098, 0.03529412]],\n",
       "\n",
       "       [[0.13333334, 0.07450981, 0.05490196],\n",
       "        [0.12156863, 0.0627451 , 0.04313726],\n",
       "        [0.12156863, 0.0627451 , 0.04313726],\n",
       "        ...,\n",
       "        [0.02352941, 0.02352941, 0.03137255],\n",
       "        [0.02352941, 0.02352941, 0.03137255],\n",
       "        [0.02352941, 0.02352941, 0.03137255]],\n",
       "\n",
       "       [[0.13333334, 0.07450981, 0.05490196],\n",
       "        [0.12156863, 0.0627451 , 0.04313726],\n",
       "        [0.12156863, 0.0627451 , 0.04313726],\n",
       "        ...,\n",
       "        [0.02352941, 0.02352941, 0.03137255],\n",
       "        [0.02352941, 0.02352941, 0.03137255],\n",
       "        [0.02352941, 0.02352941, 0.03137255]]], dtype=float32)"
      ]
     },
     "execution_count": 174,
     "metadata": {},
     "output_type": "execute_result"
    }
   ],
   "source": [
    "panda"
   ]
  },
  {
   "cell_type": "code",
   "execution_count": null,
   "metadata": {},
   "outputs": [],
   "source": []
  }
 ],
 "metadata": {
  "kernelspec": {
   "display_name": "Python 3 (ipykernel)",
   "language": "python",
   "name": "python3"
  },
  "language_info": {
   "codemirror_mode": {
    "name": "ipython",
    "version": 3
   },
   "file_extension": ".py",
   "mimetype": "text/x-python",
   "name": "python",
   "nbconvert_exporter": "python",
   "pygments_lexer": "ipython3",
   "version": "3.8.17"
  }
 },
 "nbformat": 4,
 "nbformat_minor": 2
}
