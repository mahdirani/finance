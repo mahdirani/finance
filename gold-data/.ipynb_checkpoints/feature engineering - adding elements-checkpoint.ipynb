{
 "cells": [
  {
   "cell_type": "code",
   "execution_count": 1,
   "id": "c8243002",
   "metadata": {},
   "outputs": [],
   "source": [
    "import pandas as pd\n",
    "import numpy as np\n",
    "import matplotlib.pyplot as plt\n",
    "import math"
   ]
  },
  {
   "cell_type": "markdown",
   "id": "21934f7d",
   "metadata": {},
   "source": [
    "# Import Data & Manipulate Data"
   ]
  },
  {
   "cell_type": "code",
   "execution_count": 2,
   "id": "effbb632",
   "metadata": {},
   "outputs": [],
   "source": [
    "df_org = pd.read_csv(\"[2010-2020]XAUUSD-M5-NoSession.csv\")"
   ]
  },
  {
   "cell_type": "markdown",
   "id": "38244e38",
   "metadata": {},
   "source": [
    "## Set DateTime as Index"
   ]
  },
  {
   "cell_type": "code",
   "execution_count": 3,
   "id": "5b3a4118",
   "metadata": {},
   "outputs": [
    {
     "name": "stdout",
     "output_type": "stream",
     "text": [
      "<class 'pandas.core.frame.DataFrame'>\n",
      "DatetimeIndex: 715180 entries, 2010-01-01 00:00:00 to 2020-01-01 23:55:00\n",
      "Data columns (total 5 columns):\n",
      " #   Column  Non-Null Count   Dtype  \n",
      "---  ------  --------------   -----  \n",
      " 0   Open    715180 non-null  float64\n",
      " 1   High    715180 non-null  float64\n",
      " 2   Low     715180 non-null  float64\n",
      " 3   Close   715180 non-null  float64\n",
      " 4   Volume  715180 non-null  int64  \n",
      "dtypes: float64(4), int64(1)\n",
      "memory usage: 32.7 MB\n"
     ]
    }
   ],
   "source": [
    "df_org[\"DateTime\"] = pd.to_datetime(df_org[\"DateTime\"])\n",
    "df_org = df_org.set_index(\"DateTime\")\n",
    "df_org = df_org.sort_index()\n",
    "df_org.info()"
   ]
  },
  {
   "cell_type": "markdown",
   "id": "a21d814e",
   "metadata": {},
   "source": [
    "# Select Columns"
   ]
  },
  {
   "cell_type": "code",
   "execution_count": 9,
   "id": "c77da667",
   "metadata": {
    "scrolled": true
   },
   "outputs": [
    {
     "data": {
      "text/html": [
       "<div>\n",
       "<style scoped>\n",
       "    .dataframe tbody tr th:only-of-type {\n",
       "        vertical-align: middle;\n",
       "    }\n",
       "\n",
       "    .dataframe tbody tr th {\n",
       "        vertical-align: top;\n",
       "    }\n",
       "\n",
       "    .dataframe thead th {\n",
       "        text-align: right;\n",
       "    }\n",
       "</style>\n",
       "<table border=\"1\" class=\"dataframe\">\n",
       "  <thead>\n",
       "    <tr style=\"text-align: right;\">\n",
       "      <th></th>\n",
       "      <th>Open</th>\n",
       "      <th>High</th>\n",
       "      <th>Low</th>\n",
       "      <th>Close</th>\n",
       "    </tr>\n",
       "    <tr>\n",
       "      <th>DateTime</th>\n",
       "      <th></th>\n",
       "      <th></th>\n",
       "      <th></th>\n",
       "      <th></th>\n",
       "    </tr>\n",
       "  </thead>\n",
       "  <tbody>\n",
       "    <tr>\n",
       "      <th>2010-01-01 00:00:00</th>\n",
       "      <td>1096.09</td>\n",
       "      <td>1096.21</td>\n",
       "      <td>1096.02</td>\n",
       "      <td>1096.07</td>\n",
       "    </tr>\n",
       "    <tr>\n",
       "      <th>2010-01-01 00:05:00</th>\n",
       "      <td>1096.15</td>\n",
       "      <td>1096.17</td>\n",
       "      <td>1095.99</td>\n",
       "      <td>1096.04</td>\n",
       "    </tr>\n",
       "    <tr>\n",
       "      <th>2010-01-01 00:10:00</th>\n",
       "      <td>1096.06</td>\n",
       "      <td>1096.15</td>\n",
       "      <td>1095.99</td>\n",
       "      <td>1096.15</td>\n",
       "    </tr>\n",
       "    <tr>\n",
       "      <th>2010-01-01 00:15:00</th>\n",
       "      <td>1096.07</td>\n",
       "      <td>1096.17</td>\n",
       "      <td>1096.05</td>\n",
       "      <td>1096.17</td>\n",
       "    </tr>\n",
       "    <tr>\n",
       "      <th>2010-01-01 00:20:00</th>\n",
       "      <td>1096.08</td>\n",
       "      <td>1096.20</td>\n",
       "      <td>1096.05</td>\n",
       "      <td>1096.15</td>\n",
       "    </tr>\n",
       "    <tr>\n",
       "      <th>...</th>\n",
       "      <td>...</td>\n",
       "      <td>...</td>\n",
       "      <td>...</td>\n",
       "      <td>...</td>\n",
       "    </tr>\n",
       "    <tr>\n",
       "      <th>2020-01-01 23:35:00</th>\n",
       "      <td>1519.30</td>\n",
       "      <td>1519.52</td>\n",
       "      <td>1518.77</td>\n",
       "      <td>1519.28</td>\n",
       "    </tr>\n",
       "    <tr>\n",
       "      <th>2020-01-01 23:40:00</th>\n",
       "      <td>1519.29</td>\n",
       "      <td>1519.61</td>\n",
       "      <td>1519.11</td>\n",
       "      <td>1519.33</td>\n",
       "    </tr>\n",
       "    <tr>\n",
       "      <th>2020-01-01 23:45:00</th>\n",
       "      <td>1519.33</td>\n",
       "      <td>1519.33</td>\n",
       "      <td>1518.41</td>\n",
       "      <td>1518.59</td>\n",
       "    </tr>\n",
       "    <tr>\n",
       "      <th>2020-01-01 23:50:00</th>\n",
       "      <td>1518.58</td>\n",
       "      <td>1518.80</td>\n",
       "      <td>1518.48</td>\n",
       "      <td>1518.63</td>\n",
       "    </tr>\n",
       "    <tr>\n",
       "      <th>2020-01-01 23:55:00</th>\n",
       "      <td>1518.63</td>\n",
       "      <td>1518.70</td>\n",
       "      <td>1518.08</td>\n",
       "      <td>1518.29</td>\n",
       "    </tr>\n",
       "  </tbody>\n",
       "</table>\n",
       "<p>715180 rows × 4 columns</p>\n",
       "</div>"
      ],
      "text/plain": [
       "                        Open     High      Low    Close\n",
       "DateTime                                               \n",
       "2010-01-01 00:00:00  1096.09  1096.21  1096.02  1096.07\n",
       "2010-01-01 00:05:00  1096.15  1096.17  1095.99  1096.04\n",
       "2010-01-01 00:10:00  1096.06  1096.15  1095.99  1096.15\n",
       "2010-01-01 00:15:00  1096.07  1096.17  1096.05  1096.17\n",
       "2010-01-01 00:20:00  1096.08  1096.20  1096.05  1096.15\n",
       "...                      ...      ...      ...      ...\n",
       "2020-01-01 23:35:00  1519.30  1519.52  1518.77  1519.28\n",
       "2020-01-01 23:40:00  1519.29  1519.61  1519.11  1519.33\n",
       "2020-01-01 23:45:00  1519.33  1519.33  1518.41  1518.59\n",
       "2020-01-01 23:50:00  1518.58  1518.80  1518.48  1518.63\n",
       "2020-01-01 23:55:00  1518.63  1518.70  1518.08  1518.29\n",
       "\n",
       "[715180 rows x 4 columns]"
      ]
     },
     "execution_count": 9,
     "metadata": {},
     "output_type": "execute_result"
    }
   ],
   "source": [
    "df = df_org[[\"Open\", \"High\", \"Low\", \"Close\"]]\n",
    "df"
   ]
  },
  {
   "cell_type": "markdown",
   "id": "21140801",
   "metadata": {},
   "source": [
    "# Feature Engineering"
   ]
  },
  {
   "cell_type": "markdown",
   "id": "9c18dc54",
   "metadata": {},
   "source": [
    "## Adding Heiken Ashi Candels"
   ]
  },
  {
   "cell_type": "code",
   "execution_count": 143,
   "id": "688afe17",
   "metadata": {
    "scrolled": false
   },
   "outputs": [
    {
     "data": {
      "text/html": [
       "<div>\n",
       "<style scoped>\n",
       "    .dataframe tbody tr th:only-of-type {\n",
       "        vertical-align: middle;\n",
       "    }\n",
       "\n",
       "    .dataframe tbody tr th {\n",
       "        vertical-align: top;\n",
       "    }\n",
       "\n",
       "    .dataframe thead th {\n",
       "        text-align: right;\n",
       "    }\n",
       "</style>\n",
       "<table border=\"1\" class=\"dataframe\">\n",
       "  <thead>\n",
       "    <tr style=\"text-align: right;\">\n",
       "      <th></th>\n",
       "      <th>DateTime</th>\n",
       "      <th>Open</th>\n",
       "      <th>High</th>\n",
       "      <th>Low</th>\n",
       "      <th>Close</th>\n",
       "    </tr>\n",
       "  </thead>\n",
       "  <tbody>\n",
       "    <tr>\n",
       "      <th>0</th>\n",
       "      <td>2023.10.3 08:55</td>\n",
       "      <td>1818.45</td>\n",
       "      <td>1819.52</td>\n",
       "      <td>1818.26</td>\n",
       "      <td>1819.51</td>\n",
       "    </tr>\n",
       "    <tr>\n",
       "      <th>1</th>\n",
       "      <td>2023.10.3 09:00</td>\n",
       "      <td>1819.51</td>\n",
       "      <td>1820.56</td>\n",
       "      <td>1819.21</td>\n",
       "      <td>1820.21</td>\n",
       "    </tr>\n",
       "    <tr>\n",
       "      <th>2</th>\n",
       "      <td>2023.10.3 09:05</td>\n",
       "      <td>1820.21</td>\n",
       "      <td>1822.22</td>\n",
       "      <td>1820.10</td>\n",
       "      <td>1821.96</td>\n",
       "    </tr>\n",
       "    <tr>\n",
       "      <th>3</th>\n",
       "      <td>2023.10.3 09:10</td>\n",
       "      <td>1821.96</td>\n",
       "      <td>1823.08</td>\n",
       "      <td>1821.37</td>\n",
       "      <td>1823.08</td>\n",
       "    </tr>\n",
       "  </tbody>\n",
       "</table>\n",
       "</div>"
      ],
      "text/plain": [
       "          DateTime     Open     High      Low    Close\n",
       "0  2023.10.3 08:55  1818.45  1819.52  1818.26  1819.51\n",
       "1  2023.10.3 09:00  1819.51  1820.56  1819.21  1820.21\n",
       "2  2023.10.3 09:05  1820.21  1822.22  1820.10  1821.96\n",
       "3  2023.10.3 09:10  1821.96  1823.08  1821.37  1823.08"
      ]
     },
     "execution_count": 143,
     "metadata": {},
     "output_type": "execute_result"
    }
   ],
   "source": [
    "data = {\"DateTime\" : [\"2023.10.3 08:55\", \"2023.10.3 09:00\", \"2023.10.3 09:05\", \"2023.10.3 09:10\"],\n",
    "        \"Open\" :  [1818.45, 1819.51, 1820.21, 1821.96],\n",
    "        \"High\" :  [1819.52, 1820.56, 1822.22, 1823.08],\n",
    "        \"Low\" :   [1818.26, 1819.21, 1820.10, 1821.37],\n",
    "        \"Close\" : [1819.51, 1820.21, 1821.96, 1823.08]\n",
    "       }\n",
    "dff = pd.DataFrame(data)\n",
    "dff"
   ]
  },
  {
   "cell_type": "code",
   "execution_count": 144,
   "id": "0c0f7fbc",
   "metadata": {},
   "outputs": [],
   "source": [
    "def HA(dff):\n",
    "    dff[\"pre_close\"] = dff[\"\"].shift(1)\n",
    "    dff[\"pre_open\"] = dff[\"HA_O\"].shift(1)\n",
    "    \n",
    "    dff[\"HA_O\"] = (dff[\"pre_open\"] + dff[\"pre_close\"]) / 2\n",
    "    dff[\"HA_Max\"] = dff[[\"Open\", \"High\", \"Low\", \"Close\", \"HA_O\"]].max(axis=1)\n",
    "    dff[\"HA_Min\"] = dff[[\"Open\", \"High\", \"Low\", \"Close\", \"HA_O\"]].min(axis=1)\n",
    "    dff[\"HA_C\"] = (dff[\"Open\"] + dff[\"Close\"] + dff[\"High\"] + dff[\"Low\"]) /4\n",
    "    \n",
    "    #dff.drop(\"pre_close\", axis=1, inplace=True)\n",
    "    #dff.drop(\"pre_open\", axis=1, inplace=True)\n",
    "    return dff"
   ]
  },
  {
   "cell_type": "code",
   "execution_count": 145,
   "id": "efcc55c0",
   "metadata": {},
   "outputs": [
    {
     "ename": "KeyError",
     "evalue": "'HA_C'",
     "output_type": "error",
     "traceback": [
      "\u001b[0;31m---------------------------------------------------------------------------\u001b[0m",
      "\u001b[0;31mKeyError\u001b[0m                                  Traceback (most recent call last)",
      "File \u001b[0;32m~/anaconda3/envs/data-science-envs/lib/python3.8/site-packages/pandas/core/indexes/base.py:3653\u001b[0m, in \u001b[0;36mIndex.get_loc\u001b[0;34m(self, key)\u001b[0m\n\u001b[1;32m   3652\u001b[0m \u001b[38;5;28;01mtry\u001b[39;00m:\n\u001b[0;32m-> 3653\u001b[0m     \u001b[38;5;28;01mreturn\u001b[39;00m \u001b[38;5;28;43mself\u001b[39;49m\u001b[38;5;241;43m.\u001b[39;49m\u001b[43m_engine\u001b[49m\u001b[38;5;241;43m.\u001b[39;49m\u001b[43mget_loc\u001b[49m\u001b[43m(\u001b[49m\u001b[43mcasted_key\u001b[49m\u001b[43m)\u001b[49m\n\u001b[1;32m   3654\u001b[0m \u001b[38;5;28;01mexcept\u001b[39;00m \u001b[38;5;167;01mKeyError\u001b[39;00m \u001b[38;5;28;01mas\u001b[39;00m err:\n",
      "File \u001b[0;32m~/anaconda3/envs/data-science-envs/lib/python3.8/site-packages/pandas/_libs/index.pyx:147\u001b[0m, in \u001b[0;36mpandas._libs.index.IndexEngine.get_loc\u001b[0;34m()\u001b[0m\n",
      "File \u001b[0;32m~/anaconda3/envs/data-science-envs/lib/python3.8/site-packages/pandas/_libs/index.pyx:176\u001b[0m, in \u001b[0;36mpandas._libs.index.IndexEngine.get_loc\u001b[0;34m()\u001b[0m\n",
      "File \u001b[0;32mpandas/_libs/hashtable_class_helper.pxi:7080\u001b[0m, in \u001b[0;36mpandas._libs.hashtable.PyObjectHashTable.get_item\u001b[0;34m()\u001b[0m\n",
      "File \u001b[0;32mpandas/_libs/hashtable_class_helper.pxi:7088\u001b[0m, in \u001b[0;36mpandas._libs.hashtable.PyObjectHashTable.get_item\u001b[0;34m()\u001b[0m\n",
      "\u001b[0;31mKeyError\u001b[0m: 'HA_C'",
      "\nThe above exception was the direct cause of the following exception:\n",
      "\u001b[0;31mKeyError\u001b[0m                                  Traceback (most recent call last)",
      "Cell \u001b[0;32mIn[145], line 1\u001b[0m\n\u001b[0;32m----> 1\u001b[0m \u001b[43mHA\u001b[49m\u001b[43m(\u001b[49m\u001b[43mdff\u001b[49m\u001b[43m)\u001b[49m\n\u001b[1;32m      2\u001b[0m dff\n",
      "Cell \u001b[0;32mIn[144], line 2\u001b[0m, in \u001b[0;36mHA\u001b[0;34m(dff)\u001b[0m\n\u001b[1;32m      1\u001b[0m \u001b[38;5;28;01mdef\u001b[39;00m \u001b[38;5;21mHA\u001b[39m(dff):\n\u001b[0;32m----> 2\u001b[0m     dff[\u001b[38;5;124m\"\u001b[39m\u001b[38;5;124mpre_close\u001b[39m\u001b[38;5;124m\"\u001b[39m] \u001b[38;5;241m=\u001b[39m \u001b[43mdff\u001b[49m\u001b[43m[\u001b[49m\u001b[38;5;124;43m\"\u001b[39;49m\u001b[38;5;124;43mHA_C\u001b[39;49m\u001b[38;5;124;43m\"\u001b[39;49m\u001b[43m]\u001b[49m\u001b[38;5;241m.\u001b[39mshift(\u001b[38;5;241m1\u001b[39m)\n\u001b[1;32m      3\u001b[0m     dff[\u001b[38;5;124m\"\u001b[39m\u001b[38;5;124mpre_open\u001b[39m\u001b[38;5;124m\"\u001b[39m] \u001b[38;5;241m=\u001b[39m dff[\u001b[38;5;124m\"\u001b[39m\u001b[38;5;124mHA_O\u001b[39m\u001b[38;5;124m\"\u001b[39m]\u001b[38;5;241m.\u001b[39mshift(\u001b[38;5;241m1\u001b[39m)\n\u001b[1;32m      5\u001b[0m     dff[\u001b[38;5;124m\"\u001b[39m\u001b[38;5;124mHA_O\u001b[39m\u001b[38;5;124m\"\u001b[39m] \u001b[38;5;241m=\u001b[39m (dff[\u001b[38;5;124m\"\u001b[39m\u001b[38;5;124mpre_open\u001b[39m\u001b[38;5;124m\"\u001b[39m] \u001b[38;5;241m+\u001b[39m dff[\u001b[38;5;124m\"\u001b[39m\u001b[38;5;124mpre_close\u001b[39m\u001b[38;5;124m\"\u001b[39m]) \u001b[38;5;241m/\u001b[39m \u001b[38;5;241m2\u001b[39m\n",
      "File \u001b[0;32m~/anaconda3/envs/data-science-envs/lib/python3.8/site-packages/pandas/core/frame.py:3761\u001b[0m, in \u001b[0;36mDataFrame.__getitem__\u001b[0;34m(self, key)\u001b[0m\n\u001b[1;32m   3759\u001b[0m \u001b[38;5;28;01mif\u001b[39;00m \u001b[38;5;28mself\u001b[39m\u001b[38;5;241m.\u001b[39mcolumns\u001b[38;5;241m.\u001b[39mnlevels \u001b[38;5;241m>\u001b[39m \u001b[38;5;241m1\u001b[39m:\n\u001b[1;32m   3760\u001b[0m     \u001b[38;5;28;01mreturn\u001b[39;00m \u001b[38;5;28mself\u001b[39m\u001b[38;5;241m.\u001b[39m_getitem_multilevel(key)\n\u001b[0;32m-> 3761\u001b[0m indexer \u001b[38;5;241m=\u001b[39m \u001b[38;5;28;43mself\u001b[39;49m\u001b[38;5;241;43m.\u001b[39;49m\u001b[43mcolumns\u001b[49m\u001b[38;5;241;43m.\u001b[39;49m\u001b[43mget_loc\u001b[49m\u001b[43m(\u001b[49m\u001b[43mkey\u001b[49m\u001b[43m)\u001b[49m\n\u001b[1;32m   3762\u001b[0m \u001b[38;5;28;01mif\u001b[39;00m is_integer(indexer):\n\u001b[1;32m   3763\u001b[0m     indexer \u001b[38;5;241m=\u001b[39m [indexer]\n",
      "File \u001b[0;32m~/anaconda3/envs/data-science-envs/lib/python3.8/site-packages/pandas/core/indexes/base.py:3655\u001b[0m, in \u001b[0;36mIndex.get_loc\u001b[0;34m(self, key)\u001b[0m\n\u001b[1;32m   3653\u001b[0m     \u001b[38;5;28;01mreturn\u001b[39;00m \u001b[38;5;28mself\u001b[39m\u001b[38;5;241m.\u001b[39m_engine\u001b[38;5;241m.\u001b[39mget_loc(casted_key)\n\u001b[1;32m   3654\u001b[0m \u001b[38;5;28;01mexcept\u001b[39;00m \u001b[38;5;167;01mKeyError\u001b[39;00m \u001b[38;5;28;01mas\u001b[39;00m err:\n\u001b[0;32m-> 3655\u001b[0m     \u001b[38;5;28;01mraise\u001b[39;00m \u001b[38;5;167;01mKeyError\u001b[39;00m(key) \u001b[38;5;28;01mfrom\u001b[39;00m \u001b[38;5;21;01merr\u001b[39;00m\n\u001b[1;32m   3656\u001b[0m \u001b[38;5;28;01mexcept\u001b[39;00m \u001b[38;5;167;01mTypeError\u001b[39;00m:\n\u001b[1;32m   3657\u001b[0m     \u001b[38;5;66;03m# If we have a listlike key, _check_indexing_error will raise\u001b[39;00m\n\u001b[1;32m   3658\u001b[0m     \u001b[38;5;66;03m#  InvalidIndexError. Otherwise we fall through and re-raise\u001b[39;00m\n\u001b[1;32m   3659\u001b[0m     \u001b[38;5;66;03m#  the TypeError.\u001b[39;00m\n\u001b[1;32m   3660\u001b[0m     \u001b[38;5;28mself\u001b[39m\u001b[38;5;241m.\u001b[39m_check_indexing_error(key)\n",
      "\u001b[0;31mKeyError\u001b[0m: 'HA_C'"
     ]
    }
   ],
   "source": [
    "HA(dff)\n",
    "dff"
   ]
  },
  {
   "cell_type": "code",
   "execution_count": 142,
   "id": "1a0ba015",
   "metadata": {},
   "outputs": [
    {
     "data": {
      "application/vnd.plotly.v1+json": {
       "config": {
        "plotlyServerURL": "https://plot.ly"
       },
       "data": [
        {
         "close": [
          1818.935,
          1819.8725000000002,
          1821.1225,
          1822.3725
         ],
         "high": [
          1819.52,
          1820.56,
          1822.22,
          1823.08
         ],
         "low": [
          1818.26,
          1818.98,
          1819.8600000000001,
          1821.085
         ],
         "open": [
          null,
          1818.98,
          1819.8600000000001,
          1821.085
         ],
         "type": "candlestick",
         "x": [
          "2023.10.3 08:55",
          "2023.10.3 09:00",
          "2023.10.3 09:05",
          "2023.10.3 09:10"
         ]
        }
       ],
       "layout": {
        "template": {
         "data": {
          "bar": [
           {
            "error_x": {
             "color": "#2a3f5f"
            },
            "error_y": {
             "color": "#2a3f5f"
            },
            "marker": {
             "line": {
              "color": "#E5ECF6",
              "width": 0.5
             },
             "pattern": {
              "fillmode": "overlay",
              "size": 10,
              "solidity": 0.2
             }
            },
            "type": "bar"
           }
          ],
          "barpolar": [
           {
            "marker": {
             "line": {
              "color": "#E5ECF6",
              "width": 0.5
             },
             "pattern": {
              "fillmode": "overlay",
              "size": 10,
              "solidity": 0.2
             }
            },
            "type": "barpolar"
           }
          ],
          "carpet": [
           {
            "aaxis": {
             "endlinecolor": "#2a3f5f",
             "gridcolor": "white",
             "linecolor": "white",
             "minorgridcolor": "white",
             "startlinecolor": "#2a3f5f"
            },
            "baxis": {
             "endlinecolor": "#2a3f5f",
             "gridcolor": "white",
             "linecolor": "white",
             "minorgridcolor": "white",
             "startlinecolor": "#2a3f5f"
            },
            "type": "carpet"
           }
          ],
          "choropleth": [
           {
            "colorbar": {
             "outlinewidth": 0,
             "ticks": ""
            },
            "type": "choropleth"
           }
          ],
          "contour": [
           {
            "colorbar": {
             "outlinewidth": 0,
             "ticks": ""
            },
            "colorscale": [
             [
              0,
              "#0d0887"
             ],
             [
              0.1111111111111111,
              "#46039f"
             ],
             [
              0.2222222222222222,
              "#7201a8"
             ],
             [
              0.3333333333333333,
              "#9c179e"
             ],
             [
              0.4444444444444444,
              "#bd3786"
             ],
             [
              0.5555555555555556,
              "#d8576b"
             ],
             [
              0.6666666666666666,
              "#ed7953"
             ],
             [
              0.7777777777777778,
              "#fb9f3a"
             ],
             [
              0.8888888888888888,
              "#fdca26"
             ],
             [
              1,
              "#f0f921"
             ]
            ],
            "type": "contour"
           }
          ],
          "contourcarpet": [
           {
            "colorbar": {
             "outlinewidth": 0,
             "ticks": ""
            },
            "type": "contourcarpet"
           }
          ],
          "heatmap": [
           {
            "colorbar": {
             "outlinewidth": 0,
             "ticks": ""
            },
            "colorscale": [
             [
              0,
              "#0d0887"
             ],
             [
              0.1111111111111111,
              "#46039f"
             ],
             [
              0.2222222222222222,
              "#7201a8"
             ],
             [
              0.3333333333333333,
              "#9c179e"
             ],
             [
              0.4444444444444444,
              "#bd3786"
             ],
             [
              0.5555555555555556,
              "#d8576b"
             ],
             [
              0.6666666666666666,
              "#ed7953"
             ],
             [
              0.7777777777777778,
              "#fb9f3a"
             ],
             [
              0.8888888888888888,
              "#fdca26"
             ],
             [
              1,
              "#f0f921"
             ]
            ],
            "type": "heatmap"
           }
          ],
          "heatmapgl": [
           {
            "colorbar": {
             "outlinewidth": 0,
             "ticks": ""
            },
            "colorscale": [
             [
              0,
              "#0d0887"
             ],
             [
              0.1111111111111111,
              "#46039f"
             ],
             [
              0.2222222222222222,
              "#7201a8"
             ],
             [
              0.3333333333333333,
              "#9c179e"
             ],
             [
              0.4444444444444444,
              "#bd3786"
             ],
             [
              0.5555555555555556,
              "#d8576b"
             ],
             [
              0.6666666666666666,
              "#ed7953"
             ],
             [
              0.7777777777777778,
              "#fb9f3a"
             ],
             [
              0.8888888888888888,
              "#fdca26"
             ],
             [
              1,
              "#f0f921"
             ]
            ],
            "type": "heatmapgl"
           }
          ],
          "histogram": [
           {
            "marker": {
             "pattern": {
              "fillmode": "overlay",
              "size": 10,
              "solidity": 0.2
             }
            },
            "type": "histogram"
           }
          ],
          "histogram2d": [
           {
            "colorbar": {
             "outlinewidth": 0,
             "ticks": ""
            },
            "colorscale": [
             [
              0,
              "#0d0887"
             ],
             [
              0.1111111111111111,
              "#46039f"
             ],
             [
              0.2222222222222222,
              "#7201a8"
             ],
             [
              0.3333333333333333,
              "#9c179e"
             ],
             [
              0.4444444444444444,
              "#bd3786"
             ],
             [
              0.5555555555555556,
              "#d8576b"
             ],
             [
              0.6666666666666666,
              "#ed7953"
             ],
             [
              0.7777777777777778,
              "#fb9f3a"
             ],
             [
              0.8888888888888888,
              "#fdca26"
             ],
             [
              1,
              "#f0f921"
             ]
            ],
            "type": "histogram2d"
           }
          ],
          "histogram2dcontour": [
           {
            "colorbar": {
             "outlinewidth": 0,
             "ticks": ""
            },
            "colorscale": [
             [
              0,
              "#0d0887"
             ],
             [
              0.1111111111111111,
              "#46039f"
             ],
             [
              0.2222222222222222,
              "#7201a8"
             ],
             [
              0.3333333333333333,
              "#9c179e"
             ],
             [
              0.4444444444444444,
              "#bd3786"
             ],
             [
              0.5555555555555556,
              "#d8576b"
             ],
             [
              0.6666666666666666,
              "#ed7953"
             ],
             [
              0.7777777777777778,
              "#fb9f3a"
             ],
             [
              0.8888888888888888,
              "#fdca26"
             ],
             [
              1,
              "#f0f921"
             ]
            ],
            "type": "histogram2dcontour"
           }
          ],
          "mesh3d": [
           {
            "colorbar": {
             "outlinewidth": 0,
             "ticks": ""
            },
            "type": "mesh3d"
           }
          ],
          "parcoords": [
           {
            "line": {
             "colorbar": {
              "outlinewidth": 0,
              "ticks": ""
             }
            },
            "type": "parcoords"
           }
          ],
          "pie": [
           {
            "automargin": true,
            "type": "pie"
           }
          ],
          "scatter": [
           {
            "fillpattern": {
             "fillmode": "overlay",
             "size": 10,
             "solidity": 0.2
            },
            "type": "scatter"
           }
          ],
          "scatter3d": [
           {
            "line": {
             "colorbar": {
              "outlinewidth": 0,
              "ticks": ""
             }
            },
            "marker": {
             "colorbar": {
              "outlinewidth": 0,
              "ticks": ""
             }
            },
            "type": "scatter3d"
           }
          ],
          "scattercarpet": [
           {
            "marker": {
             "colorbar": {
              "outlinewidth": 0,
              "ticks": ""
             }
            },
            "type": "scattercarpet"
           }
          ],
          "scattergeo": [
           {
            "marker": {
             "colorbar": {
              "outlinewidth": 0,
              "ticks": ""
             }
            },
            "type": "scattergeo"
           }
          ],
          "scattergl": [
           {
            "marker": {
             "colorbar": {
              "outlinewidth": 0,
              "ticks": ""
             }
            },
            "type": "scattergl"
           }
          ],
          "scattermapbox": [
           {
            "marker": {
             "colorbar": {
              "outlinewidth": 0,
              "ticks": ""
             }
            },
            "type": "scattermapbox"
           }
          ],
          "scatterpolar": [
           {
            "marker": {
             "colorbar": {
              "outlinewidth": 0,
              "ticks": ""
             }
            },
            "type": "scatterpolar"
           }
          ],
          "scatterpolargl": [
           {
            "marker": {
             "colorbar": {
              "outlinewidth": 0,
              "ticks": ""
             }
            },
            "type": "scatterpolargl"
           }
          ],
          "scatterternary": [
           {
            "marker": {
             "colorbar": {
              "outlinewidth": 0,
              "ticks": ""
             }
            },
            "type": "scatterternary"
           }
          ],
          "surface": [
           {
            "colorbar": {
             "outlinewidth": 0,
             "ticks": ""
            },
            "colorscale": [
             [
              0,
              "#0d0887"
             ],
             [
              0.1111111111111111,
              "#46039f"
             ],
             [
              0.2222222222222222,
              "#7201a8"
             ],
             [
              0.3333333333333333,
              "#9c179e"
             ],
             [
              0.4444444444444444,
              "#bd3786"
             ],
             [
              0.5555555555555556,
              "#d8576b"
             ],
             [
              0.6666666666666666,
              "#ed7953"
             ],
             [
              0.7777777777777778,
              "#fb9f3a"
             ],
             [
              0.8888888888888888,
              "#fdca26"
             ],
             [
              1,
              "#f0f921"
             ]
            ],
            "type": "surface"
           }
          ],
          "table": [
           {
            "cells": {
             "fill": {
              "color": "#EBF0F8"
             },
             "line": {
              "color": "white"
             }
            },
            "header": {
             "fill": {
              "color": "#C8D4E3"
             },
             "line": {
              "color": "white"
             }
            },
            "type": "table"
           }
          ]
         },
         "layout": {
          "annotationdefaults": {
           "arrowcolor": "#2a3f5f",
           "arrowhead": 0,
           "arrowwidth": 1
          },
          "autotypenumbers": "strict",
          "coloraxis": {
           "colorbar": {
            "outlinewidth": 0,
            "ticks": ""
           }
          },
          "colorscale": {
           "diverging": [
            [
             0,
             "#8e0152"
            ],
            [
             0.1,
             "#c51b7d"
            ],
            [
             0.2,
             "#de77ae"
            ],
            [
             0.3,
             "#f1b6da"
            ],
            [
             0.4,
             "#fde0ef"
            ],
            [
             0.5,
             "#f7f7f7"
            ],
            [
             0.6,
             "#e6f5d0"
            ],
            [
             0.7,
             "#b8e186"
            ],
            [
             0.8,
             "#7fbc41"
            ],
            [
             0.9,
             "#4d9221"
            ],
            [
             1,
             "#276419"
            ]
           ],
           "sequential": [
            [
             0,
             "#0d0887"
            ],
            [
             0.1111111111111111,
             "#46039f"
            ],
            [
             0.2222222222222222,
             "#7201a8"
            ],
            [
             0.3333333333333333,
             "#9c179e"
            ],
            [
             0.4444444444444444,
             "#bd3786"
            ],
            [
             0.5555555555555556,
             "#d8576b"
            ],
            [
             0.6666666666666666,
             "#ed7953"
            ],
            [
             0.7777777777777778,
             "#fb9f3a"
            ],
            [
             0.8888888888888888,
             "#fdca26"
            ],
            [
             1,
             "#f0f921"
            ]
           ],
           "sequentialminus": [
            [
             0,
             "#0d0887"
            ],
            [
             0.1111111111111111,
             "#46039f"
            ],
            [
             0.2222222222222222,
             "#7201a8"
            ],
            [
             0.3333333333333333,
             "#9c179e"
            ],
            [
             0.4444444444444444,
             "#bd3786"
            ],
            [
             0.5555555555555556,
             "#d8576b"
            ],
            [
             0.6666666666666666,
             "#ed7953"
            ],
            [
             0.7777777777777778,
             "#fb9f3a"
            ],
            [
             0.8888888888888888,
             "#fdca26"
            ],
            [
             1,
             "#f0f921"
            ]
           ]
          },
          "colorway": [
           "#636efa",
           "#EF553B",
           "#00cc96",
           "#ab63fa",
           "#FFA15A",
           "#19d3f3",
           "#FF6692",
           "#B6E880",
           "#FF97FF",
           "#FECB52"
          ],
          "font": {
           "color": "#2a3f5f"
          },
          "geo": {
           "bgcolor": "white",
           "lakecolor": "white",
           "landcolor": "#E5ECF6",
           "showlakes": true,
           "showland": true,
           "subunitcolor": "white"
          },
          "hoverlabel": {
           "align": "left"
          },
          "hovermode": "closest",
          "mapbox": {
           "style": "light"
          },
          "paper_bgcolor": "white",
          "plot_bgcolor": "#E5ECF6",
          "polar": {
           "angularaxis": {
            "gridcolor": "white",
            "linecolor": "white",
            "ticks": ""
           },
           "bgcolor": "#E5ECF6",
           "radialaxis": {
            "gridcolor": "white",
            "linecolor": "white",
            "ticks": ""
           }
          },
          "scene": {
           "xaxis": {
            "backgroundcolor": "#E5ECF6",
            "gridcolor": "white",
            "gridwidth": 2,
            "linecolor": "white",
            "showbackground": true,
            "ticks": "",
            "zerolinecolor": "white"
           },
           "yaxis": {
            "backgroundcolor": "#E5ECF6",
            "gridcolor": "white",
            "gridwidth": 2,
            "linecolor": "white",
            "showbackground": true,
            "ticks": "",
            "zerolinecolor": "white"
           },
           "zaxis": {
            "backgroundcolor": "#E5ECF6",
            "gridcolor": "white",
            "gridwidth": 2,
            "linecolor": "white",
            "showbackground": true,
            "ticks": "",
            "zerolinecolor": "white"
           }
          },
          "shapedefaults": {
           "line": {
            "color": "#2a3f5f"
           }
          },
          "ternary": {
           "aaxis": {
            "gridcolor": "white",
            "linecolor": "white",
            "ticks": ""
           },
           "baxis": {
            "gridcolor": "white",
            "linecolor": "white",
            "ticks": ""
           },
           "bgcolor": "#E5ECF6",
           "caxis": {
            "gridcolor": "white",
            "linecolor": "white",
            "ticks": ""
           }
          },
          "title": {
           "x": 0.05
          },
          "xaxis": {
           "automargin": true,
           "gridcolor": "white",
           "linecolor": "white",
           "ticks": "",
           "title": {
            "standoff": 15
           },
           "zerolinecolor": "white",
           "zerolinewidth": 2
          },
          "yaxis": {
           "automargin": true,
           "gridcolor": "white",
           "linecolor": "white",
           "ticks": "",
           "title": {
            "standoff": 15
           },
           "zerolinecolor": "white",
           "zerolinewidth": 2
          }
         }
        },
        "title": {
         "text": "Heikin Ashi Chart: RELIANCE"
        },
        "xaxis": {
         "title": {
          "text": "Date"
         }
        },
        "yaxis": {
         "range": [
          1815,
          1830
         ],
         "title": {
          "text": "Price"
         }
        }
       }
      },
      "text/html": [
       "<div>                            <div id=\"0f2d7f5b-d192-4d3f-87d5-4297472b83af\" class=\"plotly-graph-div\" style=\"height:525px; width:100%;\"></div>            <script type=\"text/javascript\">                require([\"plotly\"], function(Plotly) {                    window.PLOTLYENV=window.PLOTLYENV || {};                                    if (document.getElementById(\"0f2d7f5b-d192-4d3f-87d5-4297472b83af\")) {                    Plotly.newPlot(                        \"0f2d7f5b-d192-4d3f-87d5-4297472b83af\",                        [{\"close\":[1818.935,1819.8725000000002,1821.1225,1822.3725],\"high\":[1819.52,1820.56,1822.22,1823.08],\"low\":[1818.26,1818.98,1819.8600000000001,1821.085],\"open\":[null,1818.98,1819.8600000000001,1821.085],\"x\":[\"2023.10.3 08:55\",\"2023.10.3 09:00\",\"2023.10.3 09:05\",\"2023.10.3 09:10\"],\"type\":\"candlestick\"}],                        {\"template\":{\"data\":{\"histogram2dcontour\":[{\"type\":\"histogram2dcontour\",\"colorbar\":{\"outlinewidth\":0,\"ticks\":\"\"},\"colorscale\":[[0.0,\"#0d0887\"],[0.1111111111111111,\"#46039f\"],[0.2222222222222222,\"#7201a8\"],[0.3333333333333333,\"#9c179e\"],[0.4444444444444444,\"#bd3786\"],[0.5555555555555556,\"#d8576b\"],[0.6666666666666666,\"#ed7953\"],[0.7777777777777778,\"#fb9f3a\"],[0.8888888888888888,\"#fdca26\"],[1.0,\"#f0f921\"]]}],\"choropleth\":[{\"type\":\"choropleth\",\"colorbar\":{\"outlinewidth\":0,\"ticks\":\"\"}}],\"histogram2d\":[{\"type\":\"histogram2d\",\"colorbar\":{\"outlinewidth\":0,\"ticks\":\"\"},\"colorscale\":[[0.0,\"#0d0887\"],[0.1111111111111111,\"#46039f\"],[0.2222222222222222,\"#7201a8\"],[0.3333333333333333,\"#9c179e\"],[0.4444444444444444,\"#bd3786\"],[0.5555555555555556,\"#d8576b\"],[0.6666666666666666,\"#ed7953\"],[0.7777777777777778,\"#fb9f3a\"],[0.8888888888888888,\"#fdca26\"],[1.0,\"#f0f921\"]]}],\"heatmap\":[{\"type\":\"heatmap\",\"colorbar\":{\"outlinewidth\":0,\"ticks\":\"\"},\"colorscale\":[[0.0,\"#0d0887\"],[0.1111111111111111,\"#46039f\"],[0.2222222222222222,\"#7201a8\"],[0.3333333333333333,\"#9c179e\"],[0.4444444444444444,\"#bd3786\"],[0.5555555555555556,\"#d8576b\"],[0.6666666666666666,\"#ed7953\"],[0.7777777777777778,\"#fb9f3a\"],[0.8888888888888888,\"#fdca26\"],[1.0,\"#f0f921\"]]}],\"heatmapgl\":[{\"type\":\"heatmapgl\",\"colorbar\":{\"outlinewidth\":0,\"ticks\":\"\"},\"colorscale\":[[0.0,\"#0d0887\"],[0.1111111111111111,\"#46039f\"],[0.2222222222222222,\"#7201a8\"],[0.3333333333333333,\"#9c179e\"],[0.4444444444444444,\"#bd3786\"],[0.5555555555555556,\"#d8576b\"],[0.6666666666666666,\"#ed7953\"],[0.7777777777777778,\"#fb9f3a\"],[0.8888888888888888,\"#fdca26\"],[1.0,\"#f0f921\"]]}],\"contourcarpet\":[{\"type\":\"contourcarpet\",\"colorbar\":{\"outlinewidth\":0,\"ticks\":\"\"}}],\"contour\":[{\"type\":\"contour\",\"colorbar\":{\"outlinewidth\":0,\"ticks\":\"\"},\"colorscale\":[[0.0,\"#0d0887\"],[0.1111111111111111,\"#46039f\"],[0.2222222222222222,\"#7201a8\"],[0.3333333333333333,\"#9c179e\"],[0.4444444444444444,\"#bd3786\"],[0.5555555555555556,\"#d8576b\"],[0.6666666666666666,\"#ed7953\"],[0.7777777777777778,\"#fb9f3a\"],[0.8888888888888888,\"#fdca26\"],[1.0,\"#f0f921\"]]}],\"surface\":[{\"type\":\"surface\",\"colorbar\":{\"outlinewidth\":0,\"ticks\":\"\"},\"colorscale\":[[0.0,\"#0d0887\"],[0.1111111111111111,\"#46039f\"],[0.2222222222222222,\"#7201a8\"],[0.3333333333333333,\"#9c179e\"],[0.4444444444444444,\"#bd3786\"],[0.5555555555555556,\"#d8576b\"],[0.6666666666666666,\"#ed7953\"],[0.7777777777777778,\"#fb9f3a\"],[0.8888888888888888,\"#fdca26\"],[1.0,\"#f0f921\"]]}],\"mesh3d\":[{\"type\":\"mesh3d\",\"colorbar\":{\"outlinewidth\":0,\"ticks\":\"\"}}],\"scatter\":[{\"fillpattern\":{\"fillmode\":\"overlay\",\"size\":10,\"solidity\":0.2},\"type\":\"scatter\"}],\"parcoords\":[{\"type\":\"parcoords\",\"line\":{\"colorbar\":{\"outlinewidth\":0,\"ticks\":\"\"}}}],\"scatterpolargl\":[{\"type\":\"scatterpolargl\",\"marker\":{\"colorbar\":{\"outlinewidth\":0,\"ticks\":\"\"}}}],\"bar\":[{\"error_x\":{\"color\":\"#2a3f5f\"},\"error_y\":{\"color\":\"#2a3f5f\"},\"marker\":{\"line\":{\"color\":\"#E5ECF6\",\"width\":0.5},\"pattern\":{\"fillmode\":\"overlay\",\"size\":10,\"solidity\":0.2}},\"type\":\"bar\"}],\"scattergeo\":[{\"type\":\"scattergeo\",\"marker\":{\"colorbar\":{\"outlinewidth\":0,\"ticks\":\"\"}}}],\"scatterpolar\":[{\"type\":\"scatterpolar\",\"marker\":{\"colorbar\":{\"outlinewidth\":0,\"ticks\":\"\"}}}],\"histogram\":[{\"marker\":{\"pattern\":{\"fillmode\":\"overlay\",\"size\":10,\"solidity\":0.2}},\"type\":\"histogram\"}],\"scattergl\":[{\"type\":\"scattergl\",\"marker\":{\"colorbar\":{\"outlinewidth\":0,\"ticks\":\"\"}}}],\"scatter3d\":[{\"type\":\"scatter3d\",\"line\":{\"colorbar\":{\"outlinewidth\":0,\"ticks\":\"\"}},\"marker\":{\"colorbar\":{\"outlinewidth\":0,\"ticks\":\"\"}}}],\"scattermapbox\":[{\"type\":\"scattermapbox\",\"marker\":{\"colorbar\":{\"outlinewidth\":0,\"ticks\":\"\"}}}],\"scatterternary\":[{\"type\":\"scatterternary\",\"marker\":{\"colorbar\":{\"outlinewidth\":0,\"ticks\":\"\"}}}],\"scattercarpet\":[{\"type\":\"scattercarpet\",\"marker\":{\"colorbar\":{\"outlinewidth\":0,\"ticks\":\"\"}}}],\"carpet\":[{\"aaxis\":{\"endlinecolor\":\"#2a3f5f\",\"gridcolor\":\"white\",\"linecolor\":\"white\",\"minorgridcolor\":\"white\",\"startlinecolor\":\"#2a3f5f\"},\"baxis\":{\"endlinecolor\":\"#2a3f5f\",\"gridcolor\":\"white\",\"linecolor\":\"white\",\"minorgridcolor\":\"white\",\"startlinecolor\":\"#2a3f5f\"},\"type\":\"carpet\"}],\"table\":[{\"cells\":{\"fill\":{\"color\":\"#EBF0F8\"},\"line\":{\"color\":\"white\"}},\"header\":{\"fill\":{\"color\":\"#C8D4E3\"},\"line\":{\"color\":\"white\"}},\"type\":\"table\"}],\"barpolar\":[{\"marker\":{\"line\":{\"color\":\"#E5ECF6\",\"width\":0.5},\"pattern\":{\"fillmode\":\"overlay\",\"size\":10,\"solidity\":0.2}},\"type\":\"barpolar\"}],\"pie\":[{\"automargin\":true,\"type\":\"pie\"}]},\"layout\":{\"autotypenumbers\":\"strict\",\"colorway\":[\"#636efa\",\"#EF553B\",\"#00cc96\",\"#ab63fa\",\"#FFA15A\",\"#19d3f3\",\"#FF6692\",\"#B6E880\",\"#FF97FF\",\"#FECB52\"],\"font\":{\"color\":\"#2a3f5f\"},\"hovermode\":\"closest\",\"hoverlabel\":{\"align\":\"left\"},\"paper_bgcolor\":\"white\",\"plot_bgcolor\":\"#E5ECF6\",\"polar\":{\"bgcolor\":\"#E5ECF6\",\"angularaxis\":{\"gridcolor\":\"white\",\"linecolor\":\"white\",\"ticks\":\"\"},\"radialaxis\":{\"gridcolor\":\"white\",\"linecolor\":\"white\",\"ticks\":\"\"}},\"ternary\":{\"bgcolor\":\"#E5ECF6\",\"aaxis\":{\"gridcolor\":\"white\",\"linecolor\":\"white\",\"ticks\":\"\"},\"baxis\":{\"gridcolor\":\"white\",\"linecolor\":\"white\",\"ticks\":\"\"},\"caxis\":{\"gridcolor\":\"white\",\"linecolor\":\"white\",\"ticks\":\"\"}},\"coloraxis\":{\"colorbar\":{\"outlinewidth\":0,\"ticks\":\"\"}},\"colorscale\":{\"sequential\":[[0.0,\"#0d0887\"],[0.1111111111111111,\"#46039f\"],[0.2222222222222222,\"#7201a8\"],[0.3333333333333333,\"#9c179e\"],[0.4444444444444444,\"#bd3786\"],[0.5555555555555556,\"#d8576b\"],[0.6666666666666666,\"#ed7953\"],[0.7777777777777778,\"#fb9f3a\"],[0.8888888888888888,\"#fdca26\"],[1.0,\"#f0f921\"]],\"sequentialminus\":[[0.0,\"#0d0887\"],[0.1111111111111111,\"#46039f\"],[0.2222222222222222,\"#7201a8\"],[0.3333333333333333,\"#9c179e\"],[0.4444444444444444,\"#bd3786\"],[0.5555555555555556,\"#d8576b\"],[0.6666666666666666,\"#ed7953\"],[0.7777777777777778,\"#fb9f3a\"],[0.8888888888888888,\"#fdca26\"],[1.0,\"#f0f921\"]],\"diverging\":[[0,\"#8e0152\"],[0.1,\"#c51b7d\"],[0.2,\"#de77ae\"],[0.3,\"#f1b6da\"],[0.4,\"#fde0ef\"],[0.5,\"#f7f7f7\"],[0.6,\"#e6f5d0\"],[0.7,\"#b8e186\"],[0.8,\"#7fbc41\"],[0.9,\"#4d9221\"],[1,\"#276419\"]]},\"xaxis\":{\"gridcolor\":\"white\",\"linecolor\":\"white\",\"ticks\":\"\",\"title\":{\"standoff\":15},\"zerolinecolor\":\"white\",\"automargin\":true,\"zerolinewidth\":2},\"yaxis\":{\"gridcolor\":\"white\",\"linecolor\":\"white\",\"ticks\":\"\",\"title\":{\"standoff\":15},\"zerolinecolor\":\"white\",\"automargin\":true,\"zerolinewidth\":2},\"scene\":{\"xaxis\":{\"backgroundcolor\":\"#E5ECF6\",\"gridcolor\":\"white\",\"linecolor\":\"white\",\"showbackground\":true,\"ticks\":\"\",\"zerolinecolor\":\"white\",\"gridwidth\":2},\"yaxis\":{\"backgroundcolor\":\"#E5ECF6\",\"gridcolor\":\"white\",\"linecolor\":\"white\",\"showbackground\":true,\"ticks\":\"\",\"zerolinecolor\":\"white\",\"gridwidth\":2},\"zaxis\":{\"backgroundcolor\":\"#E5ECF6\",\"gridcolor\":\"white\",\"linecolor\":\"white\",\"showbackground\":true,\"ticks\":\"\",\"zerolinecolor\":\"white\",\"gridwidth\":2}},\"shapedefaults\":{\"line\":{\"color\":\"#2a3f5f\"}},\"annotationdefaults\":{\"arrowcolor\":\"#2a3f5f\",\"arrowhead\":0,\"arrowwidth\":1},\"geo\":{\"bgcolor\":\"white\",\"landcolor\":\"#E5ECF6\",\"subunitcolor\":\"white\",\"showland\":true,\"showlakes\":true,\"lakecolor\":\"white\"},\"title\":{\"x\":0.05},\"mapbox\":{\"style\":\"light\"}}},\"yaxis\":{\"range\":[1815,1830],\"title\":{\"text\":\"Price\"}},\"title\":{\"text\":\"Heikin Ashi Chart: RELIANCE\"},\"xaxis\":{\"title\":{\"text\":\"Date\"}}},                        {\"responsive\": true}                    ).then(function(){\n",
       "                            \n",
       "var gd = document.getElementById('0f2d7f5b-d192-4d3f-87d5-4297472b83af');\n",
       "var x = new MutationObserver(function (mutations, observer) {{\n",
       "        var display = window.getComputedStyle(gd).display;\n",
       "        if (!display || display === 'none') {{\n",
       "            console.log([gd, 'removed!']);\n",
       "            Plotly.purge(gd);\n",
       "            observer.disconnect();\n",
       "        }}\n",
       "}});\n",
       "\n",
       "// Listen for the removal of the full notebook cells\n",
       "var notebookContainer = gd.closest('#notebook-container');\n",
       "if (notebookContainer) {{\n",
       "    x.observe(notebookContainer, {childList: true});\n",
       "}}\n",
       "\n",
       "// Listen for the clearing of the current output cell\n",
       "var outputEl = gd.closest('.output');\n",
       "if (outputEl) {{\n",
       "    x.observe(outputEl, {childList: true});\n",
       "}}\n",
       "\n",
       "                        })                };                });            </script>        </div>"
      ]
     },
     "metadata": {},
     "output_type": "display_data"
    }
   ],
   "source": [
    "import plotly.graph_objects as go\n",
    "fig2 = go.Figure(data=[go.Candlestick(x=dff.DateTime,\n",
    "                open=dff.HA_O,\n",
    "                high=dff.HA_Max,\n",
    "                low=dff.HA_Min,\n",
    "                close=dff.HA_C)] )\n",
    "\n",
    "\n",
    "fig2.update_layout(yaxis_range = [1815,1830], \n",
    "          title = 'Heikin Ashi Chart: RELIANCE', \n",
    "          xaxis_title = 'Date', \n",
    "          yaxis_title = 'Price')\n",
    "fig2.show()\n"
   ]
  },
  {
   "cell_type": "markdown",
   "id": "7f57951b",
   "metadata": {},
   "source": [
    "## Adding base Ichimoku-KinkoHyo\n",
    "\n",
    "#### Normal means : current time frame\n",
    "#### Advanced mean : multi time looking at current timeframe"
   ]
  },
  {
   "cell_type": "markdown",
   "id": "4506d233",
   "metadata": {},
   "source": [
    "### Writing Function for better calculation"
   ]
  },
  {
   "cell_type": "code",
   "execution_count": 5,
   "id": "5334dd1f",
   "metadata": {},
   "outputs": [],
   "source": [
    "def add_ichimoku(df, multi_time=3, tk=9, kj=26, s_b=52):\n",
    "    for i in range(multi_time):\n",
    "        i += 1\n",
    "        \"\"\"           Normal Parameters             \"\"\"\n",
    "        \n",
    "        \"\"\"      Calculating Normal Tenkan-Sen      \"\"\"\n",
    "        high_for_tk = df[\"High\"].rolling(window=tk*i, min_periods=tk*i).max()\n",
    "        low_for_tk = df[\"Low\"].rolling(window=tk*i, min_periods=tk*i).min()\n",
    "        df[f\"Tenkan_sen_norm_{i}X\"] = (high_for_tk + low_for_tk) / 2\n",
    "        \n",
    "        \"\"\"     Calculating Normal Kijun-Sen        \"\"\"\n",
    "        high_for_kj = df[\"High\"].rolling(window=kj*i, min_periods=kj*i).max()\n",
    "        low_for_kj = df[\"Low\"].rolling(window=kj*i, min_periods=kj*i).min()\n",
    "        df[f\"Kijun_sen_norm_{i}X\"] = (high_for_kj + low_for_kj) / 2\n",
    "        \n",
    "        \"\"\"     Calculating Normal Senkou-span-A    \"\"\"\n",
    "        df[f\"Senkou_span_A_norm_{i}X\"] = (df[f\"Tenkan_sen_norm_{i}X\"] + df[f\"Kijun_sen_norm_{i}X\"]) / 2\n",
    "        \n",
    "        \"\"\"     Calculating Normal Senkou-span-B    \"\"\"\n",
    "        high_for_s_b = df[\"High\"].rolling(window=s_b*i, min_periods=s_b*i).max()\n",
    "        low_for_s_b = df[\"Low\"].rolling(window=s_b*i, min_periods=s_b*i).min()\n",
    "        df[f\"Senkou_span_B_norm_{i}X\"] = (high_for_s_b + low_for_s_b) / 2\n",
    "        \n",
    "        \"\"\"           Advanced Parameters            \"\"\"\n",
    "        \"\"\"      Calculating Avanced Tenkan-Sen      \"\"\"\n",
    "        df[f\"Tenkan_sen_adv_{i}X\"] = df[f\"Tenkan_sen_norm_{i}X\"].shift(kj*i)\n",
    "        \n",
    "        \"\"\"      Calculating Avanced Kijun-Sen       \"\"\"\n",
    "        df[f\"Kijun_sen_adv_{i}X\"] = df[f\"Kijun_sen_norm_{i}X\"].shift(kj*i)\n",
    "        \n",
    "        \"\"\"     Calculating Avanced Senkou-span-A    \"\"\"\n",
    "        df[f\"Senkou_span_A_adv_{i}X\"] = df[f\"Senkou_span_A_norm_{i}X\"].shift(kj*i)\n",
    "        \n",
    "        \"\"\"     Calculating Avanced Senkou-span-B    \"\"\"\n",
    "        df[f\"Senkou_span_B_adv_{i}X\"] = df[f\"Senkou_span_B_norm_{i}X\"].shift(kj*i)\n",
    "        \n",
    "        \"\"\"      Calculating Avanced Chikou-span      \"\"\"\n",
    "        df[f\"Chikou_span_adv_{i}X\"] = df[\"Close\"].shift(kj*i)\n",
    "        \n",
    "    return df"
   ]
  },
  {
   "cell_type": "code",
   "execution_count": 10,
   "id": "7dc03ba6",
   "metadata": {},
   "outputs": [
    {
     "data": {
      "text/html": [
       "<div>\n",
       "<style scoped>\n",
       "    .dataframe tbody tr th:only-of-type {\n",
       "        vertical-align: middle;\n",
       "    }\n",
       "\n",
       "    .dataframe tbody tr th {\n",
       "        vertical-align: top;\n",
       "    }\n",
       "\n",
       "    .dataframe thead th {\n",
       "        text-align: right;\n",
       "    }\n",
       "</style>\n",
       "<table border=\"1\" class=\"dataframe\">\n",
       "  <thead>\n",
       "    <tr style=\"text-align: right;\">\n",
       "      <th></th>\n",
       "      <th>Open</th>\n",
       "      <th>High</th>\n",
       "      <th>Low</th>\n",
       "      <th>Close</th>\n",
       "      <th>Tenkan_sen_norm_1X</th>\n",
       "      <th>Kijun_sen_norm_1X</th>\n",
       "      <th>Senkou_span_A_norm_1X</th>\n",
       "      <th>Senkou_span_B_norm_1X</th>\n",
       "      <th>Tenkan_sen_adv_1X</th>\n",
       "      <th>Kijun_sen_adv_1X</th>\n",
       "      <th>...</th>\n",
       "      <th>Chikou_span_adv_2X</th>\n",
       "      <th>Tenkan_sen_norm_3X</th>\n",
       "      <th>Kijun_sen_norm_3X</th>\n",
       "      <th>Senkou_span_A_norm_3X</th>\n",
       "      <th>Senkou_span_B_norm_3X</th>\n",
       "      <th>Tenkan_sen_adv_3X</th>\n",
       "      <th>Kijun_sen_adv_3X</th>\n",
       "      <th>Senkou_span_A_adv_3X</th>\n",
       "      <th>Senkou_span_B_adv_3X</th>\n",
       "      <th>Chikou_span_adv_3X</th>\n",
       "    </tr>\n",
       "    <tr>\n",
       "      <th>DateTime</th>\n",
       "      <th></th>\n",
       "      <th></th>\n",
       "      <th></th>\n",
       "      <th></th>\n",
       "      <th></th>\n",
       "      <th></th>\n",
       "      <th></th>\n",
       "      <th></th>\n",
       "      <th></th>\n",
       "      <th></th>\n",
       "      <th></th>\n",
       "      <th></th>\n",
       "      <th></th>\n",
       "      <th></th>\n",
       "      <th></th>\n",
       "      <th></th>\n",
       "      <th></th>\n",
       "      <th></th>\n",
       "      <th></th>\n",
       "      <th></th>\n",
       "      <th></th>\n",
       "    </tr>\n",
       "  </thead>\n",
       "  <tbody>\n",
       "    <tr>\n",
       "      <th>2010-01-01 00:00:00</th>\n",
       "      <td>1096.09</td>\n",
       "      <td>1096.21</td>\n",
       "      <td>1096.02</td>\n",
       "      <td>1096.07</td>\n",
       "      <td>NaN</td>\n",
       "      <td>NaN</td>\n",
       "      <td>NaN</td>\n",
       "      <td>NaN</td>\n",
       "      <td>NaN</td>\n",
       "      <td>NaN</td>\n",
       "      <td>...</td>\n",
       "      <td>NaN</td>\n",
       "      <td>NaN</td>\n",
       "      <td>NaN</td>\n",
       "      <td>NaN</td>\n",
       "      <td>NaN</td>\n",
       "      <td>NaN</td>\n",
       "      <td>NaN</td>\n",
       "      <td>NaN</td>\n",
       "      <td>NaN</td>\n",
       "      <td>NaN</td>\n",
       "    </tr>\n",
       "    <tr>\n",
       "      <th>2010-01-01 00:05:00</th>\n",
       "      <td>1096.15</td>\n",
       "      <td>1096.17</td>\n",
       "      <td>1095.99</td>\n",
       "      <td>1096.04</td>\n",
       "      <td>NaN</td>\n",
       "      <td>NaN</td>\n",
       "      <td>NaN</td>\n",
       "      <td>NaN</td>\n",
       "      <td>NaN</td>\n",
       "      <td>NaN</td>\n",
       "      <td>...</td>\n",
       "      <td>NaN</td>\n",
       "      <td>NaN</td>\n",
       "      <td>NaN</td>\n",
       "      <td>NaN</td>\n",
       "      <td>NaN</td>\n",
       "      <td>NaN</td>\n",
       "      <td>NaN</td>\n",
       "      <td>NaN</td>\n",
       "      <td>NaN</td>\n",
       "      <td>NaN</td>\n",
       "    </tr>\n",
       "    <tr>\n",
       "      <th>2010-01-01 00:10:00</th>\n",
       "      <td>1096.06</td>\n",
       "      <td>1096.15</td>\n",
       "      <td>1095.99</td>\n",
       "      <td>1096.15</td>\n",
       "      <td>NaN</td>\n",
       "      <td>NaN</td>\n",
       "      <td>NaN</td>\n",
       "      <td>NaN</td>\n",
       "      <td>NaN</td>\n",
       "      <td>NaN</td>\n",
       "      <td>...</td>\n",
       "      <td>NaN</td>\n",
       "      <td>NaN</td>\n",
       "      <td>NaN</td>\n",
       "      <td>NaN</td>\n",
       "      <td>NaN</td>\n",
       "      <td>NaN</td>\n",
       "      <td>NaN</td>\n",
       "      <td>NaN</td>\n",
       "      <td>NaN</td>\n",
       "      <td>NaN</td>\n",
       "    </tr>\n",
       "    <tr>\n",
       "      <th>2010-01-01 00:15:00</th>\n",
       "      <td>1096.07</td>\n",
       "      <td>1096.17</td>\n",
       "      <td>1096.05</td>\n",
       "      <td>1096.17</td>\n",
       "      <td>NaN</td>\n",
       "      <td>NaN</td>\n",
       "      <td>NaN</td>\n",
       "      <td>NaN</td>\n",
       "      <td>NaN</td>\n",
       "      <td>NaN</td>\n",
       "      <td>...</td>\n",
       "      <td>NaN</td>\n",
       "      <td>NaN</td>\n",
       "      <td>NaN</td>\n",
       "      <td>NaN</td>\n",
       "      <td>NaN</td>\n",
       "      <td>NaN</td>\n",
       "      <td>NaN</td>\n",
       "      <td>NaN</td>\n",
       "      <td>NaN</td>\n",
       "      <td>NaN</td>\n",
       "    </tr>\n",
       "    <tr>\n",
       "      <th>2010-01-01 00:20:00</th>\n",
       "      <td>1096.08</td>\n",
       "      <td>1096.20</td>\n",
       "      <td>1096.05</td>\n",
       "      <td>1096.15</td>\n",
       "      <td>NaN</td>\n",
       "      <td>NaN</td>\n",
       "      <td>NaN</td>\n",
       "      <td>NaN</td>\n",
       "      <td>NaN</td>\n",
       "      <td>NaN</td>\n",
       "      <td>...</td>\n",
       "      <td>NaN</td>\n",
       "      <td>NaN</td>\n",
       "      <td>NaN</td>\n",
       "      <td>NaN</td>\n",
       "      <td>NaN</td>\n",
       "      <td>NaN</td>\n",
       "      <td>NaN</td>\n",
       "      <td>NaN</td>\n",
       "      <td>NaN</td>\n",
       "      <td>NaN</td>\n",
       "    </tr>\n",
       "    <tr>\n",
       "      <th>...</th>\n",
       "      <td>...</td>\n",
       "      <td>...</td>\n",
       "      <td>...</td>\n",
       "      <td>...</td>\n",
       "      <td>...</td>\n",
       "      <td>...</td>\n",
       "      <td>...</td>\n",
       "      <td>...</td>\n",
       "      <td>...</td>\n",
       "      <td>...</td>\n",
       "      <td>...</td>\n",
       "      <td>...</td>\n",
       "      <td>...</td>\n",
       "      <td>...</td>\n",
       "      <td>...</td>\n",
       "      <td>...</td>\n",
       "      <td>...</td>\n",
       "      <td>...</td>\n",
       "      <td>...</td>\n",
       "      <td>...</td>\n",
       "      <td>...</td>\n",
       "    </tr>\n",
       "    <tr>\n",
       "      <th>2020-01-01 23:35:00</th>\n",
       "      <td>1519.30</td>\n",
       "      <td>1519.52</td>\n",
       "      <td>1518.77</td>\n",
       "      <td>1519.28</td>\n",
       "      <td>1518.875</td>\n",
       "      <td>1518.875</td>\n",
       "      <td>1518.8750</td>\n",
       "      <td>1518.955</td>\n",
       "      <td>1519.300</td>\n",
       "      <td>1519.680</td>\n",
       "      <td>...</td>\n",
       "      <td>1521.16</td>\n",
       "      <td>1518.875</td>\n",
       "      <td>1519.77</td>\n",
       "      <td>1519.3225</td>\n",
       "      <td>1520.66</td>\n",
       "      <td>1520.66</td>\n",
       "      <td>1520.66</td>\n",
       "      <td>1520.66</td>\n",
       "      <td>1520.875</td>\n",
       "      <td>1521.20</td>\n",
       "    </tr>\n",
       "    <tr>\n",
       "      <th>2020-01-01 23:40:00</th>\n",
       "      <td>1519.29</td>\n",
       "      <td>1519.61</td>\n",
       "      <td>1519.11</td>\n",
       "      <td>1519.33</td>\n",
       "      <td>1519.920</td>\n",
       "      <td>1518.875</td>\n",
       "      <td>1519.3975</td>\n",
       "      <td>1518.875</td>\n",
       "      <td>1519.300</td>\n",
       "      <td>1519.485</td>\n",
       "      <td>...</td>\n",
       "      <td>1520.80</td>\n",
       "      <td>1518.875</td>\n",
       "      <td>1519.77</td>\n",
       "      <td>1519.3225</td>\n",
       "      <td>1520.66</td>\n",
       "      <td>1520.66</td>\n",
       "      <td>1520.66</td>\n",
       "      <td>1520.66</td>\n",
       "      <td>1520.875</td>\n",
       "      <td>1520.33</td>\n",
       "    </tr>\n",
       "    <tr>\n",
       "      <th>2020-01-01 23:45:00</th>\n",
       "      <td>1519.33</td>\n",
       "      <td>1519.33</td>\n",
       "      <td>1518.41</td>\n",
       "      <td>1518.59</td>\n",
       "      <td>1519.740</td>\n",
       "      <td>1518.875</td>\n",
       "      <td>1519.3075</td>\n",
       "      <td>1518.875</td>\n",
       "      <td>1519.225</td>\n",
       "      <td>1519.415</td>\n",
       "      <td>...</td>\n",
       "      <td>1520.23</td>\n",
       "      <td>1518.875</td>\n",
       "      <td>1519.77</td>\n",
       "      <td>1519.3225</td>\n",
       "      <td>1520.66</td>\n",
       "      <td>1520.66</td>\n",
       "      <td>1520.66</td>\n",
       "      <td>1520.66</td>\n",
       "      <td>1520.875</td>\n",
       "      <td>1520.86</td>\n",
       "    </tr>\n",
       "    <tr>\n",
       "      <th>2020-01-01 23:50:00</th>\n",
       "      <td>1518.58</td>\n",
       "      <td>1518.80</td>\n",
       "      <td>1518.48</td>\n",
       "      <td>1518.63</td>\n",
       "      <td>1519.590</td>\n",
       "      <td>1518.875</td>\n",
       "      <td>1519.2325</td>\n",
       "      <td>1518.875</td>\n",
       "      <td>1518.910</td>\n",
       "      <td>1519.280</td>\n",
       "      <td>...</td>\n",
       "      <td>1519.70</td>\n",
       "      <td>1518.875</td>\n",
       "      <td>1519.77</td>\n",
       "      <td>1519.3225</td>\n",
       "      <td>1520.66</td>\n",
       "      <td>1520.66</td>\n",
       "      <td>1520.66</td>\n",
       "      <td>1520.66</td>\n",
       "      <td>1520.875</td>\n",
       "      <td>1520.61</td>\n",
       "    </tr>\n",
       "    <tr>\n",
       "      <th>2020-01-01 23:55:00</th>\n",
       "      <td>1518.63</td>\n",
       "      <td>1518.70</td>\n",
       "      <td>1518.08</td>\n",
       "      <td>1518.29</td>\n",
       "      <td>1519.185</td>\n",
       "      <td>1518.875</td>\n",
       "      <td>1519.0300</td>\n",
       "      <td>1518.875</td>\n",
       "      <td>1518.745</td>\n",
       "      <td>1519.115</td>\n",
       "      <td>...</td>\n",
       "      <td>1520.20</td>\n",
       "      <td>1518.875</td>\n",
       "      <td>1519.77</td>\n",
       "      <td>1519.3225</td>\n",
       "      <td>1520.66</td>\n",
       "      <td>1520.66</td>\n",
       "      <td>1520.66</td>\n",
       "      <td>1520.66</td>\n",
       "      <td>1520.875</td>\n",
       "      <td>1521.15</td>\n",
       "    </tr>\n",
       "  </tbody>\n",
       "</table>\n",
       "<p>715180 rows × 31 columns</p>\n",
       "</div>"
      ],
      "text/plain": [
       "                        Open     High      Low    Close  Tenkan_sen_norm_1X  \\\n",
       "DateTime                                                                      \n",
       "2010-01-01 00:00:00  1096.09  1096.21  1096.02  1096.07                 NaN   \n",
       "2010-01-01 00:05:00  1096.15  1096.17  1095.99  1096.04                 NaN   \n",
       "2010-01-01 00:10:00  1096.06  1096.15  1095.99  1096.15                 NaN   \n",
       "2010-01-01 00:15:00  1096.07  1096.17  1096.05  1096.17                 NaN   \n",
       "2010-01-01 00:20:00  1096.08  1096.20  1096.05  1096.15                 NaN   \n",
       "...                      ...      ...      ...      ...                 ...   \n",
       "2020-01-01 23:35:00  1519.30  1519.52  1518.77  1519.28            1518.875   \n",
       "2020-01-01 23:40:00  1519.29  1519.61  1519.11  1519.33            1519.920   \n",
       "2020-01-01 23:45:00  1519.33  1519.33  1518.41  1518.59            1519.740   \n",
       "2020-01-01 23:50:00  1518.58  1518.80  1518.48  1518.63            1519.590   \n",
       "2020-01-01 23:55:00  1518.63  1518.70  1518.08  1518.29            1519.185   \n",
       "\n",
       "                     Kijun_sen_norm_1X  Senkou_span_A_norm_1X  \\\n",
       "DateTime                                                        \n",
       "2010-01-01 00:00:00                NaN                    NaN   \n",
       "2010-01-01 00:05:00                NaN                    NaN   \n",
       "2010-01-01 00:10:00                NaN                    NaN   \n",
       "2010-01-01 00:15:00                NaN                    NaN   \n",
       "2010-01-01 00:20:00                NaN                    NaN   \n",
       "...                                ...                    ...   \n",
       "2020-01-01 23:35:00           1518.875              1518.8750   \n",
       "2020-01-01 23:40:00           1518.875              1519.3975   \n",
       "2020-01-01 23:45:00           1518.875              1519.3075   \n",
       "2020-01-01 23:50:00           1518.875              1519.2325   \n",
       "2020-01-01 23:55:00           1518.875              1519.0300   \n",
       "\n",
       "                     Senkou_span_B_norm_1X  Tenkan_sen_adv_1X  \\\n",
       "DateTime                                                        \n",
       "2010-01-01 00:00:00                    NaN                NaN   \n",
       "2010-01-01 00:05:00                    NaN                NaN   \n",
       "2010-01-01 00:10:00                    NaN                NaN   \n",
       "2010-01-01 00:15:00                    NaN                NaN   \n",
       "2010-01-01 00:20:00                    NaN                NaN   \n",
       "...                                    ...                ...   \n",
       "2020-01-01 23:35:00               1518.955           1519.300   \n",
       "2020-01-01 23:40:00               1518.875           1519.300   \n",
       "2020-01-01 23:45:00               1518.875           1519.225   \n",
       "2020-01-01 23:50:00               1518.875           1518.910   \n",
       "2020-01-01 23:55:00               1518.875           1518.745   \n",
       "\n",
       "                     Kijun_sen_adv_1X  ...  Chikou_span_adv_2X  \\\n",
       "DateTime                               ...                       \n",
       "2010-01-01 00:00:00               NaN  ...                 NaN   \n",
       "2010-01-01 00:05:00               NaN  ...                 NaN   \n",
       "2010-01-01 00:10:00               NaN  ...                 NaN   \n",
       "2010-01-01 00:15:00               NaN  ...                 NaN   \n",
       "2010-01-01 00:20:00               NaN  ...                 NaN   \n",
       "...                               ...  ...                 ...   \n",
       "2020-01-01 23:35:00          1519.680  ...             1521.16   \n",
       "2020-01-01 23:40:00          1519.485  ...             1520.80   \n",
       "2020-01-01 23:45:00          1519.415  ...             1520.23   \n",
       "2020-01-01 23:50:00          1519.280  ...             1519.70   \n",
       "2020-01-01 23:55:00          1519.115  ...             1520.20   \n",
       "\n",
       "                     Tenkan_sen_norm_3X  Kijun_sen_norm_3X  \\\n",
       "DateTime                                                     \n",
       "2010-01-01 00:00:00                 NaN                NaN   \n",
       "2010-01-01 00:05:00                 NaN                NaN   \n",
       "2010-01-01 00:10:00                 NaN                NaN   \n",
       "2010-01-01 00:15:00                 NaN                NaN   \n",
       "2010-01-01 00:20:00                 NaN                NaN   \n",
       "...                                 ...                ...   \n",
       "2020-01-01 23:35:00            1518.875            1519.77   \n",
       "2020-01-01 23:40:00            1518.875            1519.77   \n",
       "2020-01-01 23:45:00            1518.875            1519.77   \n",
       "2020-01-01 23:50:00            1518.875            1519.77   \n",
       "2020-01-01 23:55:00            1518.875            1519.77   \n",
       "\n",
       "                     Senkou_span_A_norm_3X  Senkou_span_B_norm_3X  \\\n",
       "DateTime                                                            \n",
       "2010-01-01 00:00:00                    NaN                    NaN   \n",
       "2010-01-01 00:05:00                    NaN                    NaN   \n",
       "2010-01-01 00:10:00                    NaN                    NaN   \n",
       "2010-01-01 00:15:00                    NaN                    NaN   \n",
       "2010-01-01 00:20:00                    NaN                    NaN   \n",
       "...                                    ...                    ...   \n",
       "2020-01-01 23:35:00              1519.3225                1520.66   \n",
       "2020-01-01 23:40:00              1519.3225                1520.66   \n",
       "2020-01-01 23:45:00              1519.3225                1520.66   \n",
       "2020-01-01 23:50:00              1519.3225                1520.66   \n",
       "2020-01-01 23:55:00              1519.3225                1520.66   \n",
       "\n",
       "                     Tenkan_sen_adv_3X  Kijun_sen_adv_3X  \\\n",
       "DateTime                                                   \n",
       "2010-01-01 00:00:00                NaN               NaN   \n",
       "2010-01-01 00:05:00                NaN               NaN   \n",
       "2010-01-01 00:10:00                NaN               NaN   \n",
       "2010-01-01 00:15:00                NaN               NaN   \n",
       "2010-01-01 00:20:00                NaN               NaN   \n",
       "...                                ...               ...   \n",
       "2020-01-01 23:35:00            1520.66           1520.66   \n",
       "2020-01-01 23:40:00            1520.66           1520.66   \n",
       "2020-01-01 23:45:00            1520.66           1520.66   \n",
       "2020-01-01 23:50:00            1520.66           1520.66   \n",
       "2020-01-01 23:55:00            1520.66           1520.66   \n",
       "\n",
       "                     Senkou_span_A_adv_3X  Senkou_span_B_adv_3X  \\\n",
       "DateTime                                                          \n",
       "2010-01-01 00:00:00                   NaN                   NaN   \n",
       "2010-01-01 00:05:00                   NaN                   NaN   \n",
       "2010-01-01 00:10:00                   NaN                   NaN   \n",
       "2010-01-01 00:15:00                   NaN                   NaN   \n",
       "2010-01-01 00:20:00                   NaN                   NaN   \n",
       "...                                   ...                   ...   \n",
       "2020-01-01 23:35:00               1520.66              1520.875   \n",
       "2020-01-01 23:40:00               1520.66              1520.875   \n",
       "2020-01-01 23:45:00               1520.66              1520.875   \n",
       "2020-01-01 23:50:00               1520.66              1520.875   \n",
       "2020-01-01 23:55:00               1520.66              1520.875   \n",
       "\n",
       "                     Chikou_span_adv_3X  \n",
       "DateTime                                 \n",
       "2010-01-01 00:00:00                 NaN  \n",
       "2010-01-01 00:05:00                 NaN  \n",
       "2010-01-01 00:10:00                 NaN  \n",
       "2010-01-01 00:15:00                 NaN  \n",
       "2010-01-01 00:20:00                 NaN  \n",
       "...                                 ...  \n",
       "2020-01-01 23:35:00             1521.20  \n",
       "2020-01-01 23:40:00             1520.33  \n",
       "2020-01-01 23:45:00             1520.86  \n",
       "2020-01-01 23:50:00             1520.61  \n",
       "2020-01-01 23:55:00             1521.15  \n",
       "\n",
       "[715180 rows x 31 columns]"
      ]
     },
     "execution_count": 10,
     "metadata": {},
     "output_type": "execute_result"
    }
   ],
   "source": [
    "add_ichimoku(df, multi_time=3)\n",
    "df"
   ]
  },
  {
   "cell_type": "markdown",
   "id": "bb57dbe3",
   "metadata": {},
   "source": [
    "# Calculate TK & KJ - S_A & S_B Positions\n",
    "\n",
    "### No. 0 For Down Trend\n",
    "### No. 1 For Up Trend"
   ]
  },
  {
   "cell_type": "code",
   "execution_count": 7,
   "id": "15843e33",
   "metadata": {},
   "outputs": [
    {
     "ename": "SyntaxError",
     "evalue": "unexpected EOF while parsing (4076839768.py, line 2)",
     "output_type": "error",
     "traceback": [
      "\u001b[0;36m  Cell \u001b[0;32mIn[7], line 2\u001b[0;36m\u001b[0m\n\u001b[0;31m    \u001b[0m\n\u001b[0m    ^\u001b[0m\n\u001b[0;31mSyntaxError\u001b[0m\u001b[0;31m:\u001b[0m unexpected EOF while parsing\n"
     ]
    }
   ],
   "source": [
    "def Tk_Kj_position(df):\n",
    "    "
   ]
  },
  {
   "cell_type": "markdown",
   "id": "15551e1c",
   "metadata": {},
   "source": [
    "# Shift All Columns values for better performance"
   ]
  },
  {
   "cell_type": "code",
   "execution_count": 11,
   "id": "27e6267b",
   "metadata": {
    "scrolled": true
   },
   "outputs": [
    {
     "data": {
      "text/html": [
       "<div>\n",
       "<style scoped>\n",
       "    .dataframe tbody tr th:only-of-type {\n",
       "        vertical-align: middle;\n",
       "    }\n",
       "\n",
       "    .dataframe tbody tr th {\n",
       "        vertical-align: top;\n",
       "    }\n",
       "\n",
       "    .dataframe thead th {\n",
       "        text-align: right;\n",
       "    }\n",
       "</style>\n",
       "<table border=\"1\" class=\"dataframe\">\n",
       "  <thead>\n",
       "    <tr style=\"text-align: right;\">\n",
       "      <th></th>\n",
       "      <th>Open</th>\n",
       "      <th>High</th>\n",
       "      <th>Low</th>\n",
       "      <th>Close</th>\n",
       "      <th>Tenkan_sen_norm_1X</th>\n",
       "      <th>Kijun_sen_norm_1X</th>\n",
       "      <th>Senkou_span_A_norm_1X</th>\n",
       "      <th>Senkou_span_B_norm_1X</th>\n",
       "      <th>Tenkan_sen_adv_1X</th>\n",
       "      <th>Kijun_sen_adv_1X</th>\n",
       "      <th>...</th>\n",
       "      <th>Chikou_span_adv_2X</th>\n",
       "      <th>Tenkan_sen_norm_3X</th>\n",
       "      <th>Kijun_sen_norm_3X</th>\n",
       "      <th>Senkou_span_A_norm_3X</th>\n",
       "      <th>Senkou_span_B_norm_3X</th>\n",
       "      <th>Tenkan_sen_adv_3X</th>\n",
       "      <th>Kijun_sen_adv_3X</th>\n",
       "      <th>Senkou_span_A_adv_3X</th>\n",
       "      <th>Senkou_span_B_adv_3X</th>\n",
       "      <th>Chikou_span_adv_3X</th>\n",
       "    </tr>\n",
       "    <tr>\n",
       "      <th>DateTime</th>\n",
       "      <th></th>\n",
       "      <th></th>\n",
       "      <th></th>\n",
       "      <th></th>\n",
       "      <th></th>\n",
       "      <th></th>\n",
       "      <th></th>\n",
       "      <th></th>\n",
       "      <th></th>\n",
       "      <th></th>\n",
       "      <th></th>\n",
       "      <th></th>\n",
       "      <th></th>\n",
       "      <th></th>\n",
       "      <th></th>\n",
       "      <th></th>\n",
       "      <th></th>\n",
       "      <th></th>\n",
       "      <th></th>\n",
       "      <th></th>\n",
       "      <th></th>\n",
       "    </tr>\n",
       "  </thead>\n",
       "  <tbody>\n",
       "    <tr>\n",
       "      <th>2010-01-01 00:00:00</th>\n",
       "      <td>1096.09</td>\n",
       "      <td>1096.21</td>\n",
       "      <td>1096.02</td>\n",
       "      <td>1096.07</td>\n",
       "      <td>NaN</td>\n",
       "      <td>NaN</td>\n",
       "      <td>NaN</td>\n",
       "      <td>NaN</td>\n",
       "      <td>NaN</td>\n",
       "      <td>NaN</td>\n",
       "      <td>...</td>\n",
       "      <td>NaN</td>\n",
       "      <td>NaN</td>\n",
       "      <td>NaN</td>\n",
       "      <td>NaN</td>\n",
       "      <td>NaN</td>\n",
       "      <td>NaN</td>\n",
       "      <td>NaN</td>\n",
       "      <td>NaN</td>\n",
       "      <td>NaN</td>\n",
       "      <td>NaN</td>\n",
       "    </tr>\n",
       "    <tr>\n",
       "      <th>2010-01-01 00:05:00</th>\n",
       "      <td>1096.15</td>\n",
       "      <td>1096.17</td>\n",
       "      <td>1095.99</td>\n",
       "      <td>1096.04</td>\n",
       "      <td>NaN</td>\n",
       "      <td>NaN</td>\n",
       "      <td>NaN</td>\n",
       "      <td>NaN</td>\n",
       "      <td>NaN</td>\n",
       "      <td>NaN</td>\n",
       "      <td>...</td>\n",
       "      <td>NaN</td>\n",
       "      <td>NaN</td>\n",
       "      <td>NaN</td>\n",
       "      <td>NaN</td>\n",
       "      <td>NaN</td>\n",
       "      <td>NaN</td>\n",
       "      <td>NaN</td>\n",
       "      <td>NaN</td>\n",
       "      <td>NaN</td>\n",
       "      <td>NaN</td>\n",
       "    </tr>\n",
       "    <tr>\n",
       "      <th>2010-01-01 00:10:00</th>\n",
       "      <td>1096.06</td>\n",
       "      <td>1096.15</td>\n",
       "      <td>1095.99</td>\n",
       "      <td>1096.15</td>\n",
       "      <td>NaN</td>\n",
       "      <td>NaN</td>\n",
       "      <td>NaN</td>\n",
       "      <td>NaN</td>\n",
       "      <td>NaN</td>\n",
       "      <td>NaN</td>\n",
       "      <td>...</td>\n",
       "      <td>NaN</td>\n",
       "      <td>NaN</td>\n",
       "      <td>NaN</td>\n",
       "      <td>NaN</td>\n",
       "      <td>NaN</td>\n",
       "      <td>NaN</td>\n",
       "      <td>NaN</td>\n",
       "      <td>NaN</td>\n",
       "      <td>NaN</td>\n",
       "      <td>NaN</td>\n",
       "    </tr>\n",
       "    <tr>\n",
       "      <th>2010-01-01 00:15:00</th>\n",
       "      <td>1096.07</td>\n",
       "      <td>1096.17</td>\n",
       "      <td>1096.05</td>\n",
       "      <td>1096.17</td>\n",
       "      <td>NaN</td>\n",
       "      <td>NaN</td>\n",
       "      <td>NaN</td>\n",
       "      <td>NaN</td>\n",
       "      <td>NaN</td>\n",
       "      <td>NaN</td>\n",
       "      <td>...</td>\n",
       "      <td>NaN</td>\n",
       "      <td>NaN</td>\n",
       "      <td>NaN</td>\n",
       "      <td>NaN</td>\n",
       "      <td>NaN</td>\n",
       "      <td>NaN</td>\n",
       "      <td>NaN</td>\n",
       "      <td>NaN</td>\n",
       "      <td>NaN</td>\n",
       "      <td>NaN</td>\n",
       "    </tr>\n",
       "    <tr>\n",
       "      <th>2010-01-01 00:20:00</th>\n",
       "      <td>1096.08</td>\n",
       "      <td>1096.20</td>\n",
       "      <td>1096.05</td>\n",
       "      <td>1096.15</td>\n",
       "      <td>NaN</td>\n",
       "      <td>NaN</td>\n",
       "      <td>NaN</td>\n",
       "      <td>NaN</td>\n",
       "      <td>NaN</td>\n",
       "      <td>NaN</td>\n",
       "      <td>...</td>\n",
       "      <td>NaN</td>\n",
       "      <td>NaN</td>\n",
       "      <td>NaN</td>\n",
       "      <td>NaN</td>\n",
       "      <td>NaN</td>\n",
       "      <td>NaN</td>\n",
       "      <td>NaN</td>\n",
       "      <td>NaN</td>\n",
       "      <td>NaN</td>\n",
       "      <td>NaN</td>\n",
       "    </tr>\n",
       "    <tr>\n",
       "      <th>...</th>\n",
       "      <td>...</td>\n",
       "      <td>...</td>\n",
       "      <td>...</td>\n",
       "      <td>...</td>\n",
       "      <td>...</td>\n",
       "      <td>...</td>\n",
       "      <td>...</td>\n",
       "      <td>...</td>\n",
       "      <td>...</td>\n",
       "      <td>...</td>\n",
       "      <td>...</td>\n",
       "      <td>...</td>\n",
       "      <td>...</td>\n",
       "      <td>...</td>\n",
       "      <td>...</td>\n",
       "      <td>...</td>\n",
       "      <td>...</td>\n",
       "      <td>...</td>\n",
       "      <td>...</td>\n",
       "      <td>...</td>\n",
       "      <td>...</td>\n",
       "    </tr>\n",
       "    <tr>\n",
       "      <th>2020-01-01 23:35:00</th>\n",
       "      <td>1519.30</td>\n",
       "      <td>1519.52</td>\n",
       "      <td>1518.77</td>\n",
       "      <td>1519.28</td>\n",
       "      <td>1518.875</td>\n",
       "      <td>1518.875</td>\n",
       "      <td>1518.8750</td>\n",
       "      <td>1519.315</td>\n",
       "      <td>1519.310</td>\n",
       "      <td>1520.040</td>\n",
       "      <td>...</td>\n",
       "      <td>1521.95</td>\n",
       "      <td>1518.875</td>\n",
       "      <td>1519.77</td>\n",
       "      <td>1519.3225</td>\n",
       "      <td>1520.66</td>\n",
       "      <td>1520.66</td>\n",
       "      <td>1520.66</td>\n",
       "      <td>1520.66</td>\n",
       "      <td>1520.875</td>\n",
       "      <td>1521.70</td>\n",
       "    </tr>\n",
       "    <tr>\n",
       "      <th>2020-01-01 23:40:00</th>\n",
       "      <td>1519.29</td>\n",
       "      <td>1519.61</td>\n",
       "      <td>1519.11</td>\n",
       "      <td>1519.33</td>\n",
       "      <td>1518.875</td>\n",
       "      <td>1518.875</td>\n",
       "      <td>1518.8750</td>\n",
       "      <td>1518.955</td>\n",
       "      <td>1519.300</td>\n",
       "      <td>1519.680</td>\n",
       "      <td>...</td>\n",
       "      <td>1521.16</td>\n",
       "      <td>1518.875</td>\n",
       "      <td>1519.77</td>\n",
       "      <td>1519.3225</td>\n",
       "      <td>1520.66</td>\n",
       "      <td>1520.66</td>\n",
       "      <td>1520.66</td>\n",
       "      <td>1520.66</td>\n",
       "      <td>1520.875</td>\n",
       "      <td>1521.20</td>\n",
       "    </tr>\n",
       "    <tr>\n",
       "      <th>2020-01-01 23:45:00</th>\n",
       "      <td>1519.33</td>\n",
       "      <td>1519.33</td>\n",
       "      <td>1518.41</td>\n",
       "      <td>1518.59</td>\n",
       "      <td>1519.920</td>\n",
       "      <td>1518.875</td>\n",
       "      <td>1519.3975</td>\n",
       "      <td>1518.875</td>\n",
       "      <td>1519.300</td>\n",
       "      <td>1519.485</td>\n",
       "      <td>...</td>\n",
       "      <td>1520.80</td>\n",
       "      <td>1518.875</td>\n",
       "      <td>1519.77</td>\n",
       "      <td>1519.3225</td>\n",
       "      <td>1520.66</td>\n",
       "      <td>1520.66</td>\n",
       "      <td>1520.66</td>\n",
       "      <td>1520.66</td>\n",
       "      <td>1520.875</td>\n",
       "      <td>1520.33</td>\n",
       "    </tr>\n",
       "    <tr>\n",
       "      <th>2020-01-01 23:50:00</th>\n",
       "      <td>1518.58</td>\n",
       "      <td>1518.80</td>\n",
       "      <td>1518.48</td>\n",
       "      <td>1518.63</td>\n",
       "      <td>1519.740</td>\n",
       "      <td>1518.875</td>\n",
       "      <td>1519.3075</td>\n",
       "      <td>1518.875</td>\n",
       "      <td>1519.225</td>\n",
       "      <td>1519.415</td>\n",
       "      <td>...</td>\n",
       "      <td>1520.23</td>\n",
       "      <td>1518.875</td>\n",
       "      <td>1519.77</td>\n",
       "      <td>1519.3225</td>\n",
       "      <td>1520.66</td>\n",
       "      <td>1520.66</td>\n",
       "      <td>1520.66</td>\n",
       "      <td>1520.66</td>\n",
       "      <td>1520.875</td>\n",
       "      <td>1520.86</td>\n",
       "    </tr>\n",
       "    <tr>\n",
       "      <th>2020-01-01 23:55:00</th>\n",
       "      <td>1518.63</td>\n",
       "      <td>1518.70</td>\n",
       "      <td>1518.08</td>\n",
       "      <td>1518.29</td>\n",
       "      <td>1519.590</td>\n",
       "      <td>1518.875</td>\n",
       "      <td>1519.2325</td>\n",
       "      <td>1518.875</td>\n",
       "      <td>1518.910</td>\n",
       "      <td>1519.280</td>\n",
       "      <td>...</td>\n",
       "      <td>1519.70</td>\n",
       "      <td>1518.875</td>\n",
       "      <td>1519.77</td>\n",
       "      <td>1519.3225</td>\n",
       "      <td>1520.66</td>\n",
       "      <td>1520.66</td>\n",
       "      <td>1520.66</td>\n",
       "      <td>1520.66</td>\n",
       "      <td>1520.875</td>\n",
       "      <td>1520.61</td>\n",
       "    </tr>\n",
       "  </tbody>\n",
       "</table>\n",
       "<p>715180 rows × 31 columns</p>\n",
       "</div>"
      ],
      "text/plain": [
       "                        Open     High      Low    Close  Tenkan_sen_norm_1X  \\\n",
       "DateTime                                                                      \n",
       "2010-01-01 00:00:00  1096.09  1096.21  1096.02  1096.07                 NaN   \n",
       "2010-01-01 00:05:00  1096.15  1096.17  1095.99  1096.04                 NaN   \n",
       "2010-01-01 00:10:00  1096.06  1096.15  1095.99  1096.15                 NaN   \n",
       "2010-01-01 00:15:00  1096.07  1096.17  1096.05  1096.17                 NaN   \n",
       "2010-01-01 00:20:00  1096.08  1096.20  1096.05  1096.15                 NaN   \n",
       "...                      ...      ...      ...      ...                 ...   \n",
       "2020-01-01 23:35:00  1519.30  1519.52  1518.77  1519.28            1518.875   \n",
       "2020-01-01 23:40:00  1519.29  1519.61  1519.11  1519.33            1518.875   \n",
       "2020-01-01 23:45:00  1519.33  1519.33  1518.41  1518.59            1519.920   \n",
       "2020-01-01 23:50:00  1518.58  1518.80  1518.48  1518.63            1519.740   \n",
       "2020-01-01 23:55:00  1518.63  1518.70  1518.08  1518.29            1519.590   \n",
       "\n",
       "                     Kijun_sen_norm_1X  Senkou_span_A_norm_1X  \\\n",
       "DateTime                                                        \n",
       "2010-01-01 00:00:00                NaN                    NaN   \n",
       "2010-01-01 00:05:00                NaN                    NaN   \n",
       "2010-01-01 00:10:00                NaN                    NaN   \n",
       "2010-01-01 00:15:00                NaN                    NaN   \n",
       "2010-01-01 00:20:00                NaN                    NaN   \n",
       "...                                ...                    ...   \n",
       "2020-01-01 23:35:00           1518.875              1518.8750   \n",
       "2020-01-01 23:40:00           1518.875              1518.8750   \n",
       "2020-01-01 23:45:00           1518.875              1519.3975   \n",
       "2020-01-01 23:50:00           1518.875              1519.3075   \n",
       "2020-01-01 23:55:00           1518.875              1519.2325   \n",
       "\n",
       "                     Senkou_span_B_norm_1X  Tenkan_sen_adv_1X  \\\n",
       "DateTime                                                        \n",
       "2010-01-01 00:00:00                    NaN                NaN   \n",
       "2010-01-01 00:05:00                    NaN                NaN   \n",
       "2010-01-01 00:10:00                    NaN                NaN   \n",
       "2010-01-01 00:15:00                    NaN                NaN   \n",
       "2010-01-01 00:20:00                    NaN                NaN   \n",
       "...                                    ...                ...   \n",
       "2020-01-01 23:35:00               1519.315           1519.310   \n",
       "2020-01-01 23:40:00               1518.955           1519.300   \n",
       "2020-01-01 23:45:00               1518.875           1519.300   \n",
       "2020-01-01 23:50:00               1518.875           1519.225   \n",
       "2020-01-01 23:55:00               1518.875           1518.910   \n",
       "\n",
       "                     Kijun_sen_adv_1X  ...  Chikou_span_adv_2X  \\\n",
       "DateTime                               ...                       \n",
       "2010-01-01 00:00:00               NaN  ...                 NaN   \n",
       "2010-01-01 00:05:00               NaN  ...                 NaN   \n",
       "2010-01-01 00:10:00               NaN  ...                 NaN   \n",
       "2010-01-01 00:15:00               NaN  ...                 NaN   \n",
       "2010-01-01 00:20:00               NaN  ...                 NaN   \n",
       "...                               ...  ...                 ...   \n",
       "2020-01-01 23:35:00          1520.040  ...             1521.95   \n",
       "2020-01-01 23:40:00          1519.680  ...             1521.16   \n",
       "2020-01-01 23:45:00          1519.485  ...             1520.80   \n",
       "2020-01-01 23:50:00          1519.415  ...             1520.23   \n",
       "2020-01-01 23:55:00          1519.280  ...             1519.70   \n",
       "\n",
       "                     Tenkan_sen_norm_3X  Kijun_sen_norm_3X  \\\n",
       "DateTime                                                     \n",
       "2010-01-01 00:00:00                 NaN                NaN   \n",
       "2010-01-01 00:05:00                 NaN                NaN   \n",
       "2010-01-01 00:10:00                 NaN                NaN   \n",
       "2010-01-01 00:15:00                 NaN                NaN   \n",
       "2010-01-01 00:20:00                 NaN                NaN   \n",
       "...                                 ...                ...   \n",
       "2020-01-01 23:35:00            1518.875            1519.77   \n",
       "2020-01-01 23:40:00            1518.875            1519.77   \n",
       "2020-01-01 23:45:00            1518.875            1519.77   \n",
       "2020-01-01 23:50:00            1518.875            1519.77   \n",
       "2020-01-01 23:55:00            1518.875            1519.77   \n",
       "\n",
       "                     Senkou_span_A_norm_3X  Senkou_span_B_norm_3X  \\\n",
       "DateTime                                                            \n",
       "2010-01-01 00:00:00                    NaN                    NaN   \n",
       "2010-01-01 00:05:00                    NaN                    NaN   \n",
       "2010-01-01 00:10:00                    NaN                    NaN   \n",
       "2010-01-01 00:15:00                    NaN                    NaN   \n",
       "2010-01-01 00:20:00                    NaN                    NaN   \n",
       "...                                    ...                    ...   \n",
       "2020-01-01 23:35:00              1519.3225                1520.66   \n",
       "2020-01-01 23:40:00              1519.3225                1520.66   \n",
       "2020-01-01 23:45:00              1519.3225                1520.66   \n",
       "2020-01-01 23:50:00              1519.3225                1520.66   \n",
       "2020-01-01 23:55:00              1519.3225                1520.66   \n",
       "\n",
       "                     Tenkan_sen_adv_3X  Kijun_sen_adv_3X  \\\n",
       "DateTime                                                   \n",
       "2010-01-01 00:00:00                NaN               NaN   \n",
       "2010-01-01 00:05:00                NaN               NaN   \n",
       "2010-01-01 00:10:00                NaN               NaN   \n",
       "2010-01-01 00:15:00                NaN               NaN   \n",
       "2010-01-01 00:20:00                NaN               NaN   \n",
       "...                                ...               ...   \n",
       "2020-01-01 23:35:00            1520.66           1520.66   \n",
       "2020-01-01 23:40:00            1520.66           1520.66   \n",
       "2020-01-01 23:45:00            1520.66           1520.66   \n",
       "2020-01-01 23:50:00            1520.66           1520.66   \n",
       "2020-01-01 23:55:00            1520.66           1520.66   \n",
       "\n",
       "                     Senkou_span_A_adv_3X  Senkou_span_B_adv_3X  \\\n",
       "DateTime                                                          \n",
       "2010-01-01 00:00:00                   NaN                   NaN   \n",
       "2010-01-01 00:05:00                   NaN                   NaN   \n",
       "2010-01-01 00:10:00                   NaN                   NaN   \n",
       "2010-01-01 00:15:00                   NaN                   NaN   \n",
       "2010-01-01 00:20:00                   NaN                   NaN   \n",
       "...                                   ...                   ...   \n",
       "2020-01-01 23:35:00               1520.66              1520.875   \n",
       "2020-01-01 23:40:00               1520.66              1520.875   \n",
       "2020-01-01 23:45:00               1520.66              1520.875   \n",
       "2020-01-01 23:50:00               1520.66              1520.875   \n",
       "2020-01-01 23:55:00               1520.66              1520.875   \n",
       "\n",
       "                     Chikou_span_adv_3X  \n",
       "DateTime                                 \n",
       "2010-01-01 00:00:00                 NaN  \n",
       "2010-01-01 00:05:00                 NaN  \n",
       "2010-01-01 00:10:00                 NaN  \n",
       "2010-01-01 00:15:00                 NaN  \n",
       "2010-01-01 00:20:00                 NaN  \n",
       "...                                 ...  \n",
       "2020-01-01 23:35:00             1521.70  \n",
       "2020-01-01 23:40:00             1521.20  \n",
       "2020-01-01 23:45:00             1520.33  \n",
       "2020-01-01 23:50:00             1520.86  \n",
       "2020-01-01 23:55:00             1520.61  \n",
       "\n",
       "[715180 rows x 31 columns]"
      ]
     },
     "execution_count": 11,
     "metadata": {},
     "output_type": "execute_result"
    }
   ],
   "source": [
    "columnss = list(df.columns)\n",
    "columnss = columnss[4:]\n",
    "for col_name in columnss:\n",
    "    df[col_name] = df[col_name].shift(1)\n",
    "df"
   ]
  },
  {
   "cell_type": "markdown",
   "id": "e42944dc",
   "metadata": {},
   "source": [
    "### Drop Nan Rows"
   ]
  },
  {
   "cell_type": "code",
   "execution_count": 12,
   "id": "9bad7e36",
   "metadata": {
    "scrolled": true
   },
   "outputs": [
    {
     "data": {
      "text/plain": [
       "(714946, 31)"
      ]
     },
     "execution_count": 12,
     "metadata": {},
     "output_type": "execute_result"
    }
   ],
   "source": [
    "df.dropna(inplace=True)\n",
    "df.shape"
   ]
  },
  {
   "cell_type": "markdown",
   "id": "ec09178a",
   "metadata": {},
   "source": [
    "# Calculate possible combination"
   ]
  },
  {
   "cell_type": "code",
   "execution_count": 11,
   "id": "a04ba3d8",
   "metadata": {},
   "outputs": [
    {
     "data": {
      "text/plain": [
       "1485715964481761497309522733620825737885569961284688766942216863704985393094065876545992131370884059645617234469978112000000000000000000000"
      ]
     },
     "execution_count": 11,
     "metadata": {},
     "output_type": "execute_result"
    }
   ],
   "source": [
    "math.factorial((df.shape[1])-4)"
   ]
  },
  {
   "cell_type": "markdown",
   "id": "75f16fac",
   "metadata": {},
   "source": [
    "# Test"
   ]
  },
  {
   "cell_type": "code",
   "execution_count": 13,
   "id": "2e13ab0c",
   "metadata": {},
   "outputs": [],
   "source": [
    "import pandas as pd\n",
    "import matplotlib.pyplot as plt\n",
    "import numpy as np\n",
    "import tensorflow as tf\n",
    "from tensorflow import keras\n",
    "import seaborn as sns\n",
    "import os\n",
    "from datetime import datetime\n",
    "\n",
    "import warnings\n",
    "warnings.filterwarnings(\"ignore\")\n"
   ]
  },
  {
   "cell_type": "code",
   "execution_count": 15,
   "id": "8c648468",
   "metadata": {},
   "outputs": [],
   "source": [
    "from sklearn.model_selection import train_test_split\n"
   ]
  },
  {
   "cell_type": "code",
   "execution_count": 19,
   "id": "a50ca23a",
   "metadata": {},
   "outputs": [
    {
     "data": {
      "text/html": [
       "<div>\n",
       "<style scoped>\n",
       "    .dataframe tbody tr th:only-of-type {\n",
       "        vertical-align: middle;\n",
       "    }\n",
       "\n",
       "    .dataframe tbody tr th {\n",
       "        vertical-align: top;\n",
       "    }\n",
       "\n",
       "    .dataframe thead th {\n",
       "        text-align: right;\n",
       "    }\n",
       "</style>\n",
       "<table border=\"1\" class=\"dataframe\">\n",
       "  <thead>\n",
       "    <tr style=\"text-align: right;\">\n",
       "      <th></th>\n",
       "      <th>Tenkan_sen_norm_1X</th>\n",
       "      <th>Kijun_sen_norm_1X</th>\n",
       "      <th>Senkou_span_A_norm_1X</th>\n",
       "      <th>Senkou_span_B_norm_1X</th>\n",
       "      <th>Tenkan_sen_adv_1X</th>\n",
       "      <th>Kijun_sen_adv_1X</th>\n",
       "      <th>Senkou_span_A_adv_1X</th>\n",
       "      <th>Senkou_span_B_adv_1X</th>\n",
       "      <th>Chikou_span_adv_1X</th>\n",
       "      <th>Tenkan_sen_norm_2X</th>\n",
       "      <th>...</th>\n",
       "      <th>Chikou_span_adv_2X</th>\n",
       "      <th>Tenkan_sen_norm_3X</th>\n",
       "      <th>Kijun_sen_norm_3X</th>\n",
       "      <th>Senkou_span_A_norm_3X</th>\n",
       "      <th>Senkou_span_B_norm_3X</th>\n",
       "      <th>Tenkan_sen_adv_3X</th>\n",
       "      <th>Kijun_sen_adv_3X</th>\n",
       "      <th>Senkou_span_A_adv_3X</th>\n",
       "      <th>Senkou_span_B_adv_3X</th>\n",
       "      <th>Chikou_span_adv_3X</th>\n",
       "    </tr>\n",
       "    <tr>\n",
       "      <th>DateTime</th>\n",
       "      <th></th>\n",
       "      <th></th>\n",
       "      <th></th>\n",
       "      <th></th>\n",
       "      <th></th>\n",
       "      <th></th>\n",
       "      <th></th>\n",
       "      <th></th>\n",
       "      <th></th>\n",
       "      <th></th>\n",
       "      <th></th>\n",
       "      <th></th>\n",
       "      <th></th>\n",
       "      <th></th>\n",
       "      <th></th>\n",
       "      <th></th>\n",
       "      <th></th>\n",
       "      <th></th>\n",
       "      <th></th>\n",
       "      <th></th>\n",
       "      <th></th>\n",
       "    </tr>\n",
       "  </thead>\n",
       "  <tbody>\n",
       "    <tr>\n",
       "      <th>2010-01-01 20:15:00</th>\n",
       "      <td>1096.115</td>\n",
       "      <td>1096.110</td>\n",
       "      <td>1096.1125</td>\n",
       "      <td>1096.145</td>\n",
       "      <td>1096.085</td>\n",
       "      <td>1096.150</td>\n",
       "      <td>1096.1175</td>\n",
       "      <td>1096.150</td>\n",
       "      <td>1096.05</td>\n",
       "      <td>1096.110</td>\n",
       "      <td>...</td>\n",
       "      <td>1096.15</td>\n",
       "      <td>1096.110</td>\n",
       "      <td>1096.145</td>\n",
       "      <td>1096.1275</td>\n",
       "      <td>1096.155</td>\n",
       "      <td>1096.19</td>\n",
       "      <td>1096.16</td>\n",
       "      <td>1096.175</td>\n",
       "      <td>1096.105</td>\n",
       "      <td>1096.08</td>\n",
       "    </tr>\n",
       "    <tr>\n",
       "      <th>2010-01-01 20:20:00</th>\n",
       "      <td>1096.115</td>\n",
       "      <td>1096.110</td>\n",
       "      <td>1096.1125</td>\n",
       "      <td>1096.145</td>\n",
       "      <td>1096.085</td>\n",
       "      <td>1096.150</td>\n",
       "      <td>1096.1175</td>\n",
       "      <td>1096.150</td>\n",
       "      <td>1096.06</td>\n",
       "      <td>1096.110</td>\n",
       "      <td>...</td>\n",
       "      <td>1096.10</td>\n",
       "      <td>1096.110</td>\n",
       "      <td>1096.145</td>\n",
       "      <td>1096.1275</td>\n",
       "      <td>1096.155</td>\n",
       "      <td>1096.19</td>\n",
       "      <td>1096.16</td>\n",
       "      <td>1096.175</td>\n",
       "      <td>1096.105</td>\n",
       "      <td>1096.10</td>\n",
       "    </tr>\n",
       "    <tr>\n",
       "      <th>2010-01-01 20:25:00</th>\n",
       "      <td>1096.115</td>\n",
       "      <td>1096.110</td>\n",
       "      <td>1096.1125</td>\n",
       "      <td>1096.145</td>\n",
       "      <td>1096.090</td>\n",
       "      <td>1096.150</td>\n",
       "      <td>1096.1200</td>\n",
       "      <td>1096.150</td>\n",
       "      <td>1096.05</td>\n",
       "      <td>1096.110</td>\n",
       "      <td>...</td>\n",
       "      <td>1096.07</td>\n",
       "      <td>1096.110</td>\n",
       "      <td>1096.145</td>\n",
       "      <td>1096.1275</td>\n",
       "      <td>1096.155</td>\n",
       "      <td>1096.19</td>\n",
       "      <td>1096.16</td>\n",
       "      <td>1096.175</td>\n",
       "      <td>1096.105</td>\n",
       "      <td>1096.09</td>\n",
       "    </tr>\n",
       "    <tr>\n",
       "      <th>2010-01-01 20:30:00</th>\n",
       "      <td>1096.115</td>\n",
       "      <td>1096.110</td>\n",
       "      <td>1096.1125</td>\n",
       "      <td>1096.145</td>\n",
       "      <td>1096.090</td>\n",
       "      <td>1096.150</td>\n",
       "      <td>1096.1200</td>\n",
       "      <td>1096.150</td>\n",
       "      <td>1096.10</td>\n",
       "      <td>1096.110</td>\n",
       "      <td>...</td>\n",
       "      <td>1096.10</td>\n",
       "      <td>1096.110</td>\n",
       "      <td>1096.145</td>\n",
       "      <td>1096.1275</td>\n",
       "      <td>1096.155</td>\n",
       "      <td>1096.19</td>\n",
       "      <td>1096.16</td>\n",
       "      <td>1096.175</td>\n",
       "      <td>1096.105</td>\n",
       "      <td>1096.07</td>\n",
       "    </tr>\n",
       "    <tr>\n",
       "      <th>2010-01-01 20:35:00</th>\n",
       "      <td>1096.115</td>\n",
       "      <td>1096.110</td>\n",
       "      <td>1096.1125</td>\n",
       "      <td>1096.145</td>\n",
       "      <td>1096.115</td>\n",
       "      <td>1096.150</td>\n",
       "      <td>1096.1325</td>\n",
       "      <td>1096.150</td>\n",
       "      <td>1096.09</td>\n",
       "      <td>1096.110</td>\n",
       "      <td>...</td>\n",
       "      <td>1096.07</td>\n",
       "      <td>1096.110</td>\n",
       "      <td>1096.145</td>\n",
       "      <td>1096.1275</td>\n",
       "      <td>1096.155</td>\n",
       "      <td>1096.18</td>\n",
       "      <td>1096.16</td>\n",
       "      <td>1096.170</td>\n",
       "      <td>1096.105</td>\n",
       "      <td>1096.11</td>\n",
       "    </tr>\n",
       "    <tr>\n",
       "      <th>...</th>\n",
       "      <td>...</td>\n",
       "      <td>...</td>\n",
       "      <td>...</td>\n",
       "      <td>...</td>\n",
       "      <td>...</td>\n",
       "      <td>...</td>\n",
       "      <td>...</td>\n",
       "      <td>...</td>\n",
       "      <td>...</td>\n",
       "      <td>...</td>\n",
       "      <td>...</td>\n",
       "      <td>...</td>\n",
       "      <td>...</td>\n",
       "      <td>...</td>\n",
       "      <td>...</td>\n",
       "      <td>...</td>\n",
       "      <td>...</td>\n",
       "      <td>...</td>\n",
       "      <td>...</td>\n",
       "      <td>...</td>\n",
       "      <td>...</td>\n",
       "    </tr>\n",
       "    <tr>\n",
       "      <th>2020-01-01 23:35:00</th>\n",
       "      <td>1518.875</td>\n",
       "      <td>1518.875</td>\n",
       "      <td>1518.8750</td>\n",
       "      <td>1519.315</td>\n",
       "      <td>1519.310</td>\n",
       "      <td>1520.040</td>\n",
       "      <td>1519.6750</td>\n",
       "      <td>1520.495</td>\n",
       "      <td>1518.95</td>\n",
       "      <td>1518.875</td>\n",
       "      <td>...</td>\n",
       "      <td>1521.95</td>\n",
       "      <td>1518.875</td>\n",
       "      <td>1519.770</td>\n",
       "      <td>1519.3225</td>\n",
       "      <td>1520.660</td>\n",
       "      <td>1520.66</td>\n",
       "      <td>1520.66</td>\n",
       "      <td>1520.660</td>\n",
       "      <td>1520.875</td>\n",
       "      <td>1521.70</td>\n",
       "    </tr>\n",
       "    <tr>\n",
       "      <th>2020-01-01 23:40:00</th>\n",
       "      <td>1518.875</td>\n",
       "      <td>1518.875</td>\n",
       "      <td>1518.8750</td>\n",
       "      <td>1518.955</td>\n",
       "      <td>1519.300</td>\n",
       "      <td>1519.680</td>\n",
       "      <td>1519.4900</td>\n",
       "      <td>1520.495</td>\n",
       "      <td>1518.49</td>\n",
       "      <td>1518.875</td>\n",
       "      <td>...</td>\n",
       "      <td>1521.16</td>\n",
       "      <td>1518.875</td>\n",
       "      <td>1519.770</td>\n",
       "      <td>1519.3225</td>\n",
       "      <td>1520.660</td>\n",
       "      <td>1520.66</td>\n",
       "      <td>1520.66</td>\n",
       "      <td>1520.660</td>\n",
       "      <td>1520.875</td>\n",
       "      <td>1521.20</td>\n",
       "    </tr>\n",
       "    <tr>\n",
       "      <th>2020-01-01 23:45:00</th>\n",
       "      <td>1519.920</td>\n",
       "      <td>1518.875</td>\n",
       "      <td>1519.3975</td>\n",
       "      <td>1518.875</td>\n",
       "      <td>1519.300</td>\n",
       "      <td>1519.485</td>\n",
       "      <td>1519.3925</td>\n",
       "      <td>1520.495</td>\n",
       "      <td>1518.50</td>\n",
       "      <td>1518.875</td>\n",
       "      <td>...</td>\n",
       "      <td>1520.80</td>\n",
       "      <td>1518.875</td>\n",
       "      <td>1519.770</td>\n",
       "      <td>1519.3225</td>\n",
       "      <td>1520.660</td>\n",
       "      <td>1520.66</td>\n",
       "      <td>1520.66</td>\n",
       "      <td>1520.660</td>\n",
       "      <td>1520.875</td>\n",
       "      <td>1520.33</td>\n",
       "    </tr>\n",
       "    <tr>\n",
       "      <th>2020-01-01 23:50:00</th>\n",
       "      <td>1519.740</td>\n",
       "      <td>1518.875</td>\n",
       "      <td>1519.3075</td>\n",
       "      <td>1518.875</td>\n",
       "      <td>1519.225</td>\n",
       "      <td>1519.415</td>\n",
       "      <td>1519.3200</td>\n",
       "      <td>1520.425</td>\n",
       "      <td>1518.05</td>\n",
       "      <td>1518.875</td>\n",
       "      <td>...</td>\n",
       "      <td>1520.23</td>\n",
       "      <td>1518.875</td>\n",
       "      <td>1519.770</td>\n",
       "      <td>1519.3225</td>\n",
       "      <td>1520.660</td>\n",
       "      <td>1520.66</td>\n",
       "      <td>1520.66</td>\n",
       "      <td>1520.660</td>\n",
       "      <td>1520.875</td>\n",
       "      <td>1520.86</td>\n",
       "    </tr>\n",
       "    <tr>\n",
       "      <th>2020-01-01 23:55:00</th>\n",
       "      <td>1519.590</td>\n",
       "      <td>1518.875</td>\n",
       "      <td>1519.2325</td>\n",
       "      <td>1518.875</td>\n",
       "      <td>1518.910</td>\n",
       "      <td>1519.280</td>\n",
       "      <td>1519.0950</td>\n",
       "      <td>1520.290</td>\n",
       "      <td>1517.75</td>\n",
       "      <td>1518.875</td>\n",
       "      <td>...</td>\n",
       "      <td>1519.70</td>\n",
       "      <td>1518.875</td>\n",
       "      <td>1519.770</td>\n",
       "      <td>1519.3225</td>\n",
       "      <td>1520.660</td>\n",
       "      <td>1520.66</td>\n",
       "      <td>1520.66</td>\n",
       "      <td>1520.660</td>\n",
       "      <td>1520.875</td>\n",
       "      <td>1520.61</td>\n",
       "    </tr>\n",
       "  </tbody>\n",
       "</table>\n",
       "<p>714946 rows × 27 columns</p>\n",
       "</div>"
      ],
      "text/plain": [
       "                     Tenkan_sen_norm_1X  Kijun_sen_norm_1X  \\\n",
       "DateTime                                                     \n",
       "2010-01-01 20:15:00            1096.115           1096.110   \n",
       "2010-01-01 20:20:00            1096.115           1096.110   \n",
       "2010-01-01 20:25:00            1096.115           1096.110   \n",
       "2010-01-01 20:30:00            1096.115           1096.110   \n",
       "2010-01-01 20:35:00            1096.115           1096.110   \n",
       "...                                 ...                ...   \n",
       "2020-01-01 23:35:00            1518.875           1518.875   \n",
       "2020-01-01 23:40:00            1518.875           1518.875   \n",
       "2020-01-01 23:45:00            1519.920           1518.875   \n",
       "2020-01-01 23:50:00            1519.740           1518.875   \n",
       "2020-01-01 23:55:00            1519.590           1518.875   \n",
       "\n",
       "                     Senkou_span_A_norm_1X  Senkou_span_B_norm_1X  \\\n",
       "DateTime                                                            \n",
       "2010-01-01 20:15:00              1096.1125               1096.145   \n",
       "2010-01-01 20:20:00              1096.1125               1096.145   \n",
       "2010-01-01 20:25:00              1096.1125               1096.145   \n",
       "2010-01-01 20:30:00              1096.1125               1096.145   \n",
       "2010-01-01 20:35:00              1096.1125               1096.145   \n",
       "...                                    ...                    ...   \n",
       "2020-01-01 23:35:00              1518.8750               1519.315   \n",
       "2020-01-01 23:40:00              1518.8750               1518.955   \n",
       "2020-01-01 23:45:00              1519.3975               1518.875   \n",
       "2020-01-01 23:50:00              1519.3075               1518.875   \n",
       "2020-01-01 23:55:00              1519.2325               1518.875   \n",
       "\n",
       "                     Tenkan_sen_adv_1X  Kijun_sen_adv_1X  \\\n",
       "DateTime                                                   \n",
       "2010-01-01 20:15:00           1096.085          1096.150   \n",
       "2010-01-01 20:20:00           1096.085          1096.150   \n",
       "2010-01-01 20:25:00           1096.090          1096.150   \n",
       "2010-01-01 20:30:00           1096.090          1096.150   \n",
       "2010-01-01 20:35:00           1096.115          1096.150   \n",
       "...                                ...               ...   \n",
       "2020-01-01 23:35:00           1519.310          1520.040   \n",
       "2020-01-01 23:40:00           1519.300          1519.680   \n",
       "2020-01-01 23:45:00           1519.300          1519.485   \n",
       "2020-01-01 23:50:00           1519.225          1519.415   \n",
       "2020-01-01 23:55:00           1518.910          1519.280   \n",
       "\n",
       "                     Senkou_span_A_adv_1X  Senkou_span_B_adv_1X  \\\n",
       "DateTime                                                          \n",
       "2010-01-01 20:15:00             1096.1175              1096.150   \n",
       "2010-01-01 20:20:00             1096.1175              1096.150   \n",
       "2010-01-01 20:25:00             1096.1200              1096.150   \n",
       "2010-01-01 20:30:00             1096.1200              1096.150   \n",
       "2010-01-01 20:35:00             1096.1325              1096.150   \n",
       "...                                   ...                   ...   \n",
       "2020-01-01 23:35:00             1519.6750              1520.495   \n",
       "2020-01-01 23:40:00             1519.4900              1520.495   \n",
       "2020-01-01 23:45:00             1519.3925              1520.495   \n",
       "2020-01-01 23:50:00             1519.3200              1520.425   \n",
       "2020-01-01 23:55:00             1519.0950              1520.290   \n",
       "\n",
       "                     Chikou_span_adv_1X  Tenkan_sen_norm_2X  ...  \\\n",
       "DateTime                                                     ...   \n",
       "2010-01-01 20:15:00             1096.05            1096.110  ...   \n",
       "2010-01-01 20:20:00             1096.06            1096.110  ...   \n",
       "2010-01-01 20:25:00             1096.05            1096.110  ...   \n",
       "2010-01-01 20:30:00             1096.10            1096.110  ...   \n",
       "2010-01-01 20:35:00             1096.09            1096.110  ...   \n",
       "...                                 ...                 ...  ...   \n",
       "2020-01-01 23:35:00             1518.95            1518.875  ...   \n",
       "2020-01-01 23:40:00             1518.49            1518.875  ...   \n",
       "2020-01-01 23:45:00             1518.50            1518.875  ...   \n",
       "2020-01-01 23:50:00             1518.05            1518.875  ...   \n",
       "2020-01-01 23:55:00             1517.75            1518.875  ...   \n",
       "\n",
       "                     Chikou_span_adv_2X  Tenkan_sen_norm_3X  \\\n",
       "DateTime                                                      \n",
       "2010-01-01 20:15:00             1096.15            1096.110   \n",
       "2010-01-01 20:20:00             1096.10            1096.110   \n",
       "2010-01-01 20:25:00             1096.07            1096.110   \n",
       "2010-01-01 20:30:00             1096.10            1096.110   \n",
       "2010-01-01 20:35:00             1096.07            1096.110   \n",
       "...                                 ...                 ...   \n",
       "2020-01-01 23:35:00             1521.95            1518.875   \n",
       "2020-01-01 23:40:00             1521.16            1518.875   \n",
       "2020-01-01 23:45:00             1520.80            1518.875   \n",
       "2020-01-01 23:50:00             1520.23            1518.875   \n",
       "2020-01-01 23:55:00             1519.70            1518.875   \n",
       "\n",
       "                     Kijun_sen_norm_3X  Senkou_span_A_norm_3X  \\\n",
       "DateTime                                                        \n",
       "2010-01-01 20:15:00           1096.145              1096.1275   \n",
       "2010-01-01 20:20:00           1096.145              1096.1275   \n",
       "2010-01-01 20:25:00           1096.145              1096.1275   \n",
       "2010-01-01 20:30:00           1096.145              1096.1275   \n",
       "2010-01-01 20:35:00           1096.145              1096.1275   \n",
       "...                                ...                    ...   \n",
       "2020-01-01 23:35:00           1519.770              1519.3225   \n",
       "2020-01-01 23:40:00           1519.770              1519.3225   \n",
       "2020-01-01 23:45:00           1519.770              1519.3225   \n",
       "2020-01-01 23:50:00           1519.770              1519.3225   \n",
       "2020-01-01 23:55:00           1519.770              1519.3225   \n",
       "\n",
       "                     Senkou_span_B_norm_3X  Tenkan_sen_adv_3X  \\\n",
       "DateTime                                                        \n",
       "2010-01-01 20:15:00               1096.155            1096.19   \n",
       "2010-01-01 20:20:00               1096.155            1096.19   \n",
       "2010-01-01 20:25:00               1096.155            1096.19   \n",
       "2010-01-01 20:30:00               1096.155            1096.19   \n",
       "2010-01-01 20:35:00               1096.155            1096.18   \n",
       "...                                    ...                ...   \n",
       "2020-01-01 23:35:00               1520.660            1520.66   \n",
       "2020-01-01 23:40:00               1520.660            1520.66   \n",
       "2020-01-01 23:45:00               1520.660            1520.66   \n",
       "2020-01-01 23:50:00               1520.660            1520.66   \n",
       "2020-01-01 23:55:00               1520.660            1520.66   \n",
       "\n",
       "                     Kijun_sen_adv_3X  Senkou_span_A_adv_3X  \\\n",
       "DateTime                                                      \n",
       "2010-01-01 20:15:00           1096.16              1096.175   \n",
       "2010-01-01 20:20:00           1096.16              1096.175   \n",
       "2010-01-01 20:25:00           1096.16              1096.175   \n",
       "2010-01-01 20:30:00           1096.16              1096.175   \n",
       "2010-01-01 20:35:00           1096.16              1096.170   \n",
       "...                               ...                   ...   \n",
       "2020-01-01 23:35:00           1520.66              1520.660   \n",
       "2020-01-01 23:40:00           1520.66              1520.660   \n",
       "2020-01-01 23:45:00           1520.66              1520.660   \n",
       "2020-01-01 23:50:00           1520.66              1520.660   \n",
       "2020-01-01 23:55:00           1520.66              1520.660   \n",
       "\n",
       "                     Senkou_span_B_adv_3X  Chikou_span_adv_3X  \n",
       "DateTime                                                       \n",
       "2010-01-01 20:15:00              1096.105             1096.08  \n",
       "2010-01-01 20:20:00              1096.105             1096.10  \n",
       "2010-01-01 20:25:00              1096.105             1096.09  \n",
       "2010-01-01 20:30:00              1096.105             1096.07  \n",
       "2010-01-01 20:35:00              1096.105             1096.11  \n",
       "...                                   ...                 ...  \n",
       "2020-01-01 23:35:00              1520.875             1521.70  \n",
       "2020-01-01 23:40:00              1520.875             1521.20  \n",
       "2020-01-01 23:45:00              1520.875             1520.33  \n",
       "2020-01-01 23:50:00              1520.875             1520.86  \n",
       "2020-01-01 23:55:00              1520.875             1520.61  \n",
       "\n",
       "[714946 rows x 27 columns]"
      ]
     },
     "execution_count": 19,
     "metadata": {},
     "output_type": "execute_result"
    }
   ],
   "source": [
    "df[columnss]"
   ]
  },
  {
   "cell_type": "code",
   "execution_count": 20,
   "id": "f708603b",
   "metadata": {},
   "outputs": [],
   "source": [
    "x_train, x_test, y_train, y_test = train_test_split(df[columnss], df[\"Close\"], test_size=0.3)"
   ]
  },
  {
   "cell_type": "code",
   "execution_count": 21,
   "id": "b159da7c",
   "metadata": {
    "scrolled": true
   },
   "outputs": [
    {
     "data": {
      "text/plain": [
       "<bound method Model.summary of <keras.src.engine.sequential.Sequential object at 0x7f2841184eb0>>"
      ]
     },
     "execution_count": 21,
     "metadata": {},
     "output_type": "execute_result"
    }
   ],
   "source": [
    "model = keras.models.Sequential()\n",
    "model.add(keras.layers.LSTM(units=64,\n",
    "\t\t\t\t\t\t\treturn_sequences=True,\n",
    "\t\t\t\t\t\t\tinput_shape=(x_train.shape[1], 1)))\n",
    "model.add(keras.layers.LSTM(units=64))\n",
    "model.add(keras.layers.Dense(32))\n",
    "model.add(keras.layers.Dropout(0.5))\n",
    "model.add(keras.layers.Dense(1))\n",
    "model.summary()\n"
   ]
  },
  {
   "cell_type": "code",
   "execution_count": 23,
   "id": "f312ff67",
   "metadata": {},
   "outputs": [
    {
     "name": "stdout",
     "output_type": "stream",
     "text": [
      "Model: \"sequential_1\"\n",
      "_________________________________________________________________\n",
      " Layer (type)                Output Shape              Param #   \n",
      "=================================================================\n",
      " lstm (LSTM)                 (None, 27, 64)            16896     \n",
      "                                                                 \n",
      " lstm_1 (LSTM)               (None, 64)                33024     \n",
      "                                                                 \n",
      " dense (Dense)               (None, 32)                2080      \n",
      "                                                                 \n",
      " dropout (Dropout)           (None, 32)                0         \n",
      "                                                                 \n",
      " dense_1 (Dense)             (None, 1)                 33        \n",
      "                                                                 \n",
      "=================================================================\n",
      "Total params: 52033 (203.25 KB)\n",
      "Trainable params: 52033 (203.25 KB)\n",
      "Non-trainable params: 0 (0.00 Byte)\n",
      "_________________________________________________________________\n"
     ]
    }
   ],
   "source": [
    "model.summary()"
   ]
  },
  {
   "cell_type": "code",
   "execution_count": 25,
   "id": "395ffc08",
   "metadata": {},
   "outputs": [
    {
     "name": "stdout",
     "output_type": "stream",
     "text": [
      "Epoch 1/8\n"
     ]
    },
    {
     "name": "stderr",
     "output_type": "stream",
     "text": [
      "2023-10-10 20:27:50.476911: W tensorflow/tsl/framework/cpu_allocator_impl.cc:83] Allocation of 108099792 exceeds 10% of free system memory.\n"
     ]
    },
    {
     "name": "stdout",
     "output_type": "stream",
     "text": [
      "15640/15640 [==============================] - 328s 21ms/step - loss: 85455.8281\n",
      "Epoch 2/8\n",
      "12973/15640 [=======================>......] - ETA: 58s - loss: 84619.3750"
     ]
    },
    {
     "ename": "KeyboardInterrupt",
     "evalue": "",
     "output_type": "error",
     "traceback": [
      "\u001b[0;31m---------------------------------------------------------------------------\u001b[0m",
      "\u001b[0;31mKeyboardInterrupt\u001b[0m                         Traceback (most recent call last)",
      "Cell \u001b[0;32mIn[25], line 3\u001b[0m\n\u001b[1;32m      1\u001b[0m model\u001b[38;5;241m.\u001b[39mcompile(optimizer\u001b[38;5;241m=\u001b[39m\u001b[38;5;124m'\u001b[39m\u001b[38;5;124madam\u001b[39m\u001b[38;5;124m'\u001b[39m,\n\u001b[1;32m      2\u001b[0m \t\t\tloss\u001b[38;5;241m=\u001b[39m\u001b[38;5;124m'\u001b[39m\u001b[38;5;124mmean_squared_error\u001b[39m\u001b[38;5;124m'\u001b[39m)\n\u001b[0;32m----> 3\u001b[0m history \u001b[38;5;241m=\u001b[39m \u001b[43mmodel\u001b[49m\u001b[38;5;241;43m.\u001b[39;49m\u001b[43mfit\u001b[49m\u001b[43m(\u001b[49m\u001b[43mx_train\u001b[49m\u001b[43m,\u001b[49m\n\u001b[1;32m      4\u001b[0m \u001b[43m\t\t\t\t\t\u001b[49m\u001b[43my_train\u001b[49m\u001b[43m,\u001b[49m\n\u001b[1;32m      5\u001b[0m \u001b[43m\t\t\t\t\t\u001b[49m\u001b[43mepochs\u001b[49m\u001b[38;5;241;43m=\u001b[39;49m\u001b[38;5;241;43m8\u001b[39;49m\u001b[43m)\u001b[49m\n",
      "File \u001b[0;32m~/anaconda3/envs/data-science-envs/lib/python3.8/site-packages/keras/src/utils/traceback_utils.py:65\u001b[0m, in \u001b[0;36mfilter_traceback.<locals>.error_handler\u001b[0;34m(*args, **kwargs)\u001b[0m\n\u001b[1;32m     63\u001b[0m filtered_tb \u001b[38;5;241m=\u001b[39m \u001b[38;5;28;01mNone\u001b[39;00m\n\u001b[1;32m     64\u001b[0m \u001b[38;5;28;01mtry\u001b[39;00m:\n\u001b[0;32m---> 65\u001b[0m     \u001b[38;5;28;01mreturn\u001b[39;00m \u001b[43mfn\u001b[49m\u001b[43m(\u001b[49m\u001b[38;5;241;43m*\u001b[39;49m\u001b[43margs\u001b[49m\u001b[43m,\u001b[49m\u001b[43m \u001b[49m\u001b[38;5;241;43m*\u001b[39;49m\u001b[38;5;241;43m*\u001b[39;49m\u001b[43mkwargs\u001b[49m\u001b[43m)\u001b[49m\n\u001b[1;32m     66\u001b[0m \u001b[38;5;28;01mexcept\u001b[39;00m \u001b[38;5;167;01mException\u001b[39;00m \u001b[38;5;28;01mas\u001b[39;00m e:\n\u001b[1;32m     67\u001b[0m     filtered_tb \u001b[38;5;241m=\u001b[39m _process_traceback_frames(e\u001b[38;5;241m.\u001b[39m__traceback__)\n",
      "File \u001b[0;32m~/anaconda3/envs/data-science-envs/lib/python3.8/site-packages/keras/src/engine/training.py:1742\u001b[0m, in \u001b[0;36mModel.fit\u001b[0;34m(self, x, y, batch_size, epochs, verbose, callbacks, validation_split, validation_data, shuffle, class_weight, sample_weight, initial_epoch, steps_per_epoch, validation_steps, validation_batch_size, validation_freq, max_queue_size, workers, use_multiprocessing)\u001b[0m\n\u001b[1;32m   1734\u001b[0m \u001b[38;5;28;01mwith\u001b[39;00m tf\u001b[38;5;241m.\u001b[39mprofiler\u001b[38;5;241m.\u001b[39mexperimental\u001b[38;5;241m.\u001b[39mTrace(\n\u001b[1;32m   1735\u001b[0m     \u001b[38;5;124m\"\u001b[39m\u001b[38;5;124mtrain\u001b[39m\u001b[38;5;124m\"\u001b[39m,\n\u001b[1;32m   1736\u001b[0m     epoch_num\u001b[38;5;241m=\u001b[39mepoch,\n\u001b[0;32m   (...)\u001b[0m\n\u001b[1;32m   1739\u001b[0m     _r\u001b[38;5;241m=\u001b[39m\u001b[38;5;241m1\u001b[39m,\n\u001b[1;32m   1740\u001b[0m ):\n\u001b[1;32m   1741\u001b[0m     callbacks\u001b[38;5;241m.\u001b[39mon_train_batch_begin(step)\n\u001b[0;32m-> 1742\u001b[0m     tmp_logs \u001b[38;5;241m=\u001b[39m \u001b[38;5;28;43mself\u001b[39;49m\u001b[38;5;241;43m.\u001b[39;49m\u001b[43mtrain_function\u001b[49m\u001b[43m(\u001b[49m\u001b[43miterator\u001b[49m\u001b[43m)\u001b[49m\n\u001b[1;32m   1743\u001b[0m     \u001b[38;5;28;01mif\u001b[39;00m data_handler\u001b[38;5;241m.\u001b[39mshould_sync:\n\u001b[1;32m   1744\u001b[0m         context\u001b[38;5;241m.\u001b[39masync_wait()\n",
      "File \u001b[0;32m~/anaconda3/envs/data-science-envs/lib/python3.8/site-packages/tensorflow/python/util/traceback_utils.py:150\u001b[0m, in \u001b[0;36mfilter_traceback.<locals>.error_handler\u001b[0;34m(*args, **kwargs)\u001b[0m\n\u001b[1;32m    148\u001b[0m filtered_tb \u001b[38;5;241m=\u001b[39m \u001b[38;5;28;01mNone\u001b[39;00m\n\u001b[1;32m    149\u001b[0m \u001b[38;5;28;01mtry\u001b[39;00m:\n\u001b[0;32m--> 150\u001b[0m   \u001b[38;5;28;01mreturn\u001b[39;00m \u001b[43mfn\u001b[49m\u001b[43m(\u001b[49m\u001b[38;5;241;43m*\u001b[39;49m\u001b[43margs\u001b[49m\u001b[43m,\u001b[49m\u001b[43m \u001b[49m\u001b[38;5;241;43m*\u001b[39;49m\u001b[38;5;241;43m*\u001b[39;49m\u001b[43mkwargs\u001b[49m\u001b[43m)\u001b[49m\n\u001b[1;32m    151\u001b[0m \u001b[38;5;28;01mexcept\u001b[39;00m \u001b[38;5;167;01mException\u001b[39;00m \u001b[38;5;28;01mas\u001b[39;00m e:\n\u001b[1;32m    152\u001b[0m   filtered_tb \u001b[38;5;241m=\u001b[39m _process_traceback_frames(e\u001b[38;5;241m.\u001b[39m__traceback__)\n",
      "File \u001b[0;32m~/anaconda3/envs/data-science-envs/lib/python3.8/site-packages/tensorflow/python/eager/polymorphic_function/polymorphic_function.py:825\u001b[0m, in \u001b[0;36mFunction.__call__\u001b[0;34m(self, *args, **kwds)\u001b[0m\n\u001b[1;32m    822\u001b[0m compiler \u001b[38;5;241m=\u001b[39m \u001b[38;5;124m\"\u001b[39m\u001b[38;5;124mxla\u001b[39m\u001b[38;5;124m\"\u001b[39m \u001b[38;5;28;01mif\u001b[39;00m \u001b[38;5;28mself\u001b[39m\u001b[38;5;241m.\u001b[39m_jit_compile \u001b[38;5;28;01melse\u001b[39;00m \u001b[38;5;124m\"\u001b[39m\u001b[38;5;124mnonXla\u001b[39m\u001b[38;5;124m\"\u001b[39m\n\u001b[1;32m    824\u001b[0m \u001b[38;5;28;01mwith\u001b[39;00m OptionalXlaContext(\u001b[38;5;28mself\u001b[39m\u001b[38;5;241m.\u001b[39m_jit_compile):\n\u001b[0;32m--> 825\u001b[0m   result \u001b[38;5;241m=\u001b[39m \u001b[38;5;28;43mself\u001b[39;49m\u001b[38;5;241;43m.\u001b[39;49m\u001b[43m_call\u001b[49m\u001b[43m(\u001b[49m\u001b[38;5;241;43m*\u001b[39;49m\u001b[43margs\u001b[49m\u001b[43m,\u001b[49m\u001b[43m \u001b[49m\u001b[38;5;241;43m*\u001b[39;49m\u001b[38;5;241;43m*\u001b[39;49m\u001b[43mkwds\u001b[49m\u001b[43m)\u001b[49m\n\u001b[1;32m    827\u001b[0m new_tracing_count \u001b[38;5;241m=\u001b[39m \u001b[38;5;28mself\u001b[39m\u001b[38;5;241m.\u001b[39mexperimental_get_tracing_count()\n\u001b[1;32m    828\u001b[0m without_tracing \u001b[38;5;241m=\u001b[39m (tracing_count \u001b[38;5;241m==\u001b[39m new_tracing_count)\n",
      "File \u001b[0;32m~/anaconda3/envs/data-science-envs/lib/python3.8/site-packages/tensorflow/python/eager/polymorphic_function/polymorphic_function.py:857\u001b[0m, in \u001b[0;36mFunction._call\u001b[0;34m(self, *args, **kwds)\u001b[0m\n\u001b[1;32m    854\u001b[0m   \u001b[38;5;28mself\u001b[39m\u001b[38;5;241m.\u001b[39m_lock\u001b[38;5;241m.\u001b[39mrelease()\n\u001b[1;32m    855\u001b[0m   \u001b[38;5;66;03m# In this case we have created variables on the first call, so we run the\u001b[39;00m\n\u001b[1;32m    856\u001b[0m   \u001b[38;5;66;03m# defunned version which is guaranteed to never create variables.\u001b[39;00m\n\u001b[0;32m--> 857\u001b[0m   \u001b[38;5;28;01mreturn\u001b[39;00m \u001b[38;5;28;43mself\u001b[39;49m\u001b[38;5;241;43m.\u001b[39;49m\u001b[43m_no_variable_creation_fn\u001b[49m\u001b[43m(\u001b[49m\u001b[38;5;241;43m*\u001b[39;49m\u001b[43margs\u001b[49m\u001b[43m,\u001b[49m\u001b[43m \u001b[49m\u001b[38;5;241;43m*\u001b[39;49m\u001b[38;5;241;43m*\u001b[39;49m\u001b[43mkwds\u001b[49m\u001b[43m)\u001b[49m  \u001b[38;5;66;03m# pylint: disable=not-callable\u001b[39;00m\n\u001b[1;32m    858\u001b[0m \u001b[38;5;28;01melif\u001b[39;00m \u001b[38;5;28mself\u001b[39m\u001b[38;5;241m.\u001b[39m_variable_creation_fn \u001b[38;5;129;01mis\u001b[39;00m \u001b[38;5;129;01mnot\u001b[39;00m \u001b[38;5;28;01mNone\u001b[39;00m:\n\u001b[1;32m    859\u001b[0m   \u001b[38;5;66;03m# Release the lock early so that multiple threads can perform the call\u001b[39;00m\n\u001b[1;32m    860\u001b[0m   \u001b[38;5;66;03m# in parallel.\u001b[39;00m\n\u001b[1;32m    861\u001b[0m   \u001b[38;5;28mself\u001b[39m\u001b[38;5;241m.\u001b[39m_lock\u001b[38;5;241m.\u001b[39mrelease()\n",
      "File \u001b[0;32m~/anaconda3/envs/data-science-envs/lib/python3.8/site-packages/tensorflow/python/eager/polymorphic_function/tracing_compiler.py:147\u001b[0m, in \u001b[0;36mTracingCompiler.__call__\u001b[0;34m(self, *args, **kwargs)\u001b[0m\n\u001b[1;32m    144\u001b[0m \u001b[38;5;250m\u001b[39m\u001b[38;5;124;03m\"\"\"Calls a graph function specialized to the inputs.\"\"\"\u001b[39;00m\n\u001b[1;32m    145\u001b[0m \u001b[38;5;28;01mwith\u001b[39;00m \u001b[38;5;28mself\u001b[39m\u001b[38;5;241m.\u001b[39m_lock:\n\u001b[1;32m    146\u001b[0m   (concrete_function,\n\u001b[0;32m--> 147\u001b[0m    filtered_flat_args) \u001b[38;5;241m=\u001b[39m \u001b[38;5;28;43mself\u001b[39;49m\u001b[38;5;241;43m.\u001b[39;49m\u001b[43m_maybe_define_function\u001b[49m\u001b[43m(\u001b[49m\u001b[43margs\u001b[49m\u001b[43m,\u001b[49m\u001b[43m \u001b[49m\u001b[43mkwargs\u001b[49m\u001b[43m)\u001b[49m\n\u001b[1;32m    148\u001b[0m \u001b[38;5;28;01mreturn\u001b[39;00m concrete_function\u001b[38;5;241m.\u001b[39m_call_flat(\n\u001b[1;32m    149\u001b[0m     filtered_flat_args, captured_inputs\u001b[38;5;241m=\u001b[39mconcrete_function\u001b[38;5;241m.\u001b[39mcaptured_inputs)\n",
      "File \u001b[0;32m~/anaconda3/envs/data-science-envs/lib/python3.8/site-packages/tensorflow/python/eager/polymorphic_function/tracing_compiler.py:359\u001b[0m, in \u001b[0;36mTracingCompiler._maybe_define_function\u001b[0;34m(self, args, kwargs)\u001b[0m\n\u001b[1;32m    353\u001b[0m current_func_context \u001b[38;5;241m=\u001b[39m function_context\u001b[38;5;241m.\u001b[39mmake_function_context()\n\u001b[1;32m    355\u001b[0m \u001b[38;5;66;03m# cache_key_deletion_observer is useless here. It's based on all captures.\u001b[39;00m\n\u001b[1;32m    356\u001b[0m \u001b[38;5;66;03m# A new cache key will be built later when saving ConcreteFunction because\u001b[39;00m\n\u001b[1;32m    357\u001b[0m \u001b[38;5;66;03m# only active captures should be saved.\u001b[39;00m\n\u001b[1;32m    358\u001b[0m lookup_func_type, lookup_func_context \u001b[38;5;241m=\u001b[39m (\n\u001b[0;32m--> 359\u001b[0m     \u001b[38;5;28;43mself\u001b[39;49m\u001b[38;5;241;43m.\u001b[39;49m\u001b[43m_function_spec\u001b[49m\u001b[38;5;241;43m.\u001b[39;49m\u001b[43mmake_canonicalized_monomorphic_type\u001b[49m\u001b[43m(\u001b[49m\n\u001b[1;32m    360\u001b[0m \u001b[43m        \u001b[49m\u001b[43margs\u001b[49m\u001b[43m,\u001b[49m\u001b[43m \u001b[49m\u001b[43mkwargs\u001b[49m\u001b[43m,\u001b[49m\u001b[43m \u001b[49m\u001b[43mcaptures\u001b[49m\u001b[43m)\u001b[49m)\n\u001b[1;32m    361\u001b[0m concrete_function \u001b[38;5;241m=\u001b[39m \u001b[38;5;28mself\u001b[39m\u001b[38;5;241m.\u001b[39m_function_cache\u001b[38;5;241m.\u001b[39mlookup(current_func_context,\n\u001b[1;32m    362\u001b[0m                                                 lookup_func_type)\n\u001b[1;32m    363\u001b[0m \u001b[38;5;28;01mif\u001b[39;00m concrete_function \u001b[38;5;129;01mis\u001b[39;00m \u001b[38;5;129;01mnot\u001b[39;00m \u001b[38;5;28;01mNone\u001b[39;00m:\n",
      "File \u001b[0;32m~/anaconda3/envs/data-science-envs/lib/python3.8/site-packages/tensorflow/python/eager/polymorphic_function/function_spec.py:324\u001b[0m, in \u001b[0;36mFunctionSpec.make_canonicalized_monomorphic_type\u001b[0;34m(self, args, kwargs, captures)\u001b[0m\n\u001b[1;32m    316\u001b[0m   captures \u001b[38;5;241m=\u001b[39m \u001b[38;5;28mdict\u001b[39m()\n\u001b[1;32m    318\u001b[0m kwargs \u001b[38;5;241m=\u001b[39m {\n\u001b[1;32m    319\u001b[0m     function_type_lib\u001b[38;5;241m.\u001b[39msanitize_arg_name(name): value\n\u001b[1;32m    320\u001b[0m     \u001b[38;5;28;01mfor\u001b[39;00m name, value \u001b[38;5;129;01min\u001b[39;00m kwargs\u001b[38;5;241m.\u001b[39mitems()\n\u001b[1;32m    321\u001b[0m }\n\u001b[1;32m    323\u001b[0m _, function_type, type_context \u001b[38;5;241m=\u001b[39m (\n\u001b[0;32m--> 324\u001b[0m     \u001b[43mfunction_type_lib\u001b[49m\u001b[38;5;241;43m.\u001b[39;49m\u001b[43mcanonicalize_to_monomorphic\u001b[49m\u001b[43m(\u001b[49m\n\u001b[1;32m    325\u001b[0m \u001b[43m        \u001b[49m\u001b[43margs\u001b[49m\u001b[43m,\u001b[49m\u001b[43m \u001b[49m\u001b[43mkwargs\u001b[49m\u001b[43m,\u001b[49m\u001b[43m \u001b[49m\u001b[38;5;28;43mself\u001b[39;49m\u001b[38;5;241;43m.\u001b[39;49m\u001b[43mdefault_values\u001b[49m\u001b[43m,\u001b[49m\u001b[43m \u001b[49m\u001b[43mcaptures\u001b[49m\u001b[43m,\u001b[49m\u001b[43m \u001b[49m\u001b[38;5;28;43mself\u001b[39;49m\u001b[38;5;241;43m.\u001b[39;49m\u001b[43mfunction_type\u001b[49m\n\u001b[1;32m    326\u001b[0m \u001b[43m    \u001b[49m\u001b[43m)\u001b[49m\n\u001b[1;32m    327\u001b[0m )\n\u001b[1;32m    329\u001b[0m \u001b[38;5;28;01mreturn\u001b[39;00m function_type, type_context\n",
      "File \u001b[0;32m~/anaconda3/envs/data-science-envs/lib/python3.8/site-packages/tensorflow/core/function/polymorphism/function_type.py:434\u001b[0m, in \u001b[0;36mcanonicalize_to_monomorphic\u001b[0;34m(args, kwargs, default_values, captures, polymorphic_type)\u001b[0m\n\u001b[1;32m    430\u001b[0m type_context \u001b[38;5;241m=\u001b[39m trace_type\u001b[38;5;241m.\u001b[39mInternalTracingContext()\n\u001b[1;32m    431\u001b[0m has_var_positional \u001b[38;5;241m=\u001b[39m \u001b[38;5;28many\u001b[39m(p\u001b[38;5;241m.\u001b[39mkind \u001b[38;5;129;01mis\u001b[39;00m Parameter\u001b[38;5;241m.\u001b[39mVAR_POSITIONAL\n\u001b[1;32m    432\u001b[0m                          \u001b[38;5;28;01mfor\u001b[39;00m p \u001b[38;5;129;01min\u001b[39;00m polymorphic_type\u001b[38;5;241m.\u001b[39mparameters\u001b[38;5;241m.\u001b[39mvalues())\n\u001b[0;32m--> 434\u001b[0m \u001b[38;5;28;01mfor\u001b[39;00m name, arg \u001b[38;5;129;01min\u001b[39;00m poly_bound_arguments\u001b[38;5;241m.\u001b[39marguments\u001b[38;5;241m.\u001b[39mitems():\n\u001b[1;32m    435\u001b[0m   poly_parameter \u001b[38;5;241m=\u001b[39m polymorphic_type\u001b[38;5;241m.\u001b[39mparameters[name]\n\u001b[1;32m    436\u001b[0m   \u001b[38;5;28;01mif\u001b[39;00m (has_var_positional \u001b[38;5;129;01mand\u001b[39;00m\n\u001b[1;32m    437\u001b[0m       poly_parameter\u001b[38;5;241m.\u001b[39mkind \u001b[38;5;129;01mis\u001b[39;00m Parameter\u001b[38;5;241m.\u001b[39mPOSITIONAL_OR_KEYWORD):\n\u001b[1;32m    438\u001b[0m     \u001b[38;5;66;03m# If there is a VAR_POSITIONAL, all POSITIONAL_OR_KEYWORD become\u001b[39;00m\n\u001b[1;32m    439\u001b[0m     \u001b[38;5;66;03m# POSITIONAL_ONLY.\u001b[39;00m\n",
      "\u001b[0;31mKeyboardInterrupt\u001b[0m: "
     ]
    }
   ],
   "source": [
    "model.compile(optimizer='adam',\n",
    "\t\t\tloss='mean_squared_error')\n",
    "history = model.fit(x_train,\n",
    "\t\t\t\t\ty_train,\n",
    "\t\t\t\t\tepochs=8)\n"
   ]
  },
  {
   "cell_type": "code",
   "execution_count": 26,
   "id": "48221252",
   "metadata": {},
   "outputs": [
    {
     "name": "stderr",
     "output_type": "stream",
     "text": [
      "2023-10-10 20:38:11.054626: W tensorflow/tsl/framework/cpu_allocator_impl.cc:83] Allocation of 46328544 exceeds 10% of free system memory.\n"
     ]
    },
    {
     "name": "stdout",
     "output_type": "stream",
     "text": [
      "6703/6703 [==============================] - 64s 9ms/step\n"
     ]
    },
    {
     "ename": "NameError",
     "evalue": "name 'scaler' is not defined",
     "output_type": "error",
     "traceback": [
      "\u001b[0;31m---------------------------------------------------------------------------\u001b[0m",
      "\u001b[0;31mNameError\u001b[0m                                 Traceback (most recent call last)",
      "Cell \u001b[0;32mIn[26], line 2\u001b[0m\n\u001b[1;32m      1\u001b[0m predictions \u001b[38;5;241m=\u001b[39m model\u001b[38;5;241m.\u001b[39mpredict(x_test)\n\u001b[0;32m----> 2\u001b[0m predictions \u001b[38;5;241m=\u001b[39m \u001b[43mscaler\u001b[49m\u001b[38;5;241m.\u001b[39minverse_transform(predictions)\n\u001b[1;32m      4\u001b[0m \u001b[38;5;66;03m# evaluation metrics\u001b[39;00m\n\u001b[1;32m      5\u001b[0m mse \u001b[38;5;241m=\u001b[39m np\u001b[38;5;241m.\u001b[39mmean(((predictions \u001b[38;5;241m-\u001b[39m y_test) \u001b[38;5;241m*\u001b[39m\u001b[38;5;241m*\u001b[39m \u001b[38;5;241m2\u001b[39m))\n",
      "\u001b[0;31mNameError\u001b[0m: name 'scaler' is not defined"
     ]
    }
   ],
   "source": [
    "predictions = model.predict(x_test)\n",
    "predictions = scaler.inverse_transform(predictions)\n",
    " \n",
    "# evaluation metrics\n",
    "mse = np.mean(((predictions - y_test) ** 2))\n",
    "print(\"MSE\", mse)\n",
    "print(\"RMSE\", np.sqrt(mse))"
   ]
  },
  {
   "cell_type": "code",
   "execution_count": null,
   "id": "4b308794",
   "metadata": {},
   "outputs": [],
   "source": []
  }
 ],
 "metadata": {
  "kernelspec": {
   "display_name": "Python 3 (ipykernel)",
   "language": "python",
   "name": "python3"
  },
  "language_info": {
   "codemirror_mode": {
    "name": "ipython",
    "version": 3
   },
   "file_extension": ".py",
   "mimetype": "text/x-python",
   "name": "python",
   "nbconvert_exporter": "python",
   "pygments_lexer": "ipython3",
   "version": "3.8.18"
  }
 },
 "nbformat": 4,
 "nbformat_minor": 5
}
